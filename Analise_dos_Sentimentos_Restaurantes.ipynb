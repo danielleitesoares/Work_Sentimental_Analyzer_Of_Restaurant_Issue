{
  "nbformat": 4,
  "nbformat_minor": 0,
  "metadata": {
    "colab": {
      "name": "Analise dos Sentimentos- Restaurantes.ipynb",
      "provenance": [],
      "authorship_tag": "ABX9TyPsOIdMYqlidPbjXzGIFybT",
      "include_colab_link": true
    },
    "kernelspec": {
      "name": "python3",
      "display_name": "Python 3"
    }
  },
  "cells": [
    {
      "cell_type": "markdown",
      "metadata": {
        "id": "view-in-github",
        "colab_type": "text"
      },
      "source": [
        "<a href=\"https://colab.research.google.com/github/danielleitesoares/Work_Sentimental_Analyzer_Of_Restaurant_Issue/blob/main/Analise_dos_Sentimentos_Restaurantes.ipynb\" target=\"_parent\"><img src=\"https://colab.research.google.com/assets/colab-badge.svg\" alt=\"Open In Colab\"/></a>"
      ]
    },
    {
      "cell_type": "markdown",
      "metadata": {
        "id": "zcrucn3likWJ"
      },
      "source": [
        "# Analise de Sentimentos Restaurantes \n",
        "> Equipe: Leonardo Rocha, Paulo Correa e Daniel Soares\n",
        "> Turma 02\n",
        "\n",
        "\n",
        "\n"
      ]
    },
    {
      "cell_type": "markdown",
      "metadata": {
        "id": "vFx9NH6oiqjk"
      },
      "source": [
        "### 1. Exibindo dados do Arquivo dataset-v2.dat"
      ]
    },
    {
      "cell_type": "code",
      "metadata": {
        "id": "_cGskUAfjzGl",
        "outputId": "6216cfdf-0a78-4c32-ef4c-6cd65dca5b79",
        "colab": {
          "base_uri": "https://localhost:8080/"
        }
      },
      "source": [
        "from google.colab import drive\n",
        "drive.mount('/content/drive')"
      ],
      "execution_count": 1,
      "outputs": [
        {
          "output_type": "stream",
          "text": [
            "Mounted at /content/drive\n"
          ],
          "name": "stdout"
        }
      ]
    },
    {
      "cell_type": "code",
      "metadata": {
        "id": "jUZ_LJZlk4GC"
      },
      "source": [
        "import pandas as pd"
      ],
      "execution_count": 5,
      "outputs": []
    },
    {
      "cell_type": "code",
      "metadata": {
        "id": "56QZpnN_iY10",
        "outputId": "66000e10-6beb-4b00-adfd-b6d5d4c0521a",
        "colab": {
          "base_uri": "https://localhost:8080/",
          "height": 391
        }
      },
      "source": [
        "cols = ['title','reviewId', 'restaurantId','author','reviewBody','language','mobileDevice','userLocation','publicationDate','visitDate','ratingValue','itemReviewed','address','addressLocality','addressRegion','postalCode','country','website','email','phoneNumber','averageRating']\n",
        "dados = pd.read_csv('/content/drive/My Drive/dataset-v2.dat', names= cols, engine = 'python', delimiter='\",\"', skiprows=0)\n",
        "dados.head()"
      ],
      "execution_count": 8,
      "outputs": [
        {
          "output_type": "execute_result",
          "data": {
            "text/html": [
              "<div>\n",
              "<style scoped>\n",
              "    .dataframe tbody tr th:only-of-type {\n",
              "        vertical-align: middle;\n",
              "    }\n",
              "\n",
              "    .dataframe tbody tr th {\n",
              "        vertical-align: top;\n",
              "    }\n",
              "\n",
              "    .dataframe thead th {\n",
              "        text-align: right;\n",
              "    }\n",
              "</style>\n",
              "<table border=\"1\" class=\"dataframe\">\n",
              "  <thead>\n",
              "    <tr style=\"text-align: right;\">\n",
              "      <th></th>\n",
              "      <th>title</th>\n",
              "      <th>reviewId</th>\n",
              "      <th>restaurantId</th>\n",
              "      <th>author</th>\n",
              "      <th>reviewBody</th>\n",
              "      <th>language</th>\n",
              "      <th>mobileDevice</th>\n",
              "      <th>userLocation</th>\n",
              "      <th>publicationDate</th>\n",
              "      <th>visitDate</th>\n",
              "      <th>ratingValue</th>\n",
              "      <th>itemReviewed</th>\n",
              "      <th>address</th>\n",
              "      <th>addressLocality</th>\n",
              "      <th>addressRegion</th>\n",
              "      <th>postalCode</th>\n",
              "      <th>country</th>\n",
              "      <th>website</th>\n",
              "      <th>email</th>\n",
              "      <th>phoneNumber</th>\n",
              "      <th>averageRating</th>\n",
              "    </tr>\n",
              "  </thead>\n",
              "  <tbody>\n",
              "    <tr>\n",
              "      <th>0</th>\n",
              "      <td>{\"title\":\"Jantar</td>\n",
              "      <td>reviewId\":\"692856288</td>\n",
              "      <td>restaurantId\":\"2344932</td>\n",
              "      <td>author\":\"larinhavercosa222</td>\n",
              "      <td>reviewBody\":\"Comida maravilhosa, lugar do verd...</td>\n",
              "      <td>language\":\"pt</td>\n",
              "      <td>mobileDevice\":\"True</td>\n",
              "      <td>userLocation\":\"São Carlos, SP</td>\n",
              "      <td>publicationDate\":\"26/07/2019</td>\n",
              "      <td>visitDate\":\"07/2019</td>\n",
              "      <td>ratingValue\":\"5</td>\n",
              "      <td>itemReviewed\":{\"name\":\"Imperador dos Camar\\u00...</td>\n",
              "      <td>address\":{\"streetAddress\":\"Avenida Doutor Ant\\...</td>\n",
              "      <td>addressLocality\":\"</td>\n",
              "      <td>addressRegion\":\"Alagoas</td>\n",
              "      <td>postalCode\":\"57030-170</td>\n",
              "      <td>country\":\"Brasil\"},\"website\":\"http://www.imper...</td>\n",
              "      <td>email\":\"contato@imperadordoscamaroes.com.br</td>\n",
              "      <td>phoneNumber\":\"+55 82 3231-4134</td>\n",
              "      <td>averageRating\":\"4.5\"}}</td>\n",
              "      <td>NaN</td>\n",
              "    </tr>\n",
              "    <tr>\n",
              "      <th>1</th>\n",
              "      <td>{\"title\":\"Uma boa experi\\u00EAncia.</td>\n",
              "      <td>reviewId\":\"229208487</td>\n",
              "      <td>restaurantId\":\"3720906</td>\n",
              "      <td>author\":\"Pano P</td>\n",
              "      <td>reviewBody\":\"Comida boa, drinks legais e um am...</td>\n",
              "      <td>language\":\"pt</td>\n",
              "      <td>mobileDevice\":\"True</td>\n",
              "      <td>userLocation\":\"Manaus, AM</td>\n",
              "      <td>publicationDate\":\"16/09/2014</td>\n",
              "      <td>visitDate\":\"None</td>\n",
              "      <td>ratingValue\":\"4</td>\n",
              "      <td>itemReviewed\":{\"name\":\"Guacamole Natal</td>\n",
              "      <td>address\":{\"streetAddress\":\"Avenida Praia de Po...</td>\n",
              "      <td>addressLocality\":\"</td>\n",
              "      <td>addressRegion\":\"Rio Grande do Norte</td>\n",
              "      <td>postalCode\":\"59092-100</td>\n",
              "      <td>country\":\"Brasil\"},\"website\":\"http://www.faceb...</td>\n",
              "      <td>email\":\"guacamolenatal@gmail.com</td>\n",
              "      <td>phoneNumber\":\"+55 84 3219-3646</td>\n",
              "      <td>averageRating\":\"4.5\"}}</td>\n",
              "      <td>NaN</td>\n",
              "    </tr>\n",
              "    <tr>\n",
              "      <th>2</th>\n",
              "      <td>{\"title\":\"Otimo self service</td>\n",
              "      <td>reviewId\":\"679002332</td>\n",
              "      <td>restaurantId\":\"2248105</td>\n",
              "      <td>author\":\"Magma100</td>\n",
              "      <td>reviewBody\":\"Excelente pra ir com a fam\\u00EDl...</td>\n",
              "      <td>language\":\"pt</td>\n",
              "      <td>mobileDevice\":\"True</td>\n",
              "      <td>userLocation\":\"Goiânia, GO</td>\n",
              "      <td>publicationDate\":\"04/06/2019</td>\n",
              "      <td>visitDate\":\"07/2018</td>\n",
              "      <td>ratingValue\":\"4</td>\n",
              "      <td>itemReviewed\":{\"name\":\"Chica Pitanga</td>\n",
              "      <td>address\":{\"streetAddress\":\"Rua Petrolina 19</td>\n",
              "      <td>addressLocality\":\"Recife</td>\n",
              "      <td>addressRegion\":\"Pernambuco</td>\n",
              "      <td>postalCode\":\"51021-250</td>\n",
              "      <td>country\":\"Brasil\"},\"website\":\"http://www.chica...</td>\n",
              "      <td>email\":\"chicapitanga@chicapitanga.com.br</td>\n",
              "      <td>phoneNumber\":\"+55 81 3334-8260</td>\n",
              "      <td>averageRating\":\"4.5\"}}</td>\n",
              "      <td>NaN</td>\n",
              "    </tr>\n",
              "    <tr>\n",
              "      <th>3</th>\n",
              "      <td>{\"title\":\"O sorvete mais tradicional do estado</td>\n",
              "      <td>reviewId\":\"355671519</td>\n",
              "      <td>restaurantId\":\"8168302</td>\n",
              "      <td>author\":\"Yurie M</td>\n",
              "      <td>reviewBody\":\"Tomo sorvete na Visabor faz mais ...</td>\n",
              "      <td>language\":\"pt</td>\n",
              "      <td>mobileDevice\":\"False</td>\n",
              "      <td>userLocation\":\"Aracaju, SE</td>\n",
              "      <td>publicationDate\":\"15/03/2016</td>\n",
              "      <td>visitDate\":\"01/2016</td>\n",
              "      <td>ratingValue\":\"5</td>\n",
              "      <td>itemReviewed\":{\"name\":\"Sorvetes Vi Sabor</td>\n",
              "      <td>address\":{\"streetAddress\":\"Avenida Francisco P...</td>\n",
              "      <td>addressLocality\":\"Aracaju</td>\n",
              "      <td>addressRegion\":\"Sergipe</td>\n",
              "      <td>postalCode\":\"</td>\n",
              "      <td>country\":\"Brasil\"},\"website\":\"None</td>\n",
              "      <td>email\":\"None</td>\n",
              "      <td>phoneNumber\":\"None</td>\n",
              "      <td>averageRating\":\"4.0\"}}</td>\n",
              "      <td>NaN</td>\n",
              "    </tr>\n",
              "    <tr>\n",
              "      <th>4</th>\n",
              "      <td>{\"title\":\"Melhor hamburger!</td>\n",
              "      <td>reviewId\":\"268741921</td>\n",
              "      <td>restaurantId\":\"5395141</td>\n",
              "      <td>author\":\"Debora_C85</td>\n",
              "      <td>reviewBody\":\"O melhor hamburger que j\\u00E1 co...</td>\n",
              "      <td>language\":\"pt</td>\n",
              "      <td>mobileDevice\":\"False</td>\n",
              "      <td>userLocation\":\"Rio de Janeiro, RJ</td>\n",
              "      <td>publicationDate\":\"28/04/2015</td>\n",
              "      <td>visitDate\":\"04/2015</td>\n",
              "      <td>ratingValue\":\"5</td>\n",
              "      <td>itemReviewed\":{\"name\":\"Z Deli Sandwich Shop</td>\n",
              "      <td>address\":{\"streetAddress\":\"Rua Haddock Lobo 13...</td>\n",
              "      <td>addressLocality\":\"S\\u00E3o Paulo</td>\n",
              "      <td>addressRegion\":\"Estado de S\\u00E3o Paulo</td>\n",
              "      <td>postalCode\":\"01414-002</td>\n",
              "      <td>country\":\"Brasil\"},\"website\":\"http://www.faceb...</td>\n",
              "      <td>email\":\"None</td>\n",
              "      <td>phoneNumber\":\"551130830021</td>\n",
              "      <td>averageRating\":\"4.5\"}}</td>\n",
              "      <td>NaN</td>\n",
              "    </tr>\n",
              "  </tbody>\n",
              "</table>\n",
              "</div>"
            ],
            "text/plain": [
              "                                            title  ... averageRating\n",
              "0                               {\"title\":\"Jantar   ...           NaN\n",
              "1             {\"title\":\"Uma boa experi\\u00EAncia.  ...           NaN\n",
              "2                    {\"title\":\"Otimo self service  ...           NaN\n",
              "3  {\"title\":\"O sorvete mais tradicional do estado  ...           NaN\n",
              "4                     {\"title\":\"Melhor hamburger!  ...           NaN\n",
              "\n",
              "[5 rows x 21 columns]"
            ]
          },
          "metadata": {
            "tags": []
          },
          "execution_count": 8
        }
      ]
    },
    {
      "cell_type": "code",
      "metadata": {
        "id": "UX2ZGNMrikIs",
        "outputId": "c658aaa5-6cc1-4104-8161-bb437f41e19a",
        "colab": {
          "base_uri": "https://localhost:8080/",
          "height": 171
        }
      },
      "source": [
        "reg = data['Close'].str.extract('\\[(.*?)\\]', expand=False)"
      ],
      "execution_count": 10,
      "outputs": [
        {
          "output_type": "error",
          "ename": "NameError",
          "evalue": "ignored",
          "traceback": [
            "\u001b[0;31m---------------------------------------------------------------------------\u001b[0m",
            "\u001b[0;31mNameError\u001b[0m                                 Traceback (most recent call last)",
            "\u001b[0;32m<ipython-input-10-209af45d2a4f>\u001b[0m in \u001b[0;36m<module>\u001b[0;34m()\u001b[0m\n\u001b[0;32m----> 1\u001b[0;31m \u001b[0mreg\u001b[0m \u001b[0;34m=\u001b[0m \u001b[0mdata\u001b[0m\u001b[0;34m[\u001b[0m\u001b[0;34m'Close'\u001b[0m\u001b[0;34m]\u001b[0m\u001b[0;34m.\u001b[0m\u001b[0mstr\u001b[0m\u001b[0;34m.\u001b[0m\u001b[0mextract\u001b[0m\u001b[0;34m(\u001b[0m\u001b[0;34m'\\[(.*?)\\]'\u001b[0m\u001b[0;34m,\u001b[0m \u001b[0mexpand\u001b[0m\u001b[0;34m=\u001b[0m\u001b[0;32mFalse\u001b[0m\u001b[0;34m)\u001b[0m\u001b[0;34m\u001b[0m\u001b[0;34m\u001b[0m\u001b[0m\n\u001b[0m",
            "\u001b[0;31mNameError\u001b[0m: name 'data' is not defined"
          ]
        }
      ]
    }
  ]
}