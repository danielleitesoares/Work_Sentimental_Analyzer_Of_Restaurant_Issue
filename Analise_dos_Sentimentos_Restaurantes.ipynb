{
  "nbformat": 4,
  "nbformat_minor": 0,
  "metadata": {
    "colab": {
      "name": "Analise dos Sentimentos- Restaurantes.ipynb",
      "provenance": [],
      "include_colab_link": true
    },
    "kernelspec": {
      "name": "python3",
      "display_name": "Python 3"
    }
  },
  "cells": [
    {
      "cell_type": "markdown",
      "metadata": {
        "id": "view-in-github",
        "colab_type": "text"
      },
      "source": [
        "<a href=\"https://colab.research.google.com/github/danielleitesoares/Work_Sentimental_Analyzer_Of_Restaurant_Issue/blob/main/Analise_dos_Sentimentos_Restaurantes.ipynb\" target=\"_parent\"><img src=\"https://colab.research.google.com/assets/colab-badge.svg\" alt=\"Open In Colab\"/></a>"
      ]
    },
    {
      "cell_type": "markdown",
      "metadata": {
        "id": "zcrucn3likWJ"
      },
      "source": [
        "#  **Analise de Sentimentos Restaurantes**\n",
        "> Equipe: Leonardo Rocha, Paulo Correa e Daniel Soares\n",
        "> Turma 02\n",
        "\n",
        "\n",
        "\n"
      ]
    },
    {
      "cell_type": "markdown",
      "metadata": {
        "id": "DshVznHdhr-C"
      },
      "source": [
        "### 0.Importação das Bibliotecas Utilizadas \n",
        "\n",
        "\n"
      ]
    },
    {
      "cell_type": "code",
      "metadata": {
        "id": "iiifqgOHh7f1"
      },
      "source": [
        "# coding = utf-8  \n",
        "#Bibliotecas Básicas \n",
        "import pandas as pd\n",
        "import numpy as np\n",
        "import json\n",
        "import nltk\n",
        "import time  # avaliar\n",
        "#Bibliotecas de Gráficos e Relatórios \n",
        "import seaborn as sns\n",
        "import matplotlib\n",
        "import pandas_profiling as ppf\n",
        "from pandas_profiling import ProfileReport\n",
        "\n",
        "#Bibliotecas de Análise de Sentimentos\n",
        "import textblob\n"
      ],
      "execution_count": 33,
      "outputs": []
    },
    {
      "cell_type": "markdown",
      "metadata": {
        "id": "vFx9NH6oiqjk"
      },
      "source": [
        "### 1.Tratamento do dataset-v2.dat"
      ]
    },
    {
      "cell_type": "markdown",
      "metadata": {
        "id": "smV5LGlKaEkq"
      },
      "source": [
        "##### 1.1. Abrindo o Dataset "
      ]
    },
    {
      "cell_type": "code",
      "metadata": {
        "id": "jUZ_LJZlk4GC",
        "colab": {
          "base_uri": "https://localhost:8080/"
        },
        "outputId": "f0094ad8-d46e-4a20-f9fb-595af9b7c3be"
      },
      "source": [
        "nltk.download('punkt')\n",
        "! git clone https://github.com/paulordie/sentimental_ds\n",
        "%cd sentimental_ds/"
      ],
      "execution_count": 34,
      "outputs": [
        {
          "output_type": "stream",
          "text": [
            "[nltk_data] Downloading package punkt to /root/nltk_data...\n",
            "[nltk_data]   Package punkt is already up-to-date!\n",
            "Cloning into 'sentimental_ds'...\n",
            "remote: Enumerating objects: 3, done.\u001b[K\n",
            "remote: Counting objects: 100% (3/3), done.\u001b[K\n",
            "remote: Compressing objects: 100% (3/3), done.\u001b[K\n",
            "remote: Total 98 (delta 0), reused 2 (delta 0), pack-reused 95\u001b[K\n",
            "Unpacking objects: 100% (98/98), done.\n",
            "Checking out files: 100% (11/11), done.\n",
            "/content/sentimental_ds/sentimental_ds\n"
          ],
          "name": "stdout"
        }
      ]
    },
    {
      "cell_type": "markdown",
      "metadata": {
        "id": "QqTI_tGa1b8w"
      },
      "source": [
        "##### 1.2 Transformação do DAT no JSON"
      ]
    },
    {
      "cell_type": "code",
      "metadata": {
        "id": "mr24uM4-1ad4"
      },
      "source": [
        "dados = open('dataset-v2.dat')\n",
        "a = dados.readlines()# Criar uma lista com todos as linhas em strings \n",
        "v = [] # vetor para salvar cada linha em json  \n",
        "#Rodar um for para correr por cada item de \"a\" que está as linhas \n",
        "for c in range(0,len(a)):\n",
        "  parsed_c = json.loads(a[c])#aqui estamos transformando as strings de \"a\" em arquivos json\n",
        "  data = pd.json_normalize(parsed_c)#aqui pegamos os arquivos json e normaliamos eles \n",
        "  v.append(data)#jogamos os arquivos em 'V'\n",
        "  #aqui vamos concatenar cada linha que está em 'V' para um unico dataset df \n",
        "df = pd.concat(objs=v,axis=0)#concatenando "
      ],
      "execution_count": 35,
      "outputs": []
    },
    {
      "cell_type": "markdown",
      "metadata": {
        "id": "cmaCYlzpfObS"
      },
      "source": [
        "##### 1.3 Salvando em outros formatos"
      ]
    },
    {
      "cell_type": "code",
      "metadata": {
        "id": "QaiwZY7tfL_b"
      },
      "source": [
        "#Converterndo e Salvando em CSV\n",
        "df.to_csv('/content/drive/My Drive/dataset123.csv')#salvando o arquivo em csv  \\\\\\\\\\\\\\\\\\\\\\\\\\\\\\\\\\\\\\\\\\verificar\n",
        "#Convertendo e salvar em excel \n",
        "df.to_excel('/content/drive/My Drive/dataset.xlsx')"
      ],
      "execution_count": null,
      "outputs": []
    },
    {
      "cell_type": "markdown",
      "metadata": {
        "id": "Ayfrq42PATZz"
      },
      "source": [
        "##### 1.4 Exibindo o Head do dataset"
      ]
    },
    {
      "cell_type": "code",
      "metadata": {
        "id": "BBsEBJvDg6o8",
        "colab": {
          "base_uri": "https://localhost:8080/",
          "height": 1000
        },
        "outputId": "0473d6da-8f50-4360-b975-e9d837b553c9"
      },
      "source": [
        "df = df.rename(columns={'itemReviewed.name':'Name','itemReviewed.address.streetAddress':'StressAddress','itemReviewed.address.addressLocality':'AddressLocality','itemReviewed.address.addressRegion':'AddressRegion','itemReviewed.address.postalCode':'PostalCode','itemReviewed.address.country':'Country','itemReviewed.website':'Website','itemReviewed.email':'Email','itemReviewed.phoneNumber':'PhoneNumber','itemReviewed.averageRating':'AverageRating'})\n",
        "df = df.reset_index(drop=True)\n",
        "df.head(10)\n"
      ],
      "execution_count": 40,
      "outputs": [
        {
          "output_type": "execute_result",
          "data": {
            "text/html": [
              "<div>\n",
              "<style scoped>\n",
              "    .dataframe tbody tr th:only-of-type {\n",
              "        vertical-align: middle;\n",
              "    }\n",
              "\n",
              "    .dataframe tbody tr th {\n",
              "        vertical-align: top;\n",
              "    }\n",
              "\n",
              "    .dataframe thead th {\n",
              "        text-align: right;\n",
              "    }\n",
              "</style>\n",
              "<table border=\"1\" class=\"dataframe\">\n",
              "  <thead>\n",
              "    <tr style=\"text-align: right;\">\n",
              "      <th></th>\n",
              "      <th>title</th>\n",
              "      <th>reviewId</th>\n",
              "      <th>restaurantId</th>\n",
              "      <th>author</th>\n",
              "      <th>reviewBody</th>\n",
              "      <th>language</th>\n",
              "      <th>mobileDevice</th>\n",
              "      <th>userLocation</th>\n",
              "      <th>publicationDate</th>\n",
              "      <th>visitDate</th>\n",
              "      <th>ratingValue</th>\n",
              "      <th>Name</th>\n",
              "      <th>StressAddress</th>\n",
              "      <th>AddressLocality</th>\n",
              "      <th>AddressRegion</th>\n",
              "      <th>PostalCode</th>\n",
              "      <th>Country</th>\n",
              "      <th>Website</th>\n",
              "      <th>Email</th>\n",
              "      <th>PhoneNumber</th>\n",
              "      <th>AverageRating</th>\n",
              "    </tr>\n",
              "  </thead>\n",
              "  <tbody>\n",
              "    <tr>\n",
              "      <th>0</th>\n",
              "      <td>Jantar</td>\n",
              "      <td>692856288</td>\n",
              "      <td>2344932</td>\n",
              "      <td>larinhavercosa222</td>\n",
              "      <td>Comida maravilhosa, lugar do verdadeiro chicle...</td>\n",
              "      <td>pt</td>\n",
              "      <td>True</td>\n",
              "      <td>São Carlos, SP</td>\n",
              "      <td>26/07/2019</td>\n",
              "      <td>07/2019</td>\n",
              "      <td>5</td>\n",
              "      <td>Imperador dos Camarões</td>\n",
              "      <td>Avenida Doutor Antônio Gouveia</td>\n",
              "      <td></td>\n",
              "      <td>Alagoas</td>\n",
              "      <td>57030-170</td>\n",
              "      <td>Brasil</td>\n",
              "      <td>http://www.imperadordoscamaroes.com.br</td>\n",
              "      <td>contato@imperadordoscamaroes.com.br</td>\n",
              "      <td>+55 82 3231-4134</td>\n",
              "      <td>4.5</td>\n",
              "    </tr>\n",
              "    <tr>\n",
              "      <th>1</th>\n",
              "      <td>Uma boa experiência.</td>\n",
              "      <td>229208487</td>\n",
              "      <td>3720906</td>\n",
              "      <td>Pano P</td>\n",
              "      <td>Comida boa, drinks legais e um ambiente bem ac...</td>\n",
              "      <td>pt</td>\n",
              "      <td>True</td>\n",
              "      <td>Manaus, AM</td>\n",
              "      <td>16/09/2014</td>\n",
              "      <td>None</td>\n",
              "      <td>4</td>\n",
              "      <td>Guacamole Natal</td>\n",
              "      <td>Avenida Praia de Ponta Negra 9068 Ponta Negra</td>\n",
              "      <td></td>\n",
              "      <td>Rio Grande do Norte</td>\n",
              "      <td>59092-100</td>\n",
              "      <td>Brasil</td>\n",
              "      <td>http://www.facebook.com/GuacamoleNatal</td>\n",
              "      <td>guacamolenatal@gmail.com</td>\n",
              "      <td>+55 84 3219-3646</td>\n",
              "      <td>4.5</td>\n",
              "    </tr>\n",
              "    <tr>\n",
              "      <th>2</th>\n",
              "      <td>Otimo self service</td>\n",
              "      <td>679002332</td>\n",
              "      <td>2248105</td>\n",
              "      <td>Magma100</td>\n",
              "      <td>Excelente pra ir com a família! Ótima Comida, ...</td>\n",
              "      <td>pt</td>\n",
              "      <td>True</td>\n",
              "      <td>Goiânia, GO</td>\n",
              "      <td>04/06/2019</td>\n",
              "      <td>07/2018</td>\n",
              "      <td>4</td>\n",
              "      <td>Chica Pitanga</td>\n",
              "      <td>Rua Petrolina 19</td>\n",
              "      <td>Recife</td>\n",
              "      <td>Pernambuco</td>\n",
              "      <td>51021-250</td>\n",
              "      <td>Brasil</td>\n",
              "      <td>http://www.chicapitanga.com.br</td>\n",
              "      <td>chicapitanga@chicapitanga.com.br</td>\n",
              "      <td>+55 81 3334-8260</td>\n",
              "      <td>4.5</td>\n",
              "    </tr>\n",
              "    <tr>\n",
              "      <th>3</th>\n",
              "      <td>O sorvete mais tradicional do estado</td>\n",
              "      <td>355671519</td>\n",
              "      <td>8168302</td>\n",
              "      <td>Yurie M</td>\n",
              "      <td>Tomo sorvete na Visabor faz mais de 30 anos. S...</td>\n",
              "      <td>pt</td>\n",
              "      <td>False</td>\n",
              "      <td>Aracaju, SE</td>\n",
              "      <td>15/03/2016</td>\n",
              "      <td>01/2016</td>\n",
              "      <td>5</td>\n",
              "      <td>Sorvetes Vi Sabor</td>\n",
              "      <td>Avenida Francisco Porto 59 Grageru</td>\n",
              "      <td>Aracaju</td>\n",
              "      <td>Sergipe</td>\n",
              "      <td></td>\n",
              "      <td>Brasil</td>\n",
              "      <td>None</td>\n",
              "      <td>None</td>\n",
              "      <td>None</td>\n",
              "      <td>4.0</td>\n",
              "    </tr>\n",
              "    <tr>\n",
              "      <th>4</th>\n",
              "      <td>Melhor hamburger!</td>\n",
              "      <td>268741921</td>\n",
              "      <td>5395141</td>\n",
              "      <td>Debora_C85</td>\n",
              "      <td>O melhor hamburger que já comi! Excelente aten...</td>\n",
              "      <td>pt</td>\n",
              "      <td>False</td>\n",
              "      <td>Rio de Janeiro, RJ</td>\n",
              "      <td>28/04/2015</td>\n",
              "      <td>04/2015</td>\n",
              "      <td>5</td>\n",
              "      <td>Z Deli Sandwich Shop</td>\n",
              "      <td>Rua Haddock Lobo 1386 Jardins</td>\n",
              "      <td>São Paulo</td>\n",
              "      <td>Estado de São Paulo</td>\n",
              "      <td>01414-002</td>\n",
              "      <td>Brasil</td>\n",
              "      <td>http://www.facebook.com/zdelisandwichshop/</td>\n",
              "      <td>None</td>\n",
              "      <td>551130830021</td>\n",
              "      <td>4.5</td>\n",
              "    </tr>\n",
              "    <tr>\n",
              "      <th>5</th>\n",
              "      <td>Um achado maravilhoso!</td>\n",
              "      <td>482361860</td>\n",
              "      <td>12209902</td>\n",
              "      <td>Monique C</td>\n",
              "      <td>O restaurante é novo, super acolhedor e charmo...</td>\n",
              "      <td>pt</td>\n",
              "      <td>False</td>\n",
              "      <td>None</td>\n",
              "      <td>07/05/2017</td>\n",
              "      <td>05/2017</td>\n",
              "      <td>5</td>\n",
              "      <td>Trattoria della Gloria</td>\n",
              "      <td>Rua do Russel 450</td>\n",
              "      <td>Rio de Janeiro</td>\n",
              "      <td>Estado do Rio de Janeiro</td>\n",
              "      <td>22210-010</td>\n",
              "      <td>Brasil</td>\n",
              "      <td>https://www.facebook.com/trattoriadellagloria....</td>\n",
              "      <td>info@trattoriadellagloria.com.br</td>\n",
              "      <td>+55 21 3435-6789</td>\n",
              "      <td>4.5</td>\n",
              "    </tr>\n",
              "    <tr>\n",
              "      <th>6</th>\n",
              "      <td>Saboroso</td>\n",
              "      <td>431356071</td>\n",
              "      <td>5565144</td>\n",
              "      <td>ChrisWings</td>\n",
              "      <td>Fomos num sábado, ambiente elegante, equipe ge...</td>\n",
              "      <td>pt</td>\n",
              "      <td>True</td>\n",
              "      <td>Brasília, DF</td>\n",
              "      <td>24/10/2016</td>\n",
              "      <td>10/2016</td>\n",
              "      <td>4</td>\n",
              "      <td>Tomyam</td>\n",
              "      <td>José Maria Lisboa, 1065 Jardim Paulista</td>\n",
              "      <td>São Paulo</td>\n",
              "      <td>Estado de São Paulo</td>\n",
              "      <td>01423-003</td>\n",
              "      <td>Brasil</td>\n",
              "      <td>http://www.tomyam.com.br/</td>\n",
              "      <td>tomyamsp@tomyamsp.com.br</td>\n",
              "      <td>+55 11 4329-1002</td>\n",
              "      <td>4.0</td>\n",
              "    </tr>\n",
              "    <tr>\n",
              "      <th>7</th>\n",
              "      <td>Bom trabalho</td>\n",
              "      <td>361607766</td>\n",
              "      <td>2408078</td>\n",
              "      <td>lucianasoares18</td>\n",
              "      <td>Comida ótima e com bom atediamento e com muita...</td>\n",
              "      <td>pt</td>\n",
              "      <td>False</td>\n",
              "      <td>Vila Velha, ES</td>\n",
              "      <td>04/04/2016</td>\n",
              "      <td>04/2016</td>\n",
              "      <td>4</td>\n",
              "      <td>Ilha do Caranguejo - Vitória</td>\n",
              "      <td>Rua Alcino Pereira Netto, 570 - Jardim Camburi...</td>\n",
              "      <td>Vitória</td>\n",
              "      <td>Espírito Santo</td>\n",
              "      <td>29090-540</td>\n",
              "      <td>Brasil</td>\n",
              "      <td>http://www.ilhadocaranguejo.com.br</td>\n",
              "      <td>ilha@ilha.es</td>\n",
              "      <td>+55 27 3395-0244</td>\n",
              "      <td>4.5</td>\n",
              "    </tr>\n",
              "    <tr>\n",
              "      <th>8</th>\n",
              "      <td>Maravilhoso!</td>\n",
              "      <td>622424870</td>\n",
              "      <td>9738862</td>\n",
              "      <td>Andrezza O</td>\n",
              "      <td>Ambiente agradável, preço totalmente acessível...</td>\n",
              "      <td>pt</td>\n",
              "      <td>True</td>\n",
              "      <td>Teresina, PI</td>\n",
              "      <td>05/10/2018</td>\n",
              "      <td>10/2018</td>\n",
              "      <td>5</td>\n",
              "      <td>Vertigo Restaurante</td>\n",
              "      <td>R. Aviador Irapua Rocha, 2370 Bairro Ininga</td>\n",
              "      <td>Teresina</td>\n",
              "      <td>Piauí</td>\n",
              "      <td>64049-740</td>\n",
              "      <td>Brasil</td>\n",
              "      <td>None</td>\n",
              "      <td>None</td>\n",
              "      <td>08632334338</td>\n",
              "      <td>4.0</td>\n",
              "    </tr>\n",
              "    <tr>\n",
              "      <th>9</th>\n",
              "      <td>Mais tradicional de BH</td>\n",
              "      <td>400149803</td>\n",
              "      <td>3514720</td>\n",
              "      <td>Leonardo R</td>\n",
              "      <td>A pizzaria é a mais tradicional de Belo Horizo...</td>\n",
              "      <td>pt</td>\n",
              "      <td>False</td>\n",
              "      <td>Belo Horizonte, MG</td>\n",
              "      <td>01/08/2016</td>\n",
              "      <td>07/2016</td>\n",
              "      <td>5</td>\n",
              "      <td>Pizzarella</td>\n",
              "      <td>Av. Olegário Maciel, 2.280 - Lourdes</td>\n",
              "      <td>Belo Horizonte</td>\n",
              "      <td>Minas Gerais</td>\n",
              "      <td></td>\n",
              "      <td>Brasil</td>\n",
              "      <td>http://www.pizzarellasaobento.com.br/home/defa...</td>\n",
              "      <td>None</td>\n",
              "      <td>(31) 3292-3000</td>\n",
              "      <td>4.0</td>\n",
              "    </tr>\n",
              "  </tbody>\n",
              "</table>\n",
              "</div>"
            ],
            "text/plain": [
              "                                  title  ... AverageRating\n",
              "0                               Jantar   ...           4.5\n",
              "1                  Uma boa experiência.  ...           4.5\n",
              "2                    Otimo self service  ...           4.5\n",
              "3  O sorvete mais tradicional do estado  ...           4.0\n",
              "4                     Melhor hamburger!  ...           4.5\n",
              "5                Um achado maravilhoso!  ...           4.5\n",
              "6                              Saboroso  ...           4.0\n",
              "7                          Bom trabalho  ...           4.5\n",
              "8                          Maravilhoso!  ...           4.0\n",
              "9                Mais tradicional de BH  ...           4.0\n",
              "\n",
              "[10 rows x 21 columns]"
            ]
          },
          "metadata": {
            "tags": []
          },
          "execution_count": 39
        },
        {
          "output_type": "execute_result",
          "data": {
            "text/html": [
              "<div>\n",
              "<style scoped>\n",
              "    .dataframe tbody tr th:only-of-type {\n",
              "        vertical-align: middle;\n",
              "    }\n",
              "\n",
              "    .dataframe tbody tr th {\n",
              "        vertical-align: top;\n",
              "    }\n",
              "\n",
              "    .dataframe thead th {\n",
              "        text-align: right;\n",
              "    }\n",
              "</style>\n",
              "<table border=\"1\" class=\"dataframe\">\n",
              "  <thead>\n",
              "    <tr style=\"text-align: right;\">\n",
              "      <th></th>\n",
              "      <th>title</th>\n",
              "      <th>reviewId</th>\n",
              "      <th>restaurantId</th>\n",
              "      <th>author</th>\n",
              "      <th>reviewBody</th>\n",
              "      <th>language</th>\n",
              "      <th>mobileDevice</th>\n",
              "      <th>userLocation</th>\n",
              "      <th>publicationDate</th>\n",
              "      <th>visitDate</th>\n",
              "      <th>ratingValue</th>\n",
              "      <th>Name</th>\n",
              "      <th>StressAddress</th>\n",
              "      <th>AddressLocality</th>\n",
              "      <th>AddressRegion</th>\n",
              "      <th>PostalCode</th>\n",
              "      <th>Country</th>\n",
              "      <th>Website</th>\n",
              "      <th>Email</th>\n",
              "      <th>PhoneNumber</th>\n",
              "      <th>AverageRating</th>\n",
              "    </tr>\n",
              "  </thead>\n",
              "  <tbody>\n",
              "    <tr>\n",
              "      <th>0</th>\n",
              "      <td>Jantar</td>\n",
              "      <td>692856288</td>\n",
              "      <td>2344932</td>\n",
              "      <td>larinhavercosa222</td>\n",
              "      <td>Comida maravilhosa, lugar do verdadeiro chicle...</td>\n",
              "      <td>pt</td>\n",
              "      <td>True</td>\n",
              "      <td>São Carlos, SP</td>\n",
              "      <td>26/07/2019</td>\n",
              "      <td>07/2019</td>\n",
              "      <td>5</td>\n",
              "      <td>Imperador dos Camarões</td>\n",
              "      <td>Avenida Doutor Antônio Gouveia</td>\n",
              "      <td></td>\n",
              "      <td>Alagoas</td>\n",
              "      <td>57030-170</td>\n",
              "      <td>Brasil</td>\n",
              "      <td>http://www.imperadordoscamaroes.com.br</td>\n",
              "      <td>contato@imperadordoscamaroes.com.br</td>\n",
              "      <td>+55 82 3231-4134</td>\n",
              "      <td>4.5</td>\n",
              "    </tr>\n",
              "    <tr>\n",
              "      <th>1</th>\n",
              "      <td>Uma boa experiência.</td>\n",
              "      <td>229208487</td>\n",
              "      <td>3720906</td>\n",
              "      <td>Pano P</td>\n",
              "      <td>Comida boa, drinks legais e um ambiente bem ac...</td>\n",
              "      <td>pt</td>\n",
              "      <td>True</td>\n",
              "      <td>Manaus, AM</td>\n",
              "      <td>16/09/2014</td>\n",
              "      <td>None</td>\n",
              "      <td>4</td>\n",
              "      <td>Guacamole Natal</td>\n",
              "      <td>Avenida Praia de Ponta Negra 9068 Ponta Negra</td>\n",
              "      <td></td>\n",
              "      <td>Rio Grande do Norte</td>\n",
              "      <td>59092-100</td>\n",
              "      <td>Brasil</td>\n",
              "      <td>http://www.facebook.com/GuacamoleNatal</td>\n",
              "      <td>guacamolenatal@gmail.com</td>\n",
              "      <td>+55 84 3219-3646</td>\n",
              "      <td>4.5</td>\n",
              "    </tr>\n",
              "    <tr>\n",
              "      <th>2</th>\n",
              "      <td>Otimo self service</td>\n",
              "      <td>679002332</td>\n",
              "      <td>2248105</td>\n",
              "      <td>Magma100</td>\n",
              "      <td>Excelente pra ir com a família! Ótima Comida, ...</td>\n",
              "      <td>pt</td>\n",
              "      <td>True</td>\n",
              "      <td>Goiânia, GO</td>\n",
              "      <td>04/06/2019</td>\n",
              "      <td>07/2018</td>\n",
              "      <td>4</td>\n",
              "      <td>Chica Pitanga</td>\n",
              "      <td>Rua Petrolina 19</td>\n",
              "      <td>Recife</td>\n",
              "      <td>Pernambuco</td>\n",
              "      <td>51021-250</td>\n",
              "      <td>Brasil</td>\n",
              "      <td>http://www.chicapitanga.com.br</td>\n",
              "      <td>chicapitanga@chicapitanga.com.br</td>\n",
              "      <td>+55 81 3334-8260</td>\n",
              "      <td>4.5</td>\n",
              "    </tr>\n",
              "    <tr>\n",
              "      <th>3</th>\n",
              "      <td>O sorvete mais tradicional do estado</td>\n",
              "      <td>355671519</td>\n",
              "      <td>8168302</td>\n",
              "      <td>Yurie M</td>\n",
              "      <td>Tomo sorvete na Visabor faz mais de 30 anos. S...</td>\n",
              "      <td>pt</td>\n",
              "      <td>False</td>\n",
              "      <td>Aracaju, SE</td>\n",
              "      <td>15/03/2016</td>\n",
              "      <td>01/2016</td>\n",
              "      <td>5</td>\n",
              "      <td>Sorvetes Vi Sabor</td>\n",
              "      <td>Avenida Francisco Porto 59 Grageru</td>\n",
              "      <td>Aracaju</td>\n",
              "      <td>Sergipe</td>\n",
              "      <td></td>\n",
              "      <td>Brasil</td>\n",
              "      <td>None</td>\n",
              "      <td>None</td>\n",
              "      <td>None</td>\n",
              "      <td>4.0</td>\n",
              "    </tr>\n",
              "    <tr>\n",
              "      <th>4</th>\n",
              "      <td>Melhor hamburger!</td>\n",
              "      <td>268741921</td>\n",
              "      <td>5395141</td>\n",
              "      <td>Debora_C85</td>\n",
              "      <td>O melhor hamburger que já comi! Excelente aten...</td>\n",
              "      <td>pt</td>\n",
              "      <td>False</td>\n",
              "      <td>Rio de Janeiro, RJ</td>\n",
              "      <td>28/04/2015</td>\n",
              "      <td>04/2015</td>\n",
              "      <td>5</td>\n",
              "      <td>Z Deli Sandwich Shop</td>\n",
              "      <td>Rua Haddock Lobo 1386 Jardins</td>\n",
              "      <td>São Paulo</td>\n",
              "      <td>Estado de São Paulo</td>\n",
              "      <td>01414-002</td>\n",
              "      <td>Brasil</td>\n",
              "      <td>http://www.facebook.com/zdelisandwichshop/</td>\n",
              "      <td>None</td>\n",
              "      <td>551130830021</td>\n",
              "      <td>4.5</td>\n",
              "    </tr>\n",
              "    <tr>\n",
              "      <th>5</th>\n",
              "      <td>Um achado maravilhoso!</td>\n",
              "      <td>482361860</td>\n",
              "      <td>12209902</td>\n",
              "      <td>Monique C</td>\n",
              "      <td>O restaurante é novo, super acolhedor e charmo...</td>\n",
              "      <td>pt</td>\n",
              "      <td>False</td>\n",
              "      <td>None</td>\n",
              "      <td>07/05/2017</td>\n",
              "      <td>05/2017</td>\n",
              "      <td>5</td>\n",
              "      <td>Trattoria della Gloria</td>\n",
              "      <td>Rua do Russel 450</td>\n",
              "      <td>Rio de Janeiro</td>\n",
              "      <td>Estado do Rio de Janeiro</td>\n",
              "      <td>22210-010</td>\n",
              "      <td>Brasil</td>\n",
              "      <td>https://www.facebook.com/trattoriadellagloria....</td>\n",
              "      <td>info@trattoriadellagloria.com.br</td>\n",
              "      <td>+55 21 3435-6789</td>\n",
              "      <td>4.5</td>\n",
              "    </tr>\n",
              "    <tr>\n",
              "      <th>6</th>\n",
              "      <td>Saboroso</td>\n",
              "      <td>431356071</td>\n",
              "      <td>5565144</td>\n",
              "      <td>ChrisWings</td>\n",
              "      <td>Fomos num sábado, ambiente elegante, equipe ge...</td>\n",
              "      <td>pt</td>\n",
              "      <td>True</td>\n",
              "      <td>Brasília, DF</td>\n",
              "      <td>24/10/2016</td>\n",
              "      <td>10/2016</td>\n",
              "      <td>4</td>\n",
              "      <td>Tomyam</td>\n",
              "      <td>José Maria Lisboa, 1065 Jardim Paulista</td>\n",
              "      <td>São Paulo</td>\n",
              "      <td>Estado de São Paulo</td>\n",
              "      <td>01423-003</td>\n",
              "      <td>Brasil</td>\n",
              "      <td>http://www.tomyam.com.br/</td>\n",
              "      <td>tomyamsp@tomyamsp.com.br</td>\n",
              "      <td>+55 11 4329-1002</td>\n",
              "      <td>4.0</td>\n",
              "    </tr>\n",
              "    <tr>\n",
              "      <th>7</th>\n",
              "      <td>Bom trabalho</td>\n",
              "      <td>361607766</td>\n",
              "      <td>2408078</td>\n",
              "      <td>lucianasoares18</td>\n",
              "      <td>Comida ótima e com bom atediamento e com muita...</td>\n",
              "      <td>pt</td>\n",
              "      <td>False</td>\n",
              "      <td>Vila Velha, ES</td>\n",
              "      <td>04/04/2016</td>\n",
              "      <td>04/2016</td>\n",
              "      <td>4</td>\n",
              "      <td>Ilha do Caranguejo - Vitória</td>\n",
              "      <td>Rua Alcino Pereira Netto, 570 - Jardim Camburi...</td>\n",
              "      <td>Vitória</td>\n",
              "      <td>Espírito Santo</td>\n",
              "      <td>29090-540</td>\n",
              "      <td>Brasil</td>\n",
              "      <td>http://www.ilhadocaranguejo.com.br</td>\n",
              "      <td>ilha@ilha.es</td>\n",
              "      <td>+55 27 3395-0244</td>\n",
              "      <td>4.5</td>\n",
              "    </tr>\n",
              "    <tr>\n",
              "      <th>8</th>\n",
              "      <td>Maravilhoso!</td>\n",
              "      <td>622424870</td>\n",
              "      <td>9738862</td>\n",
              "      <td>Andrezza O</td>\n",
              "      <td>Ambiente agradável, preço totalmente acessível...</td>\n",
              "      <td>pt</td>\n",
              "      <td>True</td>\n",
              "      <td>Teresina, PI</td>\n",
              "      <td>05/10/2018</td>\n",
              "      <td>10/2018</td>\n",
              "      <td>5</td>\n",
              "      <td>Vertigo Restaurante</td>\n",
              "      <td>R. Aviador Irapua Rocha, 2370 Bairro Ininga</td>\n",
              "      <td>Teresina</td>\n",
              "      <td>Piauí</td>\n",
              "      <td>64049-740</td>\n",
              "      <td>Brasil</td>\n",
              "      <td>None</td>\n",
              "      <td>None</td>\n",
              "      <td>08632334338</td>\n",
              "      <td>4.0</td>\n",
              "    </tr>\n",
              "    <tr>\n",
              "      <th>9</th>\n",
              "      <td>Mais tradicional de BH</td>\n",
              "      <td>400149803</td>\n",
              "      <td>3514720</td>\n",
              "      <td>Leonardo R</td>\n",
              "      <td>A pizzaria é a mais tradicional de Belo Horizo...</td>\n",
              "      <td>pt</td>\n",
              "      <td>False</td>\n",
              "      <td>Belo Horizonte, MG</td>\n",
              "      <td>01/08/2016</td>\n",
              "      <td>07/2016</td>\n",
              "      <td>5</td>\n",
              "      <td>Pizzarella</td>\n",
              "      <td>Av. Olegário Maciel, 2.280 - Lourdes</td>\n",
              "      <td>Belo Horizonte</td>\n",
              "      <td>Minas Gerais</td>\n",
              "      <td></td>\n",
              "      <td>Brasil</td>\n",
              "      <td>http://www.pizzarellasaobento.com.br/home/defa...</td>\n",
              "      <td>None</td>\n",
              "      <td>(31) 3292-3000</td>\n",
              "      <td>4.0</td>\n",
              "    </tr>\n",
              "  </tbody>\n",
              "</table>\n",
              "</div>"
            ],
            "text/plain": [
              "                                  title  ... AverageRating\n",
              "0                               Jantar   ...           4.5\n",
              "1                  Uma boa experiência.  ...           4.5\n",
              "2                    Otimo self service  ...           4.5\n",
              "3  O sorvete mais tradicional do estado  ...           4.0\n",
              "4                     Melhor hamburger!  ...           4.5\n",
              "5                Um achado maravilhoso!  ...           4.5\n",
              "6                              Saboroso  ...           4.0\n",
              "7                          Bom trabalho  ...           4.5\n",
              "8                          Maravilhoso!  ...           4.0\n",
              "9                Mais tradicional de BH  ...           4.0\n",
              "\n",
              "[10 rows x 21 columns]"
            ]
          },
          "metadata": {
            "tags": []
          },
          "execution_count": 40
        }
      ]
    },
    {
      "cell_type": "markdown",
      "metadata": {
        "id": "qvIe0e3x2Hw9"
      },
      "source": [
        "Varredura do JSON por linha"
      ]
    },
    {
      "cell_type": "code",
      "metadata": {
        "id": "gNIXiMFk2K4U"
      },
      "source": [
        "listOfDataBase = list()\n",
        "listOfData = []\n",
        " \n",
        "def findKeys(dataBase):\n",
        "    for register in dataBase:\n",
        "        try:\n",
        "            cols = register.split('\\n')\n",
        "            listOfDataBase.append(cols[0])\n",
        "        except UnicodeDecodeError:\n",
        "            print(\"Error on uncode decode findkeys\")\n",
        "    print(\"Find Keys: \",listOfDataBase)\n"
      ],
      "execution_count": null,
      "outputs": []
    },
    {
      "cell_type": "markdown",
      "metadata": {
        "id": "m6ZAMtjX2wNR"
      },
      "source": [
        "Iteração das chaves e dos valores"
      ]
    },
    {
      "cell_type": "code",
      "metadata": {
        "id": "XSQIxblN3Bla"
      },
      "source": [
        "def passToJson():\n",
        "    i=0\n",
        "    for i in range(10): ## tem que colocar a array de todo arquivo\n",
        "        listOfIssue = listOfDataBase[i]\n",
        "        i+=1\n",
        "        time.sleep(1)\n",
        "        joinList = json.loads(listOfIssue)\n",
        "        \n",
        "        for key, value in joinList.items():\n",
        "            print(key, \":\", value)            \n",
        "            if key == \"itemReviewed\":\n",
        "                print(\"itemReviewed \",joinList[\"itemReviewed\"][\"name\"])\n",
        "                print(\"sub ItemReviewd: \",joinList[\"itemReviewed\"][\"address\"])\n",
        "                keyItem = joinList[\"itemReviewed\"][\"address\"]\n",
        "                print(\"valor \", type(keyItem))\n",
        "                print(\"StreetAddress: \",keyItem[\"streetAddress\"])\n",
        "                print(\"addressLocality: \",keyItem[\"addressLocality\"])\n",
        "                print(\"postalCode: \",keyItem[\"postalCode\"])\n",
        "                print(\"country: \",keyItem[\"country\"])\n",
        "                for _keys, _value in keyItem.items():\n",
        "                    print(_keys,\": \",_value)\n",
        "        \n",
        "        listOfData.append(joinList)"
      ],
      "execution_count": null,
      "outputs": []
    },
    {
      "cell_type": "markdown",
      "metadata": {
        "id": "rrhp2yFG3YcM"
      },
      "source": [
        "Exibir do conteúdo por chave e valor"
      ]
    },
    {
      "cell_type": "code",
      "metadata": {
        "id": "pnDPr5nR3dT2",
        "colab": {
          "base_uri": "https://localhost:8080/"
        },
        "outputId": "2b6b9ad8-bb2a-4521-c9a0-56be11572cde"
      },
      "source": [
        "def showContent(value, collum):\n",
        "    i=0\n",
        "    _data = []\n",
        "    for i in range(value): ##range que vai trazer todas as colunas\n",
        "        try:\n",
        "            res = listOfData[i][collum]\n",
        "            print(type(res))\n",
        "            print(listOfData[i][collum]) #averageRating, ratingValue etc\n",
        "            i = i + 1\n",
        "            print(\"line: \", i)\n",
        "        except KeyError:\n",
        "            print(\"Key Error\")\n",
        "            continue\n",
        "\n",
        "valueFindKeys = findKeys(dados) #valor que vai para def passToJson()\n",
        "dictionaryOfDate = passToJson()\n",
        "showContent(1,\"reviewBody\")"
      ],
      "execution_count": null,
      "outputs": [
        {
          "output_type": "stream",
          "text": [
            "IOPub data rate exceeded.\n",
            "The notebook server will temporarily stop sending output\n",
            "to the client in order to avoid crashing it.\n",
            "To change this limit, set the config variable\n",
            "`--NotebookApp.iopub_data_rate_limit`.\n",
            "\n",
            "Current values:\n",
            "NotebookApp.iopub_data_rate_limit=1000000.0 (bytes/sec)\n",
            "NotebookApp.rate_limit_window=3.0 (secs)\n",
            "\n"
          ],
          "name": "stderr"
        },
        {
          "output_type": "stream",
          "text": [
            "title : Jantar \n",
            "reviewId : 692856288\n",
            "restaurantId : 2344932\n",
            "author : larinhavercosa222\n",
            "reviewBody : Comida maravilhosa, lugar do verdadeiro chiclete de camarão. \n",
            "O garçom Éric Lima nos atendeu muito bem, pretendemos voltar assim que possível.\n",
            "language : pt\n",
            "mobileDevice : True\n",
            "userLocation : São Carlos, SP\n",
            "publicationDate : 26/07/2019\n",
            "visitDate : 07/2019\n",
            "ratingValue : 5\n",
            "itemReviewed : {'name': 'Imperador dos Camarões', 'address': {'streetAddress': 'Avenida Doutor Antônio Gouveia', 'addressLocality': '', 'addressRegion': 'Alagoas', 'postalCode': '57030-170', 'country': 'Brasil'}, 'website': 'http://www.imperadordoscamaroes.com.br', 'email': 'contato@imperadordoscamaroes.com.br', 'phoneNumber': '+55 82 3231-4134', 'averageRating': '4.5'}\n",
            "itemReviewed  Imperador dos Camarões\n",
            "sub ItemReviewd:  {'streetAddress': 'Avenida Doutor Antônio Gouveia', 'addressLocality': '', 'addressRegion': 'Alagoas', 'postalCode': '57030-170', 'country': 'Brasil'}\n",
            "valor  <class 'dict'>\n",
            "StreetAddress:  Avenida Doutor Antônio Gouveia\n",
            "addressLocality:  \n",
            "postalCode:  57030-170\n",
            "country:  Brasil\n",
            "streetAddress :  Avenida Doutor Antônio Gouveia\n",
            "addressLocality :  \n",
            "addressRegion :  Alagoas\n",
            "postalCode :  57030-170\n",
            "country :  Brasil\n",
            "title : Uma boa experiência.\n",
            "reviewId : 229208487\n",
            "restaurantId : 3720906\n",
            "author : Pano P\n",
            "reviewBody : Comida boa, drinks legais e um ambiente bem aconchegante. \n",
            "Provamos muitas coisas e tudo nos agradou. Principalmente um pato servido em um dos pratos da casa, sensacional!\n",
            "language : pt\n",
            "mobileDevice : True\n",
            "userLocation : Manaus, AM\n",
            "publicationDate : 16/09/2014\n",
            "visitDate : None\n",
            "ratingValue : 4\n",
            "itemReviewed : {'name': 'Guacamole Natal', 'address': {'streetAddress': 'Avenida Praia de Ponta Negra 9068 Ponta Negra', 'addressLocality': '', 'addressRegion': 'Rio Grande do Norte', 'postalCode': '59092-100', 'country': 'Brasil'}, 'website': 'http://www.facebook.com/GuacamoleNatal', 'email': 'guacamolenatal@gmail.com', 'phoneNumber': '+55 84 3219-3646', 'averageRating': '4.5'}\n",
            "itemReviewed  Guacamole Natal\n",
            "sub ItemReviewd:  {'streetAddress': 'Avenida Praia de Ponta Negra 9068 Ponta Negra', 'addressLocality': '', 'addressRegion': 'Rio Grande do Norte', 'postalCode': '59092-100', 'country': 'Brasil'}\n",
            "valor  <class 'dict'>\n",
            "StreetAddress:  Avenida Praia de Ponta Negra 9068 Ponta Negra\n",
            "addressLocality:  \n",
            "postalCode:  59092-100\n",
            "country:  Brasil\n",
            "streetAddress :  Avenida Praia de Ponta Negra 9068 Ponta Negra\n",
            "addressLocality :  \n",
            "addressRegion :  Rio Grande do Norte\n",
            "postalCode :  59092-100\n",
            "country :  Brasil\n",
            "title : Otimo self service\n",
            "reviewId : 679002332\n",
            "restaurantId : 2248105\n",
            "author : Magma100\n",
            "reviewBody : Excelente pra ir com a família! Ótima Comida, ambiente agradável, bom atendimento e estacionamento. Vale a pena conhecer\n",
            "language : pt\n",
            "mobileDevice : True\n",
            "userLocation : Goiânia, GO\n",
            "publicationDate : 04/06/2019\n",
            "visitDate : 07/2018\n",
            "ratingValue : 4\n",
            "itemReviewed : {'name': 'Chica Pitanga', 'address': {'streetAddress': 'Rua Petrolina 19', 'addressLocality': 'Recife', 'addressRegion': 'Pernambuco', 'postalCode': '51021-250', 'country': 'Brasil'}, 'website': 'http://www.chicapitanga.com.br', 'email': 'chicapitanga@chicapitanga.com.br', 'phoneNumber': '+55 81 3334-8260', 'averageRating': '4.5'}\n",
            "itemReviewed  Chica Pitanga\n",
            "sub ItemReviewd:  {'streetAddress': 'Rua Petrolina 19', 'addressLocality': 'Recife', 'addressRegion': 'Pernambuco', 'postalCode': '51021-250', 'country': 'Brasil'}\n",
            "valor  <class 'dict'>\n",
            "StreetAddress:  Rua Petrolina 19\n",
            "addressLocality:  Recife\n",
            "postalCode:  51021-250\n",
            "country:  Brasil\n",
            "streetAddress :  Rua Petrolina 19\n",
            "addressLocality :  Recife\n",
            "addressRegion :  Pernambuco\n",
            "postalCode :  51021-250\n",
            "country :  Brasil\n",
            "title : O sorvete mais tradicional do estado\n",
            "reviewId : 355671519\n",
            "restaurantId : 8168302\n",
            "author : Yurie M\n",
            "reviewBody : Tomo sorvete na Visabor faz mais de 30 anos. Sabores de frutas ou artificiais. Casquinha crocante e ambiente simples. Preços muito bons. Recomendo\n",
            "language : pt\n",
            "mobileDevice : False\n",
            "userLocation : Aracaju, SE\n",
            "publicationDate : 15/03/2016\n",
            "visitDate : 01/2016\n",
            "ratingValue : 5\n",
            "itemReviewed : {'name': 'Sorvetes Vi Sabor', 'address': {'streetAddress': 'Avenida Francisco Porto 59 Grageru', 'addressLocality': 'Aracaju', 'addressRegion': 'Sergipe', 'postalCode': '', 'country': 'Brasil'}, 'website': 'None', 'email': 'None', 'phoneNumber': 'None', 'averageRating': '4.0'}\n",
            "itemReviewed  Sorvetes Vi Sabor\n",
            "sub ItemReviewd:  {'streetAddress': 'Avenida Francisco Porto 59 Grageru', 'addressLocality': 'Aracaju', 'addressRegion': 'Sergipe', 'postalCode': '', 'country': 'Brasil'}\n",
            "valor  <class 'dict'>\n",
            "StreetAddress:  Avenida Francisco Porto 59 Grageru\n",
            "addressLocality:  Aracaju\n",
            "postalCode:  \n",
            "country:  Brasil\n",
            "streetAddress :  Avenida Francisco Porto 59 Grageru\n",
            "addressLocality :  Aracaju\n",
            "addressRegion :  Sergipe\n",
            "postalCode :  \n",
            "country :  Brasil\n",
            "title : Melhor hamburger!\n",
            "reviewId : 268741921\n",
            "restaurantId : 5395141\n",
            "author : Debora_C85\n",
            "reviewBody : O melhor hamburger que já comi! Excelente atendimento, a comida estava ótima. O restaurante é bem pequeno, mas agradável e divertido.\n",
            "language : pt\n",
            "mobileDevice : False\n",
            "userLocation : Rio de Janeiro, RJ\n",
            "publicationDate : 28/04/2015\n",
            "visitDate : 04/2015\n",
            "ratingValue : 5\n",
            "itemReviewed : {'name': 'Z Deli Sandwich Shop', 'address': {'streetAddress': 'Rua Haddock Lobo 1386 Jardins', 'addressLocality': 'São Paulo', 'addressRegion': 'Estado de São Paulo', 'postalCode': '01414-002', 'country': 'Brasil'}, 'website': 'http://www.facebook.com/zdelisandwichshop/', 'email': 'None', 'phoneNumber': '551130830021', 'averageRating': '4.5'}\n",
            "itemReviewed  Z Deli Sandwich Shop\n",
            "sub ItemReviewd:  {'streetAddress': 'Rua Haddock Lobo 1386 Jardins', 'addressLocality': 'São Paulo', 'addressRegion': 'Estado de São Paulo', 'postalCode': '01414-002', 'country': 'Brasil'}\n",
            "valor  <class 'dict'>\n",
            "StreetAddress:  Rua Haddock Lobo 1386 Jardins\n",
            "addressLocality:  São Paulo\n",
            "postalCode:  01414-002\n",
            "country:  Brasil\n",
            "streetAddress :  Rua Haddock Lobo 1386 Jardins\n",
            "addressLocality :  São Paulo\n",
            "addressRegion :  Estado de São Paulo\n",
            "postalCode :  01414-002\n",
            "country :  Brasil\n",
            "title : Um achado maravilhoso!\n",
            "reviewId : 482361860\n",
            "restaurantId : 12209902\n",
            "author : Monique C\n",
            "reviewBody : O restaurante é novo, super acolhedor e charmoso com um ótimo atendimento. As porções são generosas, saborosíssimas e com preço justo. Boa variedade de vinhos. Super recomendo o espaguete de frutos do mar, bolonhesa, carbonara e o risoto. O tiramisu também é fantástico.  \n",
            "Todas as vezes fui com meu namorado, mas é um excelente ambiente para levar a família ou amigos.\n",
            "language : pt\n",
            "mobileDevice : False\n",
            "userLocation : None\n",
            "publicationDate : 07/05/2017\n",
            "visitDate : 05/2017\n",
            "ratingValue : 5\n",
            "itemReviewed : {'name': 'Trattoria della Gloria', 'address': {'streetAddress': 'Rua do Russel 450', 'addressLocality': 'Rio de Janeiro', 'addressRegion': 'Estado do Rio de Janeiro', 'postalCode': '22210-010', 'country': 'Brasil'}, 'website': 'https://www.facebook.com/trattoriadellagloria.com.br/', 'email': 'info@trattoriadellagloria.com.br', 'phoneNumber': '+55 21 3435-6789', 'averageRating': '4.5'}\n",
            "itemReviewed  Trattoria della Gloria\n",
            "sub ItemReviewd:  {'streetAddress': 'Rua do Russel 450', 'addressLocality': 'Rio de Janeiro', 'addressRegion': 'Estado do Rio de Janeiro', 'postalCode': '22210-010', 'country': 'Brasil'}\n",
            "valor  <class 'dict'>\n",
            "StreetAddress:  Rua do Russel 450\n",
            "addressLocality:  Rio de Janeiro\n",
            "postalCode:  22210-010\n",
            "country:  Brasil\n",
            "streetAddress :  Rua do Russel 450\n",
            "addressLocality :  Rio de Janeiro\n",
            "addressRegion :  Estado do Rio de Janeiro\n",
            "postalCode :  22210-010\n",
            "country :  Brasil\n",
            "title : Saboroso\n",
            "reviewId : 431356071\n",
            "restaurantId : 5565144\n",
            "author : ChrisWings\n",
            "reviewBody : Fomos num sábado, ambiente elegante, equipe gentil e simpática. Comemos um curry bem gostoso, mas o filé não era filé. A sobremesa (wonton de abacaxi com geléia de pimenta e sorvete) estava ótima.\n",
            "language : pt\n",
            "mobileDevice : True\n",
            "userLocation : Brasília, DF\n",
            "publicationDate : 24/10/2016\n",
            "visitDate : 10/2016\n",
            "ratingValue : 4\n",
            "itemReviewed : {'name': 'Tomyam', 'address': {'streetAddress': 'José Maria Lisboa, 1065 Jardim Paulista', 'addressLocality': 'São Paulo', 'addressRegion': 'Estado de São Paulo', 'postalCode': '01423-003', 'country': 'Brasil'}, 'website': 'http://www.tomyam.com.br/', 'email': 'tomyamsp@tomyamsp.com.br', 'phoneNumber': '+55 11 4329-1002', 'averageRating': '4.0'}\n",
            "itemReviewed  Tomyam\n",
            "sub ItemReviewd:  {'streetAddress': 'José Maria Lisboa, 1065 Jardim Paulista', 'addressLocality': 'São Paulo', 'addressRegion': 'Estado de São Paulo', 'postalCode': '01423-003', 'country': 'Brasil'}\n",
            "valor  <class 'dict'>\n",
            "StreetAddress:  José Maria Lisboa, 1065 Jardim Paulista\n",
            "addressLocality:  São Paulo\n",
            "postalCode:  01423-003\n",
            "country:  Brasil\n",
            "streetAddress :  José Maria Lisboa, 1065 Jardim Paulista\n",
            "addressLocality :  São Paulo\n",
            "addressRegion :  Estado de São Paulo\n",
            "postalCode :  01423-003\n",
            "country :  Brasil\n",
            "title : Bom trabalho\n",
            "reviewId : 361607766\n",
            "restaurantId : 2408078\n",
            "author : lucianasoares18\n",
            "reviewBody : Comida ótima e com bom atediamento e com muita coisa boas e da para levar a esposa e a namorada e familia pois as porções de comidas são boas!\n",
            "Muito obrigado\n",
            "language : pt\n",
            "mobileDevice : False\n",
            "userLocation : Vila Velha, ES\n",
            "publicationDate : 04/04/2016\n",
            "visitDate : 04/2016\n",
            "ratingValue : 4\n",
            "itemReviewed : {'name': 'Ilha do Caranguejo - Vitória', 'address': {'streetAddress': 'Rua Alcino Pereira Netto, 570 - Jardim Camburi Varzea', 'addressLocality': 'Vitória', 'addressRegion': 'Espírito Santo', 'postalCode': '29090-540', 'country': 'Brasil'}, 'website': 'http://www.ilhadocaranguejo.com.br', 'email': 'ilha@ilha.es', 'phoneNumber': '+55 27 3395-0244', 'averageRating': '4.5'}\n",
            "itemReviewed  Ilha do Caranguejo - Vitória\n",
            "sub ItemReviewd:  {'streetAddress': 'Rua Alcino Pereira Netto, 570 - Jardim Camburi Varzea', 'addressLocality': 'Vitória', 'addressRegion': 'Espírito Santo', 'postalCode': '29090-540', 'country': 'Brasil'}\n",
            "valor  <class 'dict'>\n",
            "StreetAddress:  Rua Alcino Pereira Netto, 570 - Jardim Camburi Varzea\n",
            "addressLocality:  Vitória\n",
            "postalCode:  29090-540\n",
            "country:  Brasil\n",
            "streetAddress :  Rua Alcino Pereira Netto, 570 - Jardim Camburi Varzea\n",
            "addressLocality :  Vitória\n",
            "addressRegion :  Espírito Santo\n",
            "postalCode :  29090-540\n",
            "country :  Brasil\n",
            "title : Maravilhoso!\n",
            "reviewId : 622424870\n",
            "restaurantId : 9738862\n",
            "author : Andrezza O\n",
            "reviewBody : Ambiente agradável, preço totalmente acessível, e adoro o cardápio de lá! Sem falar no atendimento maravilhoso! Voltarei sempre 😘\n",
            "language : pt\n",
            "mobileDevice : True\n",
            "userLocation : Teresina, PI\n",
            "publicationDate : 05/10/2018\n",
            "visitDate : 10/2018\n",
            "ratingValue : 5\n",
            "itemReviewed : {'name': 'Vertigo Restaurante', 'address': {'streetAddress': 'R. Aviador Irapua Rocha, 2370 Bairro Ininga', 'addressLocality': 'Teresina', 'addressRegion': 'Piauí', 'postalCode': '64049-740', 'country': 'Brasil'}, 'website': 'None', 'email': 'None', 'phoneNumber': '08632334338', 'averageRating': '4.0'}\n",
            "itemReviewed  Vertigo Restaurante\n",
            "sub ItemReviewd:  {'streetAddress': 'R. Aviador Irapua Rocha, 2370 Bairro Ininga', 'addressLocality': 'Teresina', 'addressRegion': 'Piauí', 'postalCode': '64049-740', 'country': 'Brasil'}\n",
            "valor  <class 'dict'>\n",
            "StreetAddress:  R. Aviador Irapua Rocha, 2370 Bairro Ininga\n",
            "addressLocality:  Teresina\n",
            "postalCode:  64049-740\n",
            "country:  Brasil\n",
            "streetAddress :  R. Aviador Irapua Rocha, 2370 Bairro Ininga\n",
            "addressLocality :  Teresina\n",
            "addressRegion :  Piauí\n",
            "postalCode :  64049-740\n",
            "country :  Brasil\n",
            "title : Mais tradicional de BH\n",
            "reviewId : 400149803\n",
            "restaurantId : 3514720\n",
            "author : Leonardo R\n",
            "reviewBody : A pizzaria é a mais tradicional de Belo Horizonte. São várias opções. Além das pizzas também tem um excepicional parmeggiana, delicioso e suculento\n",
            "language : pt\n",
            "mobileDevice : False\n",
            "userLocation : Belo Horizonte, MG\n",
            "publicationDate : 01/08/2016\n",
            "visitDate : 07/2016\n",
            "ratingValue : 5\n",
            "itemReviewed : {'name': 'Pizzarella', 'address': {'streetAddress': 'Av. Olegário Maciel, 2.280 - Lourdes', 'addressLocality': 'Belo Horizonte', 'addressRegion': 'Minas Gerais', 'postalCode': '', 'country': 'Brasil'}, 'website': 'http://www.pizzarellasaobento.com.br/home/default.asp', 'email': 'None', 'phoneNumber': '(31) 3292-3000', 'averageRating': '4.0'}\n",
            "itemReviewed  Pizzarella\n",
            "sub ItemReviewd:  {'streetAddress': 'Av. Olegário Maciel, 2.280 - Lourdes', 'addressLocality': 'Belo Horizonte', 'addressRegion': 'Minas Gerais', 'postalCode': '', 'country': 'Brasil'}\n",
            "valor  <class 'dict'>\n",
            "StreetAddress:  Av. Olegário Maciel, 2.280 - Lourdes\n",
            "addressLocality:  Belo Horizonte\n",
            "postalCode:  \n",
            "country:  Brasil\n",
            "streetAddress :  Av. Olegário Maciel, 2.280 - Lourdes\n",
            "addressLocality :  Belo Horizonte\n",
            "addressRegion :  Minas Gerais\n",
            "postalCode :  \n",
            "country :  Brasil\n",
            "<class 'str'>\n",
            "Comida maravilhosa, lugar do verdadeiro chiclete de camarão. \n",
            "O garçom Éric Lima nos atendeu muito bem, pretendemos voltar assim que possível.\n",
            "line:  1\n"
          ],
          "name": "stdout"
        }
      ]
    },
    {
      "cell_type": "markdown",
      "metadata": {
        "id": "P2wMD-7g3WNm"
      },
      "source": [
        ""
      ]
    },
    {
      "cell_type": "code",
      "metadata": {
        "id": "TUcJrrTWyFCz"
      },
      "source": [
        "dados['title'] = dados['title'].apply(lambda x: str(x).replace('{\"title\":\"','')) # Coluna 1 - limpa os caracteres de seujeira title\":\" da coluna\n",
        "dados['reviewId'] = dados['reviewId'].apply(lambda x: str(x).replace('reviewId\":\"','')) # Coluna 2 - limpa os caracteres de seujeira title\":\" da coluna\n",
        "dados['restaurantId'] = dados['restaurantId'].apply(lambda x: str(x).replace('restaurantId\":\"','')) # Coluna 3- limpa os caracteres de seujeira da coluna\n",
        "dados['author'] = dados['author'].apply(lambda x: str(x).replace('author\":\"','')) # Coluna 4- limpa os caracteres de seujeira da coluna\n",
        "dados['reviewBody'] = dados['reviewBody'].apply(lambda x: str(x).replace('reviewBody\":\"','')) # Coluna 5- limpa os caracteres de seujeira da coluna\n",
        "dados['language'] = dados['language'].apply(lambda x: str(x).replace('language\":\"','')) # Coluna 6- limpa os caracteres de seujeira da coluna\n",
        "dados['mobileDevice'] = dados['mobileDevice'].apply(lambda x: str(x).replace('mobileDevice\":\"','')) # Coluna 7- limpa os caracteres de seujeira da coluna\n",
        "dados['userLocation'] = dados['userLocation'].apply(lambda x: str(x).replace('userLocation\":\"','')) # Coluna 8- limpa os caracteres de seujeira da coluna\n",
        "dados['publicationDate'] = dados['publicationDate'].apply(lambda x: str(x).replace('publicationDate\":\"','')) # Coluna 9- limpa os caracteres de seujeira da coluna\n",
        "dados['visitDate'] = dados['visitDate'].apply(lambda x: str(x).replace('visitDate\":\"','')) # Coluna 10- limpa os caracteres de seujeira da coluna\n",
        "dados['itemReviewed'] = dados['itemReviewed'].apply(lambda x: str(x).replace('itemReviewed\":\"','')) # Coluna11- limpa os caracteres de seujeira da coluna\n",
        "dados['address']= dados['address'].apply(lambda x: str(x).replace('address\":{\"streetAddress\":',''))# Coluna12- limpa os caracteres de seujeira da coluna\n",
        "dados['addressLocality']= dados['addressLocality'].apply(lambda x: str(x).replace('addressLocality\":\"',''))# Coluna13- limpa os caracteres de seujeira da coluna\n",
        "dados['addressRegion']= dados['addressRegion'].apply(lambda x: str(x).replace('addressRegion\":\"',''))# Coluna14- limpa os caracteres de seujeira da coluna\n",
        "dados['postalCode']= dados['postalCode'].apply(lambda x: str(x).replace('postalCode\":\"',''))# Coluna15- limpa os caracteres de seujeira da coluna\n",
        "dados['country']= dados['country'].apply(lambda x: str(x).replace('country\":\"',''))# Coluna16- limpa os caracteres de seujeira da coluna\n",
        "dados['website']= dados['website'].apply(lambda x: str(x).replace('\"website\":\"',''))# Coluna16- limpa os caracteres de seujeira da coluna\n",
        "dados['email']= dados['email'].apply(lambda x: str(x).replace('email\":\"\":\"',''))# Coluna16- limpa os caracteres de seujeira da coluna\n",
        "dados['phoneNumber']= dados['phoneNumber'].apply(lambda x: str(x).replace('phoneNumber\":\"',''))# Coluna16- limpa os caracteres de seujeira da coluna\n",
        "dados['averageRating']= dados['averageRating'].apply(lambda x: str(x).replace('averageRating\":\"',''))# Coluna16- limpa os caracteres de seujeira da coluna\n",
        "dados['averageRating']= dados['averageRating'].apply(lambda x: str(x).replace('}}',''))# Coluna16- limpa os caracteres de seujeira da coluna\n",
        "dados['country']= dados['country'].apply(lambda x: str(x).replace('country\":\"',''))# Coluna16- limpa os caracteres de seujeira da coluna"
      ],
      "execution_count": null,
      "outputs": []
    },
    {
      "cell_type": "code",
      "metadata": {
        "id": "A-x9ajYsyNZC",
        "colab": {
          "base_uri": "https://localhost:8080/",
          "height": 825
        },
        "outputId": "39b10d45-13e4-4b5d-b2cd-cd3ff1a521dd"
      },
      "source": [
        "dados"
      ],
      "execution_count": null,
      "outputs": [
        {
          "output_type": "execute_result",
          "data": {
            "text/html": [
              "<div>\n",
              "<style scoped>\n",
              "    .dataframe tbody tr th:only-of-type {\n",
              "        vertical-align: middle;\n",
              "    }\n",
              "\n",
              "    .dataframe tbody tr th {\n",
              "        vertical-align: top;\n",
              "    }\n",
              "\n",
              "    .dataframe thead th {\n",
              "        text-align: right;\n",
              "    }\n",
              "</style>\n",
              "<table border=\"1\" class=\"dataframe\">\n",
              "  <thead>\n",
              "    <tr style=\"text-align: right;\">\n",
              "      <th></th>\n",
              "      <th>title</th>\n",
              "      <th>reviewId</th>\n",
              "      <th>restaurantId</th>\n",
              "      <th>author</th>\n",
              "      <th>reviewBody</th>\n",
              "      <th>language</th>\n",
              "      <th>mobileDevice</th>\n",
              "      <th>userLocation</th>\n",
              "      <th>publicationDate</th>\n",
              "      <th>visitDate</th>\n",
              "      <th>ratingValue</th>\n",
              "      <th>itemReviewed</th>\n",
              "      <th>address</th>\n",
              "      <th>addressLocality</th>\n",
              "      <th>addressRegion</th>\n",
              "      <th>postalCode</th>\n",
              "      <th>country</th>\n",
              "      <th>website</th>\n",
              "      <th>email</th>\n",
              "      <th>phoneNumber</th>\n",
              "      <th>averageRating</th>\n",
              "    </tr>\n",
              "  </thead>\n",
              "  <tbody>\n",
              "    <tr>\n",
              "      <th>0</th>\n",
              "      <td>Jantar</td>\n",
              "      <td>692856288</td>\n",
              "      <td>2344932</td>\n",
              "      <td>larinhavercosa222</td>\n",
              "      <td>Comida maravilhosa. lugar do verdadeiro chicle...</td>\n",
              "      <td>pt</td>\n",
              "      <td>True</td>\n",
              "      <td>São Carlos. SP</td>\n",
              "      <td>26/07/2019</td>\n",
              "      <td>07/2019</td>\n",
              "      <td>5</td>\n",
              "      <td>Imperador dos Camar\\u00F5es</td>\n",
              "      <td>Avenida Doutor Ant\\u00F4nio Gouveia</td>\n",
              "      <td>nan</td>\n",
              "      <td>Alagoas</td>\n",
              "      <td>57030-170</td>\n",
              "      <td>Brasil</td>\n",
              "      <td>http://www.imperadordoscamaroes.com.br</td>\n",
              "      <td>contato@imperadordoscamaroes.com.br</td>\n",
              "      <td>+55 82 3231-4134</td>\n",
              "      <td>4.5</td>\n",
              "    </tr>\n",
              "    <tr>\n",
              "      <th>1</th>\n",
              "      <td>Uma boa experi\\u00EAncia.</td>\n",
              "      <td>229208487</td>\n",
              "      <td>3720906</td>\n",
              "      <td>Pano P</td>\n",
              "      <td>Comida boa. drinks legais e um ambiente bem ac...</td>\n",
              "      <td>pt</td>\n",
              "      <td>True</td>\n",
              "      <td>Manaus. AM</td>\n",
              "      <td>16/09/2014</td>\n",
              "      <td>None</td>\n",
              "      <td>4</td>\n",
              "      <td>Guacamole Natal</td>\n",
              "      <td>Avenida Praia de Ponta Negra 9068 Ponta Negra</td>\n",
              "      <td>nan</td>\n",
              "      <td>Rio Grande do Norte</td>\n",
              "      <td>59092-100</td>\n",
              "      <td>Brasil</td>\n",
              "      <td>http://www.facebook.com/GuacamoleNatal</td>\n",
              "      <td>guacamolenatal@gmail.com</td>\n",
              "      <td>+55 84 3219-3646</td>\n",
              "      <td>4.5</td>\n",
              "    </tr>\n",
              "    <tr>\n",
              "      <th>2</th>\n",
              "      <td>Otimo self service</td>\n",
              "      <td>679002332</td>\n",
              "      <td>2248105</td>\n",
              "      <td>Magma100</td>\n",
              "      <td>Excelente pra ir com a fam\\u00EDlia! \\u00D3tim...</td>\n",
              "      <td>pt</td>\n",
              "      <td>True</td>\n",
              "      <td>Goiânia. GO</td>\n",
              "      <td>04/06/2019</td>\n",
              "      <td>07/2018</td>\n",
              "      <td>4</td>\n",
              "      <td>Chica Pitanga</td>\n",
              "      <td>Rua Petrolina 19</td>\n",
              "      <td>Recife</td>\n",
              "      <td>Pernambuco</td>\n",
              "      <td>51021-250</td>\n",
              "      <td>Brasil</td>\n",
              "      <td>http://www.chicapitanga.com.br</td>\n",
              "      <td>chicapitanga@chicapitanga.com.br</td>\n",
              "      <td>+55 81 3334-8260</td>\n",
              "      <td>4.5</td>\n",
              "    </tr>\n",
              "    <tr>\n",
              "      <th>3</th>\n",
              "      <td>O sorvete mais tradicional do estado</td>\n",
              "      <td>355671519</td>\n",
              "      <td>8168302</td>\n",
              "      <td>Yurie M</td>\n",
              "      <td>Tomo sorvete na Visabor faz mais de 30 anos. S...</td>\n",
              "      <td>pt</td>\n",
              "      <td>False</td>\n",
              "      <td>Aracaju. SE</td>\n",
              "      <td>15/03/2016</td>\n",
              "      <td>01/2016</td>\n",
              "      <td>5</td>\n",
              "      <td>Sorvetes Vi Sabor</td>\n",
              "      <td>Avenida Francisco Porto 59 Grageru</td>\n",
              "      <td>Aracaju</td>\n",
              "      <td>Sergipe</td>\n",
              "      <td>nan</td>\n",
              "      <td>Brasil</td>\n",
              "      <td>None</td>\n",
              "      <td>None</td>\n",
              "      <td>None</td>\n",
              "      <td>4.0</td>\n",
              "    </tr>\n",
              "    <tr>\n",
              "      <th>4</th>\n",
              "      <td>Melhor hamburger!</td>\n",
              "      <td>268741921</td>\n",
              "      <td>5395141</td>\n",
              "      <td>Debora_C85</td>\n",
              "      <td>O melhor hamburger que j\\u00E1 comi! Excelente...</td>\n",
              "      <td>pt</td>\n",
              "      <td>False</td>\n",
              "      <td>Rio de Janeiro. RJ</td>\n",
              "      <td>28/04/2015</td>\n",
              "      <td>04/2015</td>\n",
              "      <td>5</td>\n",
              "      <td>Z Deli Sandwich Shop</td>\n",
              "      <td>Rua Haddock Lobo 1386 Jardins</td>\n",
              "      <td>S\\u00E3o Paulo</td>\n",
              "      <td>Estado de S\\u00E3o Paulo</td>\n",
              "      <td>01414-002</td>\n",
              "      <td>Brasil</td>\n",
              "      <td>http://www.facebook.com/zdelisandwichshop/</td>\n",
              "      <td>None</td>\n",
              "      <td>551130830021</td>\n",
              "      <td>4.5</td>\n",
              "    </tr>\n",
              "    <tr>\n",
              "      <th>...</th>\n",
              "      <td>...</td>\n",
              "      <td>...</td>\n",
              "      <td>...</td>\n",
              "      <td>...</td>\n",
              "      <td>...</td>\n",
              "      <td>...</td>\n",
              "      <td>...</td>\n",
              "      <td>...</td>\n",
              "      <td>...</td>\n",
              "      <td>...</td>\n",
              "      <td>...</td>\n",
              "      <td>...</td>\n",
              "      <td>...</td>\n",
              "      <td>...</td>\n",
              "      <td>...</td>\n",
              "      <td>...</td>\n",
              "      <td>...</td>\n",
              "      <td>...</td>\n",
              "      <td>...</td>\n",
              "      <td>...</td>\n",
              "      <td>...</td>\n",
              "    </tr>\n",
              "    <tr>\n",
              "      <th>99995</th>\n",
              "      <td>Nova op\\u00E7\\u00E3o no Paseo!!!</td>\n",
              "      <td>672210394</td>\n",
              "      <td>17424548</td>\n",
              "      <td>Fabiano B</td>\n",
              "      <td>Ainda n\\u00E3o inaugurado oficialmente. est\\u0...</td>\n",
              "      <td>pt</td>\n",
              "      <td>True</td>\n",
              "      <td>Porto Alegre. RS</td>\n",
              "      <td>07/05/2019</td>\n",
              "      <td>05/2019</td>\n",
              "      <td>5</td>\n",
              "      <td>Boteco Maestro</td>\n",
              "      <td>Avenida Wenceslau Escobar 1823</td>\n",
              "      <td>Porto Alegre</td>\n",
              "      <td>Rio Grande do Sul</td>\n",
              "      <td>91900-000</td>\n",
              "      <td>Brasil</td>\n",
              "      <td>http://www.facebook.com/botecomaestro</td>\n",
              "      <td>None</td>\n",
              "      <td>+55 51 99353-6602</td>\n",
              "      <td>4.0</td>\n",
              "    </tr>\n",
              "    <tr>\n",
              "      <th>99996</th>\n",
              "      <td>Bom</td>\n",
              "      <td>380904400</td>\n",
              "      <td>2440184</td>\n",
              "      <td>Chris L</td>\n",
              "      <td>Bom atendimento. lugar bonito. comida muito go...</td>\n",
              "      <td>pt</td>\n",
              "      <td>True</td>\n",
              "      <td>Cork. Irlanda</td>\n",
              "      <td>08/06/2016</td>\n",
              "      <td>01/2016</td>\n",
              "      <td>4</td>\n",
              "      <td>Casa do Marqu\\u00EAs</td>\n",
              "      <td>Rua Marques do Pombal. 1814 Higien\\u00F3polis</td>\n",
              "      <td>Porto Alegre</td>\n",
              "      <td>Rio Grande do Sul</td>\n",
              "      <td>90540-000</td>\n",
              "      <td>Brasil</td>\n",
              "      <td>http://galeteriacasadomarques.com.br/</td>\n",
              "      <td>galeteriacasadomarques@galeteriacasadomarques....</td>\n",
              "      <td>+55 51 3343-4303</td>\n",
              "      <td>4.5</td>\n",
              "    </tr>\n",
              "    <tr>\n",
              "      <th>99997</th>\n",
              "      <td>Bom bar</td>\n",
              "      <td>186111858</td>\n",
              "      <td>2392996</td>\n",
              "      <td>Guilherme P</td>\n",
              "      <td>O Rio Scenarium \\u00E9 uma das baladas mais fa...</td>\n",
              "      <td>pt</td>\n",
              "      <td>False</td>\n",
              "      <td>São Paulo. SP</td>\n",
              "      <td>27/11/2013</td>\n",
              "      <td>11/2013</td>\n",
              "      <td>4</td>\n",
              "      <td>Rio Scenarium</td>\n",
              "      <td>Rua do Lavradio 20 Centro</td>\n",
              "      <td>Rio de Janeiro</td>\n",
              "      <td>Estado do Rio de Janeiro</td>\n",
              "      <td>20230-070</td>\n",
              "      <td>Brasil</td>\n",
              "      <td>http://www.rioscenarium.art.br</td>\n",
              "      <td>None</td>\n",
              "      <td>+55 21-3147-9000</td>\n",
              "      <td>4.5</td>\n",
              "    </tr>\n",
              "    <tr>\n",
              "      <th>99998</th>\n",
              "      <td>Me senti enganada...</td>\n",
              "      <td>152745909</td>\n",
              "      <td>1062290</td>\n",
              "      <td>LisianeCohem</td>\n",
              "      <td>Fui por indica\\u00E7\\u00E3o e com boa expectat...</td>\n",
              "      <td>pt</td>\n",
              "      <td>True</td>\n",
              "      <td>Porto Alegre. RS</td>\n",
              "      <td>21/02/2013</td>\n",
              "      <td>None</td>\n",
              "      <td>2</td>\n",
              "      <td>Celeiro</td>\n",
              "      <td>Rua Dias Ferreira 199</td>\n",
              "      <td>Rio de Janeiro</td>\n",
              "      <td>Estado do Rio de Janeiro</td>\n",
              "      <td>22431-050</td>\n",
              "      <td>Brasil</td>\n",
              "      <td>http://www.celeiroculinaria.com.br</td>\n",
              "      <td>celeiro@celeiroculinaria.com.br</td>\n",
              "      <td>55 21 2274 7843</td>\n",
              "      <td>3.5</td>\n",
              "    </tr>\n",
              "    <tr>\n",
              "      <th>99999</th>\n",
              "      <td>Restaurante excelente</td>\n",
              "      <td>649755498</td>\n",
              "      <td>12433911</td>\n",
              "      <td>brunotulio</td>\n",
              "      <td>Experi\\u00EAncia fant\\u00E1stica com comida de...</td>\n",
              "      <td>pt</td>\n",
              "      <td>True</td>\n",
              "      <td>Manaus. AM</td>\n",
              "      <td>02/02/2019</td>\n",
              "      <td>02/2019</td>\n",
              "      <td>5</td>\n",
              "      <td>Coco Bambu Manaus</td>\n",
              "      <td>Avenida Coronel Teixeira. 5705 Ponta Negra. Sh...</td>\n",
              "      <td>Manaus</td>\n",
              "      <td>Rio Amazonas</td>\n",
              "      <td>69037-000</td>\n",
              "      <td>Brasil</td>\n",
              "      <td>http://www.facebook.com/cocobambumanausoficial/</td>\n",
              "      <td>rh.manaus@cocobambu.com</td>\n",
              "      <td>+55 92 3667-7430</td>\n",
              "      <td>5.0</td>\n",
              "    </tr>\n",
              "  </tbody>\n",
              "</table>\n",
              "<p>100000 rows × 21 columns</p>\n",
              "</div>"
            ],
            "text/plain": [
              "                                      title  ... averageRating\n",
              "0                                   Jantar   ...           4.5\n",
              "1                 Uma boa experi\\u00EAncia.  ...           4.5\n",
              "2                        Otimo self service  ...           4.5\n",
              "3      O sorvete mais tradicional do estado  ...           4.0\n",
              "4                         Melhor hamburger!  ...           4.5\n",
              "...                                     ...  ...           ...\n",
              "99995      Nova op\\u00E7\\u00E3o no Paseo!!!  ...           4.0\n",
              "99996                                   Bom  ...           4.5\n",
              "99997                               Bom bar  ...           4.5\n",
              "99998                  Me senti enganada...  ...           3.5\n",
              "99999                 Restaurante excelente  ...           5.0\n",
              "\n",
              "[100000 rows x 21 columns]"
            ]
          },
          "metadata": {
            "tags": []
          },
          "execution_count": 143
        }
      ]
    },
    {
      "cell_type": "code",
      "metadata": {
        "colab": {
          "base_uri": "https://localhost:8080/"
        },
        "id": "PLBpeBeEelHN",
        "outputId": "915939cb-da38-4a55-8649-70c9b1af1f90"
      },
      "source": [
        "dados.info()"
      ],
      "execution_count": null,
      "outputs": [
        {
          "output_type": "stream",
          "text": [
            "<class 'pandas.core.frame.DataFrame'>\n",
            "RangeIndex: 100000 entries, 0 to 99999\n",
            "Data columns (total 21 columns):\n",
            " #   Column           Non-Null Count   Dtype  \n",
            "---  ------           --------------   -----  \n",
            " 0   title            100000 non-null  object \n",
            " 1   reviewId         0 non-null       float64\n",
            " 2   restaurantId     0 non-null       float64\n",
            " 3   author           0 non-null       float64\n",
            " 4   reviewBody       0 non-null       float64\n",
            " 5   language         0 non-null       float64\n",
            " 6   mobileDevice     0 non-null       float64\n",
            " 7   userLocation     0 non-null       float64\n",
            " 8   publicationDate  0 non-null       float64\n",
            " 9   visitDate        0 non-null       float64\n",
            " 10  ratingValue      0 non-null       float64\n",
            " 11  itemReviewed     0 non-null       float64\n",
            " 12  address          0 non-null       float64\n",
            " 13  addressLocality  0 non-null       float64\n",
            " 14  addressRegion    0 non-null       float64\n",
            " 15  postalCode       0 non-null       float64\n",
            " 16  country          0 non-null       float64\n",
            " 17  website          0 non-null       float64\n",
            " 18  email            0 non-null       float64\n",
            " 19  phoneNumber      0 non-null       float64\n",
            " 20  averageRating    0 non-null       float64\n",
            "dtypes: float64(20), object(1)\n",
            "memory usage: 16.0+ MB\n"
          ],
          "name": "stdout"
        }
      ]
    },
    {
      "cell_type": "code",
      "metadata": {
        "id": "tAKDhW6kyz01",
        "colab": {
          "base_uri": "https://localhost:8080/",
          "height": 407
        },
        "outputId": "b5e16eac-d1c2-420c-a678-c3d5651235b5"
      },
      "source": [
        "diaDaVisita = dados.iloc[:,9:10]\n",
        "diaDaVisita"
      ],
      "execution_count": null,
      "outputs": [
        {
          "output_type": "execute_result",
          "data": {
            "text/html": [
              "<div>\n",
              "<style scoped>\n",
              "    .dataframe tbody tr th:only-of-type {\n",
              "        vertical-align: middle;\n",
              "    }\n",
              "\n",
              "    .dataframe tbody tr th {\n",
              "        vertical-align: top;\n",
              "    }\n",
              "\n",
              "    .dataframe thead th {\n",
              "        text-align: right;\n",
              "    }\n",
              "</style>\n",
              "<table border=\"1\" class=\"dataframe\">\n",
              "  <thead>\n",
              "    <tr style=\"text-align: right;\">\n",
              "      <th></th>\n",
              "      <th>visitDate</th>\n",
              "    </tr>\n",
              "  </thead>\n",
              "  <tbody>\n",
              "    <tr>\n",
              "      <th>0</th>\n",
              "      <td>07/2019</td>\n",
              "    </tr>\n",
              "    <tr>\n",
              "      <th>1</th>\n",
              "      <td>None</td>\n",
              "    </tr>\n",
              "    <tr>\n",
              "      <th>2</th>\n",
              "      <td>07/2018</td>\n",
              "    </tr>\n",
              "    <tr>\n",
              "      <th>3</th>\n",
              "      <td>01/2016</td>\n",
              "    </tr>\n",
              "    <tr>\n",
              "      <th>4</th>\n",
              "      <td>04/2015</td>\n",
              "    </tr>\n",
              "    <tr>\n",
              "      <th>...</th>\n",
              "      <td>...</td>\n",
              "    </tr>\n",
              "    <tr>\n",
              "      <th>99995</th>\n",
              "      <td>05/2019</td>\n",
              "    </tr>\n",
              "    <tr>\n",
              "      <th>99996</th>\n",
              "      <td>01/2016</td>\n",
              "    </tr>\n",
              "    <tr>\n",
              "      <th>99997</th>\n",
              "      <td>11/2013</td>\n",
              "    </tr>\n",
              "    <tr>\n",
              "      <th>99998</th>\n",
              "      <td>None</td>\n",
              "    </tr>\n",
              "    <tr>\n",
              "      <th>99999</th>\n",
              "      <td>02/2019</td>\n",
              "    </tr>\n",
              "  </tbody>\n",
              "</table>\n",
              "<p>100000 rows × 1 columns</p>\n",
              "</div>"
            ],
            "text/plain": [
              "      visitDate\n",
              "0       07/2019\n",
              "1          None\n",
              "2       07/2018\n",
              "3       01/2016\n",
              "4       04/2015\n",
              "...         ...\n",
              "99995   05/2019\n",
              "99996   01/2016\n",
              "99997   11/2013\n",
              "99998      None\n",
              "99999   02/2019\n",
              "\n",
              "[100000 rows x 1 columns]"
            ]
          },
          "metadata": {
            "tags": []
          },
          "execution_count": 107
        }
      ]
    },
    {
      "cell_type": "code",
      "metadata": {
        "colab": {
          "base_uri": "https://localhost:8080/"
        },
        "id": "lfYuCOWDJOdY",
        "outputId": "ca02ff09-8f1c-4191-db82-240c447d4ea2"
      },
      "source": [
        "dados.count()"
      ],
      "execution_count": null,
      "outputs": [
        {
          "output_type": "execute_result",
          "data": {
            "text/plain": [
              "title              100000\n",
              "reviewId           100000\n",
              "restaurantId       100000\n",
              "author             100000\n",
              "reviewBody         100000\n",
              "language            99983\n",
              "mobileDevice       100000\n",
              "userLocation       100000\n",
              "publicationDate    100000\n",
              "visitDate          100000\n",
              "ratingValue        100000\n",
              "itemReviewed       100000\n",
              "address             99938\n",
              "addressLocality     86319\n",
              "addressRegion      100000\n",
              "postalCode          95036\n",
              "country            100000\n",
              "website            100000\n",
              "email              100000\n",
              "phoneNumber        100000\n",
              "averageRating      100000\n",
              "dtype: int64"
            ]
          },
          "metadata": {
            "tags": []
          },
          "execution_count": 108
        }
      ]
    },
    {
      "cell_type": "code",
      "metadata": {
        "id": "FqDxYdQq2SrB",
        "colab": {
          "base_uri": "https://localhost:8080/"
        },
        "outputId": "e03a8149-d75b-405d-b615-5074a7ace6dd"
      },
      "source": [
        "dados.duplicated()"
      ],
      "execution_count": null,
      "outputs": [
        {
          "output_type": "execute_result",
          "data": {
            "text/plain": [
              "0        False\n",
              "1        False\n",
              "2        False\n",
              "3        False\n",
              "4        False\n",
              "         ...  \n",
              "99995    False\n",
              "99996    False\n",
              "99997    False\n",
              "99998    False\n",
              "99999    False\n",
              "Length: 100000, dtype: bool"
            ]
          },
          "metadata": {
            "tags": []
          },
          "execution_count": 109
        }
      ]
    },
    {
      "cell_type": "code",
      "metadata": {
        "id": "77RiauiozZEU",
        "colab": {
          "base_uri": "https://localhost:8080/",
          "height": 288
        },
        "outputId": "5df8d535-cef9-4a24-b892-c2de87e55dac"
      },
      "source": [
        "avaliacaoGeral = dados.iloc[:,10:11]\n",
        "avaliacaoGeral.describe()"
      ],
      "execution_count": null,
      "outputs": [
        {
          "output_type": "execute_result",
          "data": {
            "text/html": [
              "<div>\n",
              "<style scoped>\n",
              "    .dataframe tbody tr th:only-of-type {\n",
              "        vertical-align: middle;\n",
              "    }\n",
              "\n",
              "    .dataframe tbody tr th {\n",
              "        vertical-align: top;\n",
              "    }\n",
              "\n",
              "    .dataframe thead th {\n",
              "        text-align: right;\n",
              "    }\n",
              "</style>\n",
              "<table border=\"1\" class=\"dataframe\">\n",
              "  <thead>\n",
              "    <tr style=\"text-align: right;\">\n",
              "      <th></th>\n",
              "      <th>ratingValue</th>\n",
              "    </tr>\n",
              "  </thead>\n",
              "  <tbody>\n",
              "    <tr>\n",
              "      <th>count</th>\n",
              "      <td>100000.00000</td>\n",
              "    </tr>\n",
              "    <tr>\n",
              "      <th>mean</th>\n",
              "      <td>4.25719</td>\n",
              "    </tr>\n",
              "    <tr>\n",
              "      <th>std</th>\n",
              "      <td>0.96880</td>\n",
              "    </tr>\n",
              "    <tr>\n",
              "      <th>min</th>\n",
              "      <td>1.00000</td>\n",
              "    </tr>\n",
              "    <tr>\n",
              "      <th>25%</th>\n",
              "      <td>4.00000</td>\n",
              "    </tr>\n",
              "    <tr>\n",
              "      <th>50%</th>\n",
              "      <td>5.00000</td>\n",
              "    </tr>\n",
              "    <tr>\n",
              "      <th>75%</th>\n",
              "      <td>5.00000</td>\n",
              "    </tr>\n",
              "    <tr>\n",
              "      <th>max</th>\n",
              "      <td>5.00000</td>\n",
              "    </tr>\n",
              "  </tbody>\n",
              "</table>\n",
              "</div>"
            ],
            "text/plain": [
              "        ratingValue\n",
              "count  100000.00000\n",
              "mean        4.25719\n",
              "std         0.96880\n",
              "min         1.00000\n",
              "25%         4.00000\n",
              "50%         5.00000\n",
              "75%         5.00000\n",
              "max         5.00000"
            ]
          },
          "metadata": {
            "tags": []
          },
          "execution_count": 110
        }
      ]
    },
    {
      "cell_type": "code",
      "metadata": {
        "id": "DHm6-0qe0N4O",
        "colab": {
          "base_uri": "https://localhost:8080/",
          "height": 407
        },
        "outputId": "63c0b086-14c4-42d5-f3f2-4488435be203"
      },
      "source": [
        "dispositivoMovel = dados.iloc[:,6:7]\n",
        "dispositivoMovel"
      ],
      "execution_count": null,
      "outputs": [
        {
          "output_type": "execute_result",
          "data": {
            "text/html": [
              "<div>\n",
              "<style scoped>\n",
              "    .dataframe tbody tr th:only-of-type {\n",
              "        vertical-align: middle;\n",
              "    }\n",
              "\n",
              "    .dataframe tbody tr th {\n",
              "        vertical-align: top;\n",
              "    }\n",
              "\n",
              "    .dataframe thead th {\n",
              "        text-align: right;\n",
              "    }\n",
              "</style>\n",
              "<table border=\"1\" class=\"dataframe\">\n",
              "  <thead>\n",
              "    <tr style=\"text-align: right;\">\n",
              "      <th></th>\n",
              "      <th>mobileDevice</th>\n",
              "    </tr>\n",
              "  </thead>\n",
              "  <tbody>\n",
              "    <tr>\n",
              "      <th>0</th>\n",
              "      <td>True</td>\n",
              "    </tr>\n",
              "    <tr>\n",
              "      <th>1</th>\n",
              "      <td>True</td>\n",
              "    </tr>\n",
              "    <tr>\n",
              "      <th>2</th>\n",
              "      <td>True</td>\n",
              "    </tr>\n",
              "    <tr>\n",
              "      <th>3</th>\n",
              "      <td>False</td>\n",
              "    </tr>\n",
              "    <tr>\n",
              "      <th>4</th>\n",
              "      <td>False</td>\n",
              "    </tr>\n",
              "    <tr>\n",
              "      <th>...</th>\n",
              "      <td>...</td>\n",
              "    </tr>\n",
              "    <tr>\n",
              "      <th>99995</th>\n",
              "      <td>True</td>\n",
              "    </tr>\n",
              "    <tr>\n",
              "      <th>99996</th>\n",
              "      <td>True</td>\n",
              "    </tr>\n",
              "    <tr>\n",
              "      <th>99997</th>\n",
              "      <td>False</td>\n",
              "    </tr>\n",
              "    <tr>\n",
              "      <th>99998</th>\n",
              "      <td>True</td>\n",
              "    </tr>\n",
              "    <tr>\n",
              "      <th>99999</th>\n",
              "      <td>True</td>\n",
              "    </tr>\n",
              "  </tbody>\n",
              "</table>\n",
              "<p>100000 rows × 1 columns</p>\n",
              "</div>"
            ],
            "text/plain": [
              "       mobileDevice\n",
              "0              True\n",
              "1              True\n",
              "2              True\n",
              "3             False\n",
              "4             False\n",
              "...             ...\n",
              "99995          True\n",
              "99996          True\n",
              "99997         False\n",
              "99998          True\n",
              "99999          True\n",
              "\n",
              "[100000 rows x 1 columns]"
            ]
          },
          "metadata": {
            "tags": []
          },
          "execution_count": 111
        }
      ]
    },
    {
      "cell_type": "markdown",
      "metadata": {
        "id": "GlH3Y-3wbX_h"
      },
      "source": [
        "####1.2. Informações sobre o DataFrame"
      ]
    },
    {
      "cell_type": "code",
      "metadata": {
        "id": "uc1v5i81xaqI",
        "colab": {
          "base_uri": "https://localhost:8080/"
        },
        "outputId": "f3fb21f5-f9e3-4c90-abc8-9e346a979174"
      },
      "source": [
        "dados['title']"
      ],
      "execution_count": null,
      "outputs": [
        {
          "output_type": "execute_result",
          "data": {
            "text/plain": [
              "0        Jantar ,692856288,2344932,larinhavercosa222,Co...\n",
              "1        Uma boa experi\\u00EAncia.,229208487,3720906,Pa...\n",
              "2        Otimo self service,679002332,2248105,Magma100,...\n",
              "3        O sorvete mais tradicional do estado,355671519...\n",
              "4        Melhor hamburger!,268741921,5395141,Debora_C85...\n",
              "                               ...                        \n",
              "99995    Nova op\\u00E7\\u00E3o no Paseo!!!,672210394,174...\n",
              "99996    Bom,380904400,2440184,Chris L,Bom atendimento....\n",
              "99997    Bom bar,186111858,2392996,Guilherme P,O Rio Sc...\n",
              "99998    Me senti enganada...,152745909,1062290,Lisiane...\n",
              "99999    Restaurante excelente,649755498,12433911,bruno...\n",
              "Name: title, Length: 100000, dtype: object"
            ]
          },
          "metadata": {
            "tags": []
          },
          "execution_count": 124
        }
      ]
    },
    {
      "cell_type": "code",
      "metadata": {
        "colab": {
          "base_uri": "https://localhost:8080/",
          "height": 467
        },
        "id": "0cO7s9xihiFD",
        "outputId": "8b65d6d3-1da5-4c63-9314-22dded285087"
      },
      "source": [
        "profile = ProfileReport(dados, title='Pandas Profile Report', html={'style':{'full_width':True}})"
      ],
      "execution_count": null,
      "outputs": [
        {
          "output_type": "error",
          "ename": "OSError",
          "evalue": "ignored",
          "traceback": [
            "\u001b[0;31m---------------------------------------------------------------------------\u001b[0m",
            "\u001b[0;31mFileNotFoundError\u001b[0m                         Traceback (most recent call last)",
            "\u001b[0;32m/usr/local/lib/python3.6/dist-packages/matplotlib/style/core.py\u001b[0m in \u001b[0;36muse\u001b[0;34m(style)\u001b[0m\n\u001b[1;32m    113\u001b[0m             \u001b[0;32mtry\u001b[0m\u001b[0;34m:\u001b[0m\u001b[0;34m\u001b[0m\u001b[0;34m\u001b[0m\u001b[0m\n\u001b[0;32m--> 114\u001b[0;31m                 \u001b[0mrc\u001b[0m \u001b[0;34m=\u001b[0m \u001b[0mrc_params_from_file\u001b[0m\u001b[0;34m(\u001b[0m\u001b[0mstyle\u001b[0m\u001b[0;34m,\u001b[0m \u001b[0muse_default_template\u001b[0m\u001b[0;34m=\u001b[0m\u001b[0;32mFalse\u001b[0m\u001b[0;34m)\u001b[0m\u001b[0;34m\u001b[0m\u001b[0;34m\u001b[0m\u001b[0m\n\u001b[0m\u001b[1;32m    115\u001b[0m                 \u001b[0m_apply_style\u001b[0m\u001b[0;34m(\u001b[0m\u001b[0mrc\u001b[0m\u001b[0;34m)\u001b[0m\u001b[0;34m\u001b[0m\u001b[0;34m\u001b[0m\u001b[0m\n",
            "\u001b[0;32m/usr/local/lib/python3.6/dist-packages/matplotlib/__init__.py\u001b[0m in \u001b[0;36mrc_params_from_file\u001b[0;34m(fname, fail_on_error, use_default_template)\u001b[0m\n\u001b[1;32m    983\u001b[0m     \"\"\"\n\u001b[0;32m--> 984\u001b[0;31m     \u001b[0mconfig_from_file\u001b[0m \u001b[0;34m=\u001b[0m \u001b[0m_rc_params_in_file\u001b[0m\u001b[0;34m(\u001b[0m\u001b[0mfname\u001b[0m\u001b[0;34m,\u001b[0m \u001b[0mfail_on_error\u001b[0m\u001b[0;34m)\u001b[0m\u001b[0;34m\u001b[0m\u001b[0;34m\u001b[0m\u001b[0m\n\u001b[0m\u001b[1;32m    985\u001b[0m \u001b[0;34m\u001b[0m\u001b[0m\n",
            "\u001b[0;32m/usr/local/lib/python3.6/dist-packages/matplotlib/__init__.py\u001b[0m in \u001b[0;36m_rc_params_in_file\u001b[0;34m(fname, fail_on_error)\u001b[0m\n\u001b[1;32m    913\u001b[0m     \u001b[0mrc_temp\u001b[0m \u001b[0;34m=\u001b[0m \u001b[0;34m{\u001b[0m\u001b[0;34m}\u001b[0m\u001b[0;34m\u001b[0m\u001b[0;34m\u001b[0m\u001b[0m\n\u001b[0;32m--> 914\u001b[0;31m     \u001b[0;32mwith\u001b[0m \u001b[0m_open_file_or_url\u001b[0m\u001b[0;34m(\u001b[0m\u001b[0mfname\u001b[0m\u001b[0;34m)\u001b[0m \u001b[0;32mas\u001b[0m \u001b[0mfd\u001b[0m\u001b[0;34m:\u001b[0m\u001b[0;34m\u001b[0m\u001b[0;34m\u001b[0m\u001b[0m\n\u001b[0m\u001b[1;32m    915\u001b[0m         \u001b[0;32mtry\u001b[0m\u001b[0;34m:\u001b[0m\u001b[0;34m\u001b[0m\u001b[0;34m\u001b[0m\u001b[0m\n",
            "\u001b[0;32m/usr/lib/python3.6/contextlib.py\u001b[0m in \u001b[0;36m__enter__\u001b[0;34m(self)\u001b[0m\n\u001b[1;32m     80\u001b[0m         \u001b[0;32mtry\u001b[0m\u001b[0;34m:\u001b[0m\u001b[0;34m\u001b[0m\u001b[0;34m\u001b[0m\u001b[0m\n\u001b[0;32m---> 81\u001b[0;31m             \u001b[0;32mreturn\u001b[0m \u001b[0mnext\u001b[0m\u001b[0;34m(\u001b[0m\u001b[0mself\u001b[0m\u001b[0;34m.\u001b[0m\u001b[0mgen\u001b[0m\u001b[0;34m)\u001b[0m\u001b[0;34m\u001b[0m\u001b[0;34m\u001b[0m\u001b[0m\n\u001b[0m\u001b[1;32m     82\u001b[0m         \u001b[0;32mexcept\u001b[0m \u001b[0mStopIteration\u001b[0m\u001b[0;34m:\u001b[0m\u001b[0;34m\u001b[0m\u001b[0;34m\u001b[0m\u001b[0m\n",
            "\u001b[0;32m/usr/local/lib/python3.6/dist-packages/matplotlib/__init__.py\u001b[0m in \u001b[0;36m_open_file_or_url\u001b[0;34m(fname)\u001b[0m\n\u001b[1;32m    899\u001b[0m             \u001b[0mencoding\u001b[0m \u001b[0;34m=\u001b[0m \u001b[0;34m\"utf-8\"\u001b[0m\u001b[0;34m\u001b[0m\u001b[0;34m\u001b[0m\u001b[0m\n\u001b[0;32m--> 900\u001b[0;31m         \u001b[0;32mwith\u001b[0m \u001b[0mopen\u001b[0m\u001b[0;34m(\u001b[0m\u001b[0mfname\u001b[0m\u001b[0;34m,\u001b[0m \u001b[0mencoding\u001b[0m\u001b[0;34m=\u001b[0m\u001b[0mencoding\u001b[0m\u001b[0;34m)\u001b[0m \u001b[0;32mas\u001b[0m \u001b[0mf\u001b[0m\u001b[0;34m:\u001b[0m\u001b[0;34m\u001b[0m\u001b[0;34m\u001b[0m\u001b[0m\n\u001b[0m\u001b[1;32m    901\u001b[0m             \u001b[0;32myield\u001b[0m \u001b[0mf\u001b[0m\u001b[0;34m\u001b[0m\u001b[0;34m\u001b[0m\u001b[0m\n",
            "\u001b[0;31mFileNotFoundError\u001b[0m: [Errno 2] No such file or directory: '/usr/local/lib/python3.6/dist-packages/pandas_profiling/pandas_profiling.mplstyle'",
            "\nDuring handling of the above exception, another exception occurred:\n",
            "\u001b[0;31mOSError\u001b[0m                                   Traceback (most recent call last)",
            "\u001b[0;32m<ipython-input-136-2a7b805891c2>\u001b[0m in \u001b[0;36m<module>\u001b[0;34m()\u001b[0m\n\u001b[0;32m----> 1\u001b[0;31m \u001b[0mprofile\u001b[0m \u001b[0;34m=\u001b[0m \u001b[0mProfileReport\u001b[0m\u001b[0;34m(\u001b[0m\u001b[0mdados\u001b[0m\u001b[0;34m,\u001b[0m \u001b[0mtitle\u001b[0m\u001b[0;34m=\u001b[0m\u001b[0;34m'Pandas Profile Report'\u001b[0m\u001b[0;34m,\u001b[0m \u001b[0mhtml\u001b[0m\u001b[0;34m=\u001b[0m\u001b[0;34m{\u001b[0m\u001b[0;34m'style'\u001b[0m\u001b[0;34m:\u001b[0m\u001b[0;34m{\u001b[0m\u001b[0;34m'full_width'\u001b[0m\u001b[0;34m:\u001b[0m\u001b[0;32mTrue\u001b[0m\u001b[0;34m}\u001b[0m\u001b[0;34m}\u001b[0m\u001b[0;34m)\u001b[0m\u001b[0;34m\u001b[0m\u001b[0;34m\u001b[0m\u001b[0m\n\u001b[0m",
            "\u001b[0;32m/usr/local/lib/python3.6/dist-packages/pandas_profiling/__init__.py\u001b[0m in \u001b[0;36m__init__\u001b[0;34m(self, df, **kwargs)\u001b[0m\n",
            "\u001b[0;32m/usr/local/lib/python3.6/dist-packages/pandas_profiling/describe.py\u001b[0m in \u001b[0;36mdescribe\u001b[0;34m(df, bins, check_correlation, correlation_threshold, correlation_overrides, check_recoded, pool_size, **kwargs)\u001b[0m\n",
            "\u001b[0;32m/usr/local/lib/python3.6/dist-packages/matplotlib/style/core.py\u001b[0m in \u001b[0;36muse\u001b[0;34m(style)\u001b[0m\n\u001b[1;32m    118\u001b[0m                     \u001b[0;34m\"{!r} not found in the style library and input is not a \"\u001b[0m\u001b[0;34m\u001b[0m\u001b[0;34m\u001b[0m\u001b[0m\n\u001b[1;32m    119\u001b[0m                     \u001b[0;34m\"valid URL or path; see `style.available` for list of \"\u001b[0m\u001b[0;34m\u001b[0m\u001b[0;34m\u001b[0m\u001b[0m\n\u001b[0;32m--> 120\u001b[0;31m                     \"available styles\".format(style))\n\u001b[0m\u001b[1;32m    121\u001b[0m \u001b[0;34m\u001b[0m\u001b[0m\n\u001b[1;32m    122\u001b[0m \u001b[0;34m\u001b[0m\u001b[0m\n",
            "\u001b[0;31mOSError\u001b[0m: '/usr/local/lib/python3.6/dist-packages/pandas_profiling/pandas_profiling.mplstyle' not found in the style library and input is not a valid URL or path; see `style.available` for list of available styles"
          ]
        }
      ]
    },
    {
      "cell_type": "code",
      "metadata": {
        "id": "ZVDj0nyuU9x7"
      },
      "source": [
        "localDoUsuario = dados.iloc[:,7:8]\n",
        "localDoUsuario"
      ],
      "execution_count": null,
      "outputs": []
    },
    {
      "cell_type": "code",
      "metadata": {
        "id": "lsh6Y7nPU4Sw"
      },
      "source": [
        "dados.describe()"
      ],
      "execution_count": null,
      "outputs": []
    },
    {
      "cell_type": "markdown",
      "metadata": {
        "id": "L1QmgeK9P8zS"
      },
      "source": [
        "### 2. Análise dos Dados do Dataframe"
      ]
    },
    {
      "cell_type": "code",
      "metadata": {
        "id": "wo28YNneq1fq",
        "colab": {
          "base_uri": "https://localhost:8080/",
          "height": 467
        },
        "outputId": "9fffba48-32c6-417c-d6d9-687ad5c7ca0f"
      },
      "source": [
        "import pandas_profiling as ppf \n",
        "ppf.ProfileReport(dados)"
      ],
      "execution_count": null,
      "outputs": [
        {
          "output_type": "error",
          "ename": "OSError",
          "evalue": "ignored",
          "traceback": [
            "\u001b[0;31m---------------------------------------------------------------------------\u001b[0m",
            "\u001b[0;31mFileNotFoundError\u001b[0m                         Traceback (most recent call last)",
            "\u001b[0;32m/usr/local/lib/python3.6/dist-packages/matplotlib/style/core.py\u001b[0m in \u001b[0;36muse\u001b[0;34m(style)\u001b[0m\n\u001b[1;32m    113\u001b[0m             \u001b[0;32mtry\u001b[0m\u001b[0;34m:\u001b[0m\u001b[0;34m\u001b[0m\u001b[0;34m\u001b[0m\u001b[0m\n\u001b[0;32m--> 114\u001b[0;31m                 \u001b[0mrc\u001b[0m \u001b[0;34m=\u001b[0m \u001b[0mrc_params_from_file\u001b[0m\u001b[0;34m(\u001b[0m\u001b[0mstyle\u001b[0m\u001b[0;34m,\u001b[0m \u001b[0muse_default_template\u001b[0m\u001b[0;34m=\u001b[0m\u001b[0;32mFalse\u001b[0m\u001b[0;34m)\u001b[0m\u001b[0;34m\u001b[0m\u001b[0;34m\u001b[0m\u001b[0m\n\u001b[0m\u001b[1;32m    115\u001b[0m                 \u001b[0m_apply_style\u001b[0m\u001b[0;34m(\u001b[0m\u001b[0mrc\u001b[0m\u001b[0;34m)\u001b[0m\u001b[0;34m\u001b[0m\u001b[0;34m\u001b[0m\u001b[0m\n",
            "\u001b[0;32m/usr/local/lib/python3.6/dist-packages/matplotlib/__init__.py\u001b[0m in \u001b[0;36mrc_params_from_file\u001b[0;34m(fname, fail_on_error, use_default_template)\u001b[0m\n\u001b[1;32m    983\u001b[0m     \"\"\"\n\u001b[0;32m--> 984\u001b[0;31m     \u001b[0mconfig_from_file\u001b[0m \u001b[0;34m=\u001b[0m \u001b[0m_rc_params_in_file\u001b[0m\u001b[0;34m(\u001b[0m\u001b[0mfname\u001b[0m\u001b[0;34m,\u001b[0m \u001b[0mfail_on_error\u001b[0m\u001b[0;34m)\u001b[0m\u001b[0;34m\u001b[0m\u001b[0;34m\u001b[0m\u001b[0m\n\u001b[0m\u001b[1;32m    985\u001b[0m \u001b[0;34m\u001b[0m\u001b[0m\n",
            "\u001b[0;32m/usr/local/lib/python3.6/dist-packages/matplotlib/__init__.py\u001b[0m in \u001b[0;36m_rc_params_in_file\u001b[0;34m(fname, fail_on_error)\u001b[0m\n\u001b[1;32m    913\u001b[0m     \u001b[0mrc_temp\u001b[0m \u001b[0;34m=\u001b[0m \u001b[0;34m{\u001b[0m\u001b[0;34m}\u001b[0m\u001b[0;34m\u001b[0m\u001b[0;34m\u001b[0m\u001b[0m\n\u001b[0;32m--> 914\u001b[0;31m     \u001b[0;32mwith\u001b[0m \u001b[0m_open_file_or_url\u001b[0m\u001b[0;34m(\u001b[0m\u001b[0mfname\u001b[0m\u001b[0;34m)\u001b[0m \u001b[0;32mas\u001b[0m \u001b[0mfd\u001b[0m\u001b[0;34m:\u001b[0m\u001b[0;34m\u001b[0m\u001b[0;34m\u001b[0m\u001b[0m\n\u001b[0m\u001b[1;32m    915\u001b[0m         \u001b[0;32mtry\u001b[0m\u001b[0;34m:\u001b[0m\u001b[0;34m\u001b[0m\u001b[0;34m\u001b[0m\u001b[0m\n",
            "\u001b[0;32m/usr/lib/python3.6/contextlib.py\u001b[0m in \u001b[0;36m__enter__\u001b[0;34m(self)\u001b[0m\n\u001b[1;32m     80\u001b[0m         \u001b[0;32mtry\u001b[0m\u001b[0;34m:\u001b[0m\u001b[0;34m\u001b[0m\u001b[0;34m\u001b[0m\u001b[0m\n\u001b[0;32m---> 81\u001b[0;31m             \u001b[0;32mreturn\u001b[0m \u001b[0mnext\u001b[0m\u001b[0;34m(\u001b[0m\u001b[0mself\u001b[0m\u001b[0;34m.\u001b[0m\u001b[0mgen\u001b[0m\u001b[0;34m)\u001b[0m\u001b[0;34m\u001b[0m\u001b[0;34m\u001b[0m\u001b[0m\n\u001b[0m\u001b[1;32m     82\u001b[0m         \u001b[0;32mexcept\u001b[0m \u001b[0mStopIteration\u001b[0m\u001b[0;34m:\u001b[0m\u001b[0;34m\u001b[0m\u001b[0;34m\u001b[0m\u001b[0m\n",
            "\u001b[0;32m/usr/local/lib/python3.6/dist-packages/matplotlib/__init__.py\u001b[0m in \u001b[0;36m_open_file_or_url\u001b[0;34m(fname)\u001b[0m\n\u001b[1;32m    899\u001b[0m             \u001b[0mencoding\u001b[0m \u001b[0;34m=\u001b[0m \u001b[0;34m\"utf-8\"\u001b[0m\u001b[0;34m\u001b[0m\u001b[0;34m\u001b[0m\u001b[0m\n\u001b[0;32m--> 900\u001b[0;31m         \u001b[0;32mwith\u001b[0m \u001b[0mopen\u001b[0m\u001b[0;34m(\u001b[0m\u001b[0mfname\u001b[0m\u001b[0;34m,\u001b[0m \u001b[0mencoding\u001b[0m\u001b[0;34m=\u001b[0m\u001b[0mencoding\u001b[0m\u001b[0;34m)\u001b[0m \u001b[0;32mas\u001b[0m \u001b[0mf\u001b[0m\u001b[0;34m:\u001b[0m\u001b[0;34m\u001b[0m\u001b[0;34m\u001b[0m\u001b[0m\n\u001b[0m\u001b[1;32m    901\u001b[0m             \u001b[0;32myield\u001b[0m \u001b[0mf\u001b[0m\u001b[0;34m\u001b[0m\u001b[0;34m\u001b[0m\u001b[0m\n",
            "\u001b[0;31mFileNotFoundError\u001b[0m: [Errno 2] No such file or directory: '/usr/local/lib/python3.6/dist-packages/pandas_profiling/pandas_profiling.mplstyle'",
            "\nDuring handling of the above exception, another exception occurred:\n",
            "\u001b[0;31mOSError\u001b[0m                                   Traceback (most recent call last)",
            "\u001b[0;32m<ipython-input-100-9893602e548d>\u001b[0m in \u001b[0;36m<module>\u001b[0;34m()\u001b[0m\n\u001b[1;32m      1\u001b[0m \u001b[0;32mimport\u001b[0m \u001b[0mpandas_profiling\u001b[0m \u001b[0;32mas\u001b[0m \u001b[0mppf\u001b[0m\u001b[0;34m\u001b[0m\u001b[0;34m\u001b[0m\u001b[0m\n\u001b[0;32m----> 2\u001b[0;31m \u001b[0mppf\u001b[0m\u001b[0;34m.\u001b[0m\u001b[0mProfileReport\u001b[0m\u001b[0;34m(\u001b[0m\u001b[0mdados\u001b[0m\u001b[0;34m)\u001b[0m\u001b[0;34m\u001b[0m\u001b[0;34m\u001b[0m\u001b[0m\n\u001b[0m",
            "\u001b[0;32m/usr/local/lib/python3.6/dist-packages/pandas_profiling/__init__.py\u001b[0m in \u001b[0;36m__init__\u001b[0;34m(self, df, **kwargs)\u001b[0m\n",
            "\u001b[0;32m/usr/local/lib/python3.6/dist-packages/pandas_profiling/describe.py\u001b[0m in \u001b[0;36mdescribe\u001b[0;34m(df, bins, check_correlation, correlation_threshold, correlation_overrides, check_recoded, pool_size, **kwargs)\u001b[0m\n",
            "\u001b[0;32m/usr/local/lib/python3.6/dist-packages/matplotlib/style/core.py\u001b[0m in \u001b[0;36muse\u001b[0;34m(style)\u001b[0m\n\u001b[1;32m    118\u001b[0m                     \u001b[0;34m\"{!r} not found in the style library and input is not a \"\u001b[0m\u001b[0;34m\u001b[0m\u001b[0;34m\u001b[0m\u001b[0m\n\u001b[1;32m    119\u001b[0m                     \u001b[0;34m\"valid URL or path; see `style.available` for list of \"\u001b[0m\u001b[0;34m\u001b[0m\u001b[0;34m\u001b[0m\u001b[0m\n\u001b[0;32m--> 120\u001b[0;31m                     \"available styles\".format(style))\n\u001b[0m\u001b[1;32m    121\u001b[0m \u001b[0;34m\u001b[0m\u001b[0m\n\u001b[1;32m    122\u001b[0m \u001b[0;34m\u001b[0m\u001b[0m\n",
            "\u001b[0;31mOSError\u001b[0m: '/usr/local/lib/python3.6/dist-packages/pandas_profiling/pandas_profiling.mplstyle' not found in the style library and input is not a valid URL or path; see `style.available` for list of available styles"
          ]
        }
      ]
    },
    {
      "cell_type": "code",
      "metadata": {
        "id": "62LMP97yr11A"
      },
      "source": [
        ""
      ],
      "execution_count": null,
      "outputs": []
    },
    {
      "cell_type": "markdown",
      "metadata": {
        "id": "sEVQOLkxYl8b"
      },
      "source": [
        "### 3. *Gráfico* dos Dados do DataFrame"
      ]
    },
    {
      "cell_type": "code",
      "metadata": {
        "id": "XQB2vR2w1dle",
        "colab": {
          "base_uri": "https://localhost:8080/",
          "height": 338
        },
        "outputId": "f3e8bd05-eb53-411e-d70f-abd27ebe453e"
      },
      "source": [
        "sns.countplot(dados.groupby('publicationDate').userLocation.count());"
      ],
      "execution_count": null,
      "outputs": [
        {
          "output_type": "stream",
          "text": [
            "/usr/local/lib/python3.6/dist-packages/seaborn/_decorators.py:43: FutureWarning: Pass the following variable as a keyword arg: x. From version 0.12, the only valid positional argument will be `data`, and passing other arguments without an explicit keyword will result in an error or misinterpretation.\n",
            "  FutureWarning\n"
          ],
          "name": "stderr"
        },
        {
          "output_type": "display_data",
          "data": {
            "image/png": "[encoded data removed]",
            "text/plain": [
              "<Figure size 432x288 with 1 Axes>"
            ]
          },
          "metadata": {
            "tags": [],
            "needs_background": "light"
          }
        }
      ]
    },
    {
      "cell_type": "code",
      "metadata": {
        "id": "IaI-LjGd3gTv",
        "colab": {
          "base_uri": "https://localhost:8080/",
          "height": 298
        },
        "outputId": "49e0e7f8-272f-4b1c-8d9d-15a22335a1da"
      },
      "source": [
        "dados.groupby('userLocation').averageRating.count().plot()"
      ],
      "execution_count": null,
      "outputs": [
        {
          "output_type": "execute_result",
          "data": {
            "text/plain": [
              "<matplotlib.axes._subplots.AxesSubplot at 0x7f963afd6390>"
            ]
          },
          "metadata": {
            "tags": []
          },
          "execution_count": 17
        },
        {
          "output_type": "display_data",
          "data": {
            "image/png": "[encoded data removed]",
            "text/plain": [
              "<Figure size 432x288 with 1 Axes>"
            ]
          },
          "metadata": {
            "tags": [],
            "needs_background": "light"
          }
        }
      ]
    },
    {
      "cell_type": "code",
      "metadata": {
        "id": "kcAQljAr3Pkq",
        "colab": {
          "base_uri": "https://localhost:8080/",
          "height": 333
        },
        "outputId": "4fd0cde2-4157-436c-c858-a2d2df335943"
      },
      "source": [
        "sns.countplot(dados.averageRating);"
      ],
      "execution_count": null,
      "outputs": [
        {
          "output_type": "stream",
          "text": [
            "/usr/local/lib/python3.6/dist-packages/seaborn/_decorators.py:43: FutureWarning: Pass the following variable as a keyword arg: x. From version 0.12, the only valid positional argument will be `data`, and passing other arguments without an explicit keyword will result in an error or misinterpretation.\n",
            "  FutureWarning\n"
          ],
          "name": "stderr"
        },
        {
          "output_type": "display_data",
          "data": {
            "image/png": "[encoded data removed]",
            "text/plain": [
              "<Figure size 432x288 with 1 Axes>"
            ]
          },
          "metadata": {
            "tags": [],
            "needs_background": "light"
          }
        }
      ]
    },
    {
      "cell_type": "code",
      "metadata": {
        "id": "wOgTGh933FgW",
        "colab": {
          "base_uri": "https://localhost:8080/",
          "height": 335
        },
        "outputId": "95887b1c-62ec-4564-e812-2d1ed97b156e"
      },
      "source": [
        "sns.countplot(dados.ratingValue);"
      ],
      "execution_count": null,
      "outputs": [
        {
          "output_type": "stream",
          "text": [
            "/usr/local/lib/python3.6/dist-packages/seaborn/_decorators.py:43: FutureWarning: Pass the following variable as a keyword arg: x. From version 0.12, the only valid positional argument will be `data`, and passing other arguments without an explicit keyword will result in an error or misinterpretation.\n",
            "  FutureWarning\n"
          ],
          "name": "stderr"
        },
        {
          "output_type": "display_data",
          "data": {
            "image/png": "[encoded data removed]",
            "text/plain": [
              "<Figure size 432x288 with 1 Axes>"
            ]
          },
          "metadata": {
            "tags": [],
            "needs_background": "light"
          }
        }
      ]
    },
    {
      "cell_type": "code",
      "metadata": {
        "id": "36NC1R7X3XAj",
        "colab": {
          "base_uri": "https://localhost:8080/",
          "height": 400
        },
        "outputId": "9329f6be-147f-438e-bc49-4123d2949271"
      },
      "source": [
        "sns.catplot(x=\"mobileDevice\", kind=\"count\", palette=\"ch:.25\", data=dados)"
      ],
      "execution_count": null,
      "outputs": [
        {
          "output_type": "execute_result",
          "data": {
            "text/plain": [
              "<seaborn.axisgrid.FacetGrid at 0x7f6e664a0c88>"
            ]
          },
          "metadata": {
            "tags": []
          },
          "execution_count": 32
        },
        {
          "output_type": "display_data",
          "data": {
            "image/png": "[encoded data removed]",
            "text/plain": [
              "<Figure size 360x360 with 1 Axes>"
            ]
          },
          "metadata": {
            "tags": [],
            "needs_background": "light"
          }
        }
      ]
    },
    {
      "cell_type": "markdown",
      "metadata": {
        "id": "FWMEPM_BcHZ8"
      },
      "source": [
        "### 4. Analise dos Sentimentos "
      ]
    },
    {
      "cell_type": "code",
      "metadata": {
        "id": "WckFGBHC4Dmq"
      },
      "source": [
        "def translateByTextBlob():\n",
        "  dic2 = pd.DataFrame(dados)\n",
        "  dic2['reviewBody']\n",
        "  count = 0\n",
        "  for _x in dic2['reviewBody']:\n",
        "      count = count + 1  \n",
        "      print(type(_x))\n",
        "      x = _x.encode('utf-16', 'surrogatepass').decode('utf-16')\n",
        "      print(x)\n",
        "      \n",
        "      print(count) #vai imprimir todos os reviews= \n",
        "          \n",
        "      comentario_blob = TextBlob(x)\n",
        "      print(type(comentario_blob))\n",
        "      comentario_blob_us = comentario_blob.translate(to='us')\n",
        "\n",
        "      for sentence_br, sentence in zip(comentario_blob.sentences, comentario_blob_us.sentences):\n",
        "          print(sentence_br, ':', sentence.sentiment.subjectivity)\n",
        "      if count == 5:\n",
        "          print('**End**')\n",
        "          break  "
      ],
      "execution_count": null,
      "outputs": []
    },
    {
      "cell_type": "code",
      "metadata": {
        "id": "uyBYkV5v4hee",
        "colab": {
          "base_uri": "https://localhost:8080/",
          "height": 171
        },
        "outputId": "89cf1474-4f27-4b20-fdde-6970fd36269c"
      },
      "source": [
        "translateByTextBlob()"
      ],
      "execution_count": null,
      "outputs": [
        {
          "output_type": "error",
          "ename": "NameError",
          "evalue": "ignored",
          "traceback": [
            "\u001b[0;31m---------------------------------------------------------------------------\u001b[0m",
            "\u001b[0;31mNameError\u001b[0m                                 Traceback (most recent call last)",
            "\u001b[0;32m<ipython-input-19-4cc2ff246b03>\u001b[0m in \u001b[0;36m<module>\u001b[0;34m()\u001b[0m\n\u001b[0;32m----> 1\u001b[0;31m \u001b[0mtranslateByTextBlob\u001b[0m\u001b[0;34m(\u001b[0m\u001b[0;34m)\u001b[0m\u001b[0;34m\u001b[0m\u001b[0;34m\u001b[0m\u001b[0m\n\u001b[0m",
            "\u001b[0;31mNameError\u001b[0m: name 'translateByTextBlob' is not defined"
          ]
        }
      ]
    }
  ]
}