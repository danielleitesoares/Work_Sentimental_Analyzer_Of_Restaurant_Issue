{
  "nbformat": 4,
  "nbformat_minor": 0,
  "metadata": {
    "colab": {
      "name": "Analise dos Sentimentos- Restaurantes.ipynb",
      "provenance": [],
      "include_colab_link": true
    },
    "kernelspec": {
      "name": "python3",
      "display_name": "Python 3"
    }
  },
  "cells": [
    {
      "cell_type": "markdown",
      "metadata": {
        "id": "view-in-github",
        "colab_type": "text"
      },
      "source": [
        "<a href=\"https://colab.research.google.com/github/danielleitesoares/Work_Sentimental_Analyzer_Of_Restaurant_Issue/blob/main/Analise_dos_Sentimentos_Restaurantes.ipynb\" target=\"_parent\"><img src=\"https://colab.research.google.com/assets/colab-badge.svg\" alt=\"Open In Colab\"/></a>"
      ]
    },
    {
      "cell_type": "markdown",
      "metadata": {
        "id": "zcrucn3likWJ"
      },
      "source": [
        "#  **Analise de Sentimentos Restaurantes**\n",
        "> Equipe: Leonardo Rocha, Paulo Correa e Daniel Soares\n",
        "> Turma 02\n",
        "\n",
        "\n",
        "\n"
      ]
    },
    {
      "cell_type": "markdown",
      "metadata": {
        "id": "DshVznHdhr-C"
      },
      "source": [
        "### 0.Importação das Bibliotecas Utilizadas \n",
        "\n",
        "\n"
      ]
    },
    {
      "cell_type": "code",
      "metadata": {
        "id": "iiifqgOHh7f1"
      },
      "source": [
        "# coding = utf-8  \n",
        "#Bibliotecas Básicas \n",
        "import pandas as pd\n",
        "import numpy as np\n",
        "import json\n",
        "import nltk\n",
        "import time  # avaliar\n",
        "import sys\n",
        "import unicodedata\n",
        "import requests\n",
        "#Bibliotecas de Gráficos e Relatórios \n",
        "import matplotlib as mpl\n",
        "import matplotlib.pyplot as plt\n",
        "import seaborn as sns\n",
        "%matplotlib inline\n",
        "import pandas_profiling as ppf\n",
        "from pandas_profiling import ProfileReport\n",
        "\n",
        "#Bibliotecas de Análise de Sentimentos\n",
        "import textblob\n",
        "\n",
        "#Bibliotecas para tratamento de datas\n",
        "import datetime\n"
      ],
      "execution_count": null,
      "outputs": []
    },
    {
      "cell_type": "markdown",
      "metadata": {
        "id": "vFx9NH6oiqjk"
      },
      "source": [
        "### 1.Tratamento do dataset-v2.dat"
      ]
    },
    {
      "cell_type": "markdown",
      "metadata": {
        "id": "smV5LGlKaEkq"
      },
      "source": [
        "##### 1.1. Abrindo o Dataset "
      ]
    },
    {
      "cell_type": "code",
      "metadata": {
        "id": "jUZ_LJZlk4GC",
        "colab": {
          "base_uri": "https://localhost:8080/"
        },
        "outputId": "40142ac4-3a18-4366-a094-86b06b91a4f2"
      },
      "source": [
        "nltk.download('punkt')\n",
        "! git clone https://github.com/paulordie/sentimental_ds\n",
        "%cd sentimental_ds/"
      ],
      "execution_count": null,
      "outputs": [
        {
          "output_type": "stream",
          "text": [
            "[nltk_data] Downloading package punkt to /root/nltk_data...\n",
            "[nltk_data]   Package punkt is already up-to-date!\n",
            "Cloning into 'sentimental_ds'...\n",
            "remote: Enumerating objects: 6, done.\u001b[K\n",
            "remote: Counting objects: 100% (6/6), done.\u001b[K\n",
            "remote: Compressing objects: 100% (5/5), done.\u001b[K\n",
            "remote: Total 101 (delta 1), reused 6 (delta 1), pack-reused 95\u001b[K\n",
            "Receiving objects: 100% (101/101), 79.73 MiB | 16.73 MiB/s, done.\n",
            "Resolving deltas: 100% (51/51), done.\n",
            "Checking out files: 100% (12/12), done.\n",
            "/content/sentimental_ds/sentimental_ds/sentimental_ds\n"
          ],
          "name": "stdout"
        }
      ]
    },
    {
      "cell_type": "markdown",
      "metadata": {
        "id": "QqTI_tGa1b8w"
      },
      "source": [
        "##### 1.2 Abrindo e mostrando o Dataset do arquivo .dat\n"
      ]
    },
    {
      "cell_type": "code",
      "metadata": {
        "id": "mr24uM4-1ad4"
      },
      "source": [
        "dados = open('dataset-v2.dat')\n",
        "a = dados.readlines()# Criar uma lista com todos as linhas em strings \n",
        "v = [] # vetor para salvar cada linha em json  \n",
        "#Comando for para correr por cada item de \"a\" que está as linhas \n",
        "for c in a:\n",
        "  parsed_c = json.loads(c) #Traransformar as strings de \"a\" em arquivos json\n",
        "  data = pd.json_normalize(parsed_c) #Normalizando o arquivo json \n",
        "  v.append(data)#jogamos os arquivos em 'V'\n",
        "  #aqui vamos concatenar cada linha que está em 'V' para um unico dataset df \n",
        "df = pd.concat(objs=v,axis=0) # Concatenando "
      ],
      "execution_count": null,
      "outputs": []
    },
    {
      "cell_type": "markdown",
      "metadata": {
        "id": "cmaCYlzpfObS"
      },
      "source": [
        "##### 1.3 Salvando em outros formatos"
      ]
    },
    {
      "cell_type": "code",
      "metadata": {
        "id": "QaiwZY7tfL_b",
        "colab": {
          "base_uri": "https://localhost:8080/"
        },
        "outputId": "1f211ed3-2309-42c9-f7f6-104f9ea51e08"
      },
      "source": [
        "#Converterndo e Salvando em CSV\n",
        "from google.colab import drive\n",
        "drive.mount('/content/drive')\n",
        "\n",
        "df.to_csv('/content/drive/My Drive/dataset123.csv')#salvando o arquivo em csv  \\\\\\\\\\\\\\\\\\\\\\\\\\\\\\\\\\\\\\\\\\verificar\n",
        "#Convertendo e salvar em excel \n",
        "df.to_excel('/content/drive/My Drive/dataset.xlsx')"
      ],
      "execution_count": null,
      "outputs": [
        {
          "output_type": "stream",
          "text": [
            "Drive already mounted at /content/drive; to attempt to forcibly remount, call drive.mount(\"/content/drive\", force_remount=True).\n"
          ],
          "name": "stdout"
        }
      ]
    },
    {
      "cell_type": "markdown",
      "metadata": {
        "id": "Ayfrq42PATZz"
      },
      "source": [
        "##### 1.4 Exibindo o Head do dataset"
      ]
    },
    {
      "cell_type": "code",
      "metadata": {
        "id": "BBsEBJvDg6o8",
        "colab": {
          "base_uri": "https://localhost:8080/",
          "height": 1000
        },
        "outputId": "9ac2ebdd-d951-487c-f802-1b610b0c8fe2"
      },
      "source": [
        "df = df.rename(columns={'itemReviewed.name':'Name','itemReviewed.address.streetAddress':'StressAddress','itemReviewed.address.addressLocality':'AddressLocality','itemReviewed.address.addressRegion':'AddressRegion','itemReviewed.address.postalCode':'PostalCode','itemReviewed.address.country':'Country','itemReviewed.website':'Website','itemReviewed.email':'Email','itemReviewed.phoneNumber':'PhoneNumber','itemReviewed.averageRating':'AverageRating'})\n",
        "df = df.reset_index(drop=True)\n",
        "df.head(10)\n"
      ],
      "execution_count": null,
      "outputs": [
        {
          "output_type": "execute_result",
          "data": {
            "text/html": [
              "<div>\n",
              "<style scoped>\n",
              "    .dataframe tbody tr th:only-of-type {\n",
              "        vertical-align: middle;\n",
              "    }\n",
              "\n",
              "    .dataframe tbody tr th {\n",
              "        vertical-align: top;\n",
              "    }\n",
              "\n",
              "    .dataframe thead th {\n",
              "        text-align: right;\n",
              "    }\n",
              "</style>\n",
              "<table border=\"1\" class=\"dataframe\">\n",
              "  <thead>\n",
              "    <tr style=\"text-align: right;\">\n",
              "      <th></th>\n",
              "      <th>title</th>\n",
              "      <th>reviewId</th>\n",
              "      <th>restaurantId</th>\n",
              "      <th>author</th>\n",
              "      <th>reviewBody</th>\n",
              "      <th>language</th>\n",
              "      <th>mobileDevice</th>\n",
              "      <th>userLocation</th>\n",
              "      <th>publicationDate</th>\n",
              "      <th>visitDate</th>\n",
              "      <th>ratingValue</th>\n",
              "      <th>Name</th>\n",
              "      <th>StressAddress</th>\n",
              "      <th>AddressLocality</th>\n",
              "      <th>AddressRegion</th>\n",
              "      <th>PostalCode</th>\n",
              "      <th>Country</th>\n",
              "      <th>Website</th>\n",
              "      <th>Email</th>\n",
              "      <th>PhoneNumber</th>\n",
              "      <th>AverageRating</th>\n",
              "    </tr>\n",
              "  </thead>\n",
              "  <tbody>\n",
              "    <tr>\n",
              "      <th>0</th>\n",
              "      <td>Jantar</td>\n",
              "      <td>692856288</td>\n",
              "      <td>2344932</td>\n",
              "      <td>larinhavercosa222</td>\n",
              "      <td>Comida maravilhosa, lugar do verdadeiro chicle...</td>\n",
              "      <td>pt</td>\n",
              "      <td>True</td>\n",
              "      <td>São Carlos, SP</td>\n",
              "      <td>26/07/2019</td>\n",
              "      <td>07/2019</td>\n",
              "      <td>5</td>\n",
              "      <td>Imperador dos Camarões</td>\n",
              "      <td>Avenida Doutor Antônio Gouveia</td>\n",
              "      <td></td>\n",
              "      <td>Alagoas</td>\n",
              "      <td>57030-170</td>\n",
              "      <td>Brasil</td>\n",
              "      <td>http://www.imperadordoscamaroes.com.br</td>\n",
              "      <td>contato@imperadordoscamaroes.com.br</td>\n",
              "      <td>+55 82 3231-4134</td>\n",
              "      <td>4.5</td>\n",
              "    </tr>\n",
              "    <tr>\n",
              "      <th>1</th>\n",
              "      <td>Uma boa experiência.</td>\n",
              "      <td>229208487</td>\n",
              "      <td>3720906</td>\n",
              "      <td>Pano P</td>\n",
              "      <td>Comida boa, drinks legais e um ambiente bem ac...</td>\n",
              "      <td>pt</td>\n",
              "      <td>True</td>\n",
              "      <td>Manaus, AM</td>\n",
              "      <td>16/09/2014</td>\n",
              "      <td>None</td>\n",
              "      <td>4</td>\n",
              "      <td>Guacamole Natal</td>\n",
              "      <td>Avenida Praia de Ponta Negra 9068 Ponta Negra</td>\n",
              "      <td></td>\n",
              "      <td>Rio Grande do Norte</td>\n",
              "      <td>59092-100</td>\n",
              "      <td>Brasil</td>\n",
              "      <td>http://www.facebook.com/GuacamoleNatal</td>\n",
              "      <td>guacamolenatal@gmail.com</td>\n",
              "      <td>+55 84 3219-3646</td>\n",
              "      <td>4.5</td>\n",
              "    </tr>\n",
              "    <tr>\n",
              "      <th>2</th>\n",
              "      <td>Otimo self service</td>\n",
              "      <td>679002332</td>\n",
              "      <td>2248105</td>\n",
              "      <td>Magma100</td>\n",
              "      <td>Excelente pra ir com a família! Ótima Comida, ...</td>\n",
              "      <td>pt</td>\n",
              "      <td>True</td>\n",
              "      <td>Goiânia, GO</td>\n",
              "      <td>04/06/2019</td>\n",
              "      <td>07/2018</td>\n",
              "      <td>4</td>\n",
              "      <td>Chica Pitanga</td>\n",
              "      <td>Rua Petrolina 19</td>\n",
              "      <td>Recife</td>\n",
              "      <td>Pernambuco</td>\n",
              "      <td>51021-250</td>\n",
              "      <td>Brasil</td>\n",
              "      <td>http://www.chicapitanga.com.br</td>\n",
              "      <td>chicapitanga@chicapitanga.com.br</td>\n",
              "      <td>+55 81 3334-8260</td>\n",
              "      <td>4.5</td>\n",
              "    </tr>\n",
              "    <tr>\n",
              "      <th>3</th>\n",
              "      <td>O sorvete mais tradicional do estado</td>\n",
              "      <td>355671519</td>\n",
              "      <td>8168302</td>\n",
              "      <td>Yurie M</td>\n",
              "      <td>Tomo sorvete na Visabor faz mais de 30 anos. S...</td>\n",
              "      <td>pt</td>\n",
              "      <td>False</td>\n",
              "      <td>Aracaju, SE</td>\n",
              "      <td>15/03/2016</td>\n",
              "      <td>01/2016</td>\n",
              "      <td>5</td>\n",
              "      <td>Sorvetes Vi Sabor</td>\n",
              "      <td>Avenida Francisco Porto 59 Grageru</td>\n",
              "      <td>Aracaju</td>\n",
              "      <td>Sergipe</td>\n",
              "      <td></td>\n",
              "      <td>Brasil</td>\n",
              "      <td>None</td>\n",
              "      <td>None</td>\n",
              "      <td>None</td>\n",
              "      <td>4.0</td>\n",
              "    </tr>\n",
              "    <tr>\n",
              "      <th>4</th>\n",
              "      <td>Melhor hamburger!</td>\n",
              "      <td>268741921</td>\n",
              "      <td>5395141</td>\n",
              "      <td>Debora_C85</td>\n",
              "      <td>O melhor hamburger que já comi! Excelente aten...</td>\n",
              "      <td>pt</td>\n",
              "      <td>False</td>\n",
              "      <td>Rio de Janeiro, RJ</td>\n",
              "      <td>28/04/2015</td>\n",
              "      <td>04/2015</td>\n",
              "      <td>5</td>\n",
              "      <td>Z Deli Sandwich Shop</td>\n",
              "      <td>Rua Haddock Lobo 1386 Jardins</td>\n",
              "      <td>São Paulo</td>\n",
              "      <td>Estado de São Paulo</td>\n",
              "      <td>01414-002</td>\n",
              "      <td>Brasil</td>\n",
              "      <td>http://www.facebook.com/zdelisandwichshop/</td>\n",
              "      <td>None</td>\n",
              "      <td>551130830021</td>\n",
              "      <td>4.5</td>\n",
              "    </tr>\n",
              "    <tr>\n",
              "      <th>5</th>\n",
              "      <td>Um achado maravilhoso!</td>\n",
              "      <td>482361860</td>\n",
              "      <td>12209902</td>\n",
              "      <td>Monique C</td>\n",
              "      <td>O restaurante é novo, super acolhedor e charmo...</td>\n",
              "      <td>pt</td>\n",
              "      <td>False</td>\n",
              "      <td>None</td>\n",
              "      <td>07/05/2017</td>\n",
              "      <td>05/2017</td>\n",
              "      <td>5</td>\n",
              "      <td>Trattoria della Gloria</td>\n",
              "      <td>Rua do Russel 450</td>\n",
              "      <td>Rio de Janeiro</td>\n",
              "      <td>Estado do Rio de Janeiro</td>\n",
              "      <td>22210-010</td>\n",
              "      <td>Brasil</td>\n",
              "      <td>https://www.facebook.com/trattoriadellagloria....</td>\n",
              "      <td>info@trattoriadellagloria.com.br</td>\n",
              "      <td>+55 21 3435-6789</td>\n",
              "      <td>4.5</td>\n",
              "    </tr>\n",
              "    <tr>\n",
              "      <th>6</th>\n",
              "      <td>Saboroso</td>\n",
              "      <td>431356071</td>\n",
              "      <td>5565144</td>\n",
              "      <td>ChrisWings</td>\n",
              "      <td>Fomos num sábado, ambiente elegante, equipe ge...</td>\n",
              "      <td>pt</td>\n",
              "      <td>True</td>\n",
              "      <td>Brasília, DF</td>\n",
              "      <td>24/10/2016</td>\n",
              "      <td>10/2016</td>\n",
              "      <td>4</td>\n",
              "      <td>Tomyam</td>\n",
              "      <td>José Maria Lisboa, 1065 Jardim Paulista</td>\n",
              "      <td>São Paulo</td>\n",
              "      <td>Estado de São Paulo</td>\n",
              "      <td>01423-003</td>\n",
              "      <td>Brasil</td>\n",
              "      <td>http://www.tomyam.com.br/</td>\n",
              "      <td>tomyamsp@tomyamsp.com.br</td>\n",
              "      <td>+55 11 4329-1002</td>\n",
              "      <td>4.0</td>\n",
              "    </tr>\n",
              "    <tr>\n",
              "      <th>7</th>\n",
              "      <td>Bom trabalho</td>\n",
              "      <td>361607766</td>\n",
              "      <td>2408078</td>\n",
              "      <td>lucianasoares18</td>\n",
              "      <td>Comida ótima e com bom atediamento e com muita...</td>\n",
              "      <td>pt</td>\n",
              "      <td>False</td>\n",
              "      <td>Vila Velha, ES</td>\n",
              "      <td>04/04/2016</td>\n",
              "      <td>04/2016</td>\n",
              "      <td>4</td>\n",
              "      <td>Ilha do Caranguejo - Vitória</td>\n",
              "      <td>Rua Alcino Pereira Netto, 570 - Jardim Camburi...</td>\n",
              "      <td>Vitória</td>\n",
              "      <td>Espírito Santo</td>\n",
              "      <td>29090-540</td>\n",
              "      <td>Brasil</td>\n",
              "      <td>http://www.ilhadocaranguejo.com.br</td>\n",
              "      <td>ilha@ilha.es</td>\n",
              "      <td>+55 27 3395-0244</td>\n",
              "      <td>4.5</td>\n",
              "    </tr>\n",
              "    <tr>\n",
              "      <th>8</th>\n",
              "      <td>Maravilhoso!</td>\n",
              "      <td>622424870</td>\n",
              "      <td>9738862</td>\n",
              "      <td>Andrezza O</td>\n",
              "      <td>Ambiente agradável, preço totalmente acessível...</td>\n",
              "      <td>pt</td>\n",
              "      <td>True</td>\n",
              "      <td>Teresina, PI</td>\n",
              "      <td>05/10/2018</td>\n",
              "      <td>10/2018</td>\n",
              "      <td>5</td>\n",
              "      <td>Vertigo Restaurante</td>\n",
              "      <td>R. Aviador Irapua Rocha, 2370 Bairro Ininga</td>\n",
              "      <td>Teresina</td>\n",
              "      <td>Piauí</td>\n",
              "      <td>64049-740</td>\n",
              "      <td>Brasil</td>\n",
              "      <td>None</td>\n",
              "      <td>None</td>\n",
              "      <td>08632334338</td>\n",
              "      <td>4.0</td>\n",
              "    </tr>\n",
              "    <tr>\n",
              "      <th>9</th>\n",
              "      <td>Mais tradicional de BH</td>\n",
              "      <td>400149803</td>\n",
              "      <td>3514720</td>\n",
              "      <td>Leonardo R</td>\n",
              "      <td>A pizzaria é a mais tradicional de Belo Horizo...</td>\n",
              "      <td>pt</td>\n",
              "      <td>False</td>\n",
              "      <td>Belo Horizonte, MG</td>\n",
              "      <td>01/08/2016</td>\n",
              "      <td>07/2016</td>\n",
              "      <td>5</td>\n",
              "      <td>Pizzarella</td>\n",
              "      <td>Av. Olegário Maciel, 2.280 - Lourdes</td>\n",
              "      <td>Belo Horizonte</td>\n",
              "      <td>Minas Gerais</td>\n",
              "      <td></td>\n",
              "      <td>Brasil</td>\n",
              "      <td>http://www.pizzarellasaobento.com.br/home/defa...</td>\n",
              "      <td>None</td>\n",
              "      <td>(31) 3292-3000</td>\n",
              "      <td>4.0</td>\n",
              "    </tr>\n",
              "  </tbody>\n",
              "</table>\n",
              "</div>"
            ],
            "text/plain": [
              "                                  title  ... AverageRating\n",
              "0                               Jantar   ...           4.5\n",
              "1                  Uma boa experiência.  ...           4.5\n",
              "2                    Otimo self service  ...           4.5\n",
              "3  O sorvete mais tradicional do estado  ...           4.0\n",
              "4                     Melhor hamburger!  ...           4.5\n",
              "5                Um achado maravilhoso!  ...           4.5\n",
              "6                              Saboroso  ...           4.0\n",
              "7                          Bom trabalho  ...           4.5\n",
              "8                          Maravilhoso!  ...           4.0\n",
              "9                Mais tradicional de BH  ...           4.0\n",
              "\n",
              "[10 rows x 21 columns]"
            ]
          },
          "metadata": {
            "tags": []
          },
          "execution_count": 84
        }
      ]
    },
    {
      "cell_type": "code",
      "metadata": {
        "id": "z4cVjxSQ6F_4"
      },
      "source": [
        ""
      ],
      "execution_count": null,
      "outputs": []
    },
    {
      "cell_type": "markdown",
      "metadata": {
        "id": "qvIe0e3x2Hw9"
      },
      "source": [
        "Varredura do JSON por linha"
      ]
    },
    {
      "cell_type": "markdown",
      "metadata": {
        "id": "sEVQOLkxYl8b"
      },
      "source": [
        "### 3. *Gráfico* dos Dados do DataFrame"
      ]
    },
    {
      "cell_type": "markdown",
      "metadata": {
        "id": "0QvXrYT1kCpk"
      },
      "source": [
        "##### 3.1 Avaliações por Países em ordem decrescente "
      ]
    },
    {
      "cell_type": "code",
      "metadata": {
        "id": "GWewYgrEXfah"
      },
      "source": [
        "# Divide o campo User Location com os valores após a , para uma nova coluna denominadas de Estado e Cidade, https://pt.linkedin.com/pulse/dividindo-colunas-por-delimitador-com-python-fernanda-santos\n",
        "divisao = df['userLocation'].str.split(',') \n",
        "Cidade = divisao.str.get(0) \n",
        "Estado = divisao.str.get(1)\n",
        "df['Cidade'] = Cidade.str.upper()\n",
        "df['Estado'] = Estado.str.upper()\n",
        "df.head()"
      ],
      "execution_count": null,
      "outputs": []
    },
    {
      "cell_type": "code",
      "metadata": {
        "id": "e8RTfhfAWaNh"
      },
      "source": [
        "df_Estado = df['Estado'].value_counts().to_frame()[:20] # https://www.kaggle.com/parulpandey/five-ways-to-use-value-counts https://re-thought.com/pandas-value_counts/https://re-thought.com/pandas-value_counts/\n",
        "df_Estado.head(10)"
      ],
      "execution_count": null,
      "outputs": []
    },
    {
      "cell_type": "code",
      "metadata": {
        "id": "Xsj8O5SL7fZf"
      },
      "source": [
        "# https://dados.gov.br/dataset/malha-geometrica-dos-municipios-brasileiros\n",
        "df_coord = pd.read_excel ('C:\\Python\\dowload\\DastasetCoord.xls', sheet_name = 'Municípios e Coord. Sedes 2013')"
      ],
      "execution_count": null,
      "outputs": []
    },
    {
      "cell_type": "code",
      "metadata": {
        "id": "YBOLiQHFsPs0"
      },
      "source": [
        "plt.bar(df_Estado.index,df_Estado['Estado'])\n",
        "plt.show()"
      ],
      "execution_count": null,
      "outputs": []
    },
    {
      "cell_type": "code",
      "metadata": {
        "id": "-VgE8GHLsPcw"
      },
      "source": [
        "plt.hist(df['Estado'])"
      ],
      "execution_count": null,
      "outputs": []
    },
    {
      "cell_type": "code",
      "metadata": {
        "id": "wvwWbhlTdNhC",
        "colab": {
          "base_uri": "https://localhost:8080/"
        },
        "outputId": "81e871b2-caee-48f3-b1e5-2ecabc9e4b22"
      },
      "source": [
        "#Gráfico de Estados com mais avalições em ordem descrescente. \n",
        "fig = plt.figure(figsize=(30,10)) \n",
        "#sns.countplot(y='Estado', order = df_Estado['Estado'].value_counts().index, data=df)\n",
        "plt.hist(df_Estado.index, bins=80)\n",
        "plt.title('Estados com mais avaliações',fontsize=40)\n",
        "plt.xticks(fontsize=10)\n",
        "#plt.yticks(fontsize=10)\n",
        "#plt.ylim(0.1,30)\n",
        "plt.show()"
      ],
      "execution_count": null,
      "outputs": [
        {
          "output_type": "error",
          "ename": "NameError",
          "evalue": "ignored",
          "traceback": [
            "\u001b[0;31m---------------------------------------------------------------------------\u001b[0m",
            "\u001b[0;31mNameError\u001b[0m                                 Traceback (most recent call last)",
            "\u001b[0;32m<ipython-input-7-04819fcab6c5>\u001b[0m in \u001b[0;36m<module>\u001b[0;34m()\u001b[0m\n\u001b[1;32m      2\u001b[0m \u001b[0mfig\u001b[0m \u001b[0;34m=\u001b[0m \u001b[0mplt\u001b[0m\u001b[0;34m.\u001b[0m\u001b[0mfigure\u001b[0m\u001b[0;34m(\u001b[0m\u001b[0mfigsize\u001b[0m\u001b[0;34m=\u001b[0m\u001b[0;34m(\u001b[0m\u001b[0;36m30\u001b[0m\u001b[0;34m,\u001b[0m\u001b[0;36m10\u001b[0m\u001b[0;34m)\u001b[0m\u001b[0;34m)\u001b[0m\u001b[0;34m\u001b[0m\u001b[0;34m\u001b[0m\u001b[0m\n\u001b[1;32m      3\u001b[0m \u001b[0;31m#sns.countplot(y='Estado', order = df_Estado['Estado'].value_counts().index, data=df)\u001b[0m\u001b[0;34m\u001b[0m\u001b[0;34m\u001b[0m\u001b[0;34m\u001b[0m\u001b[0m\n\u001b[0;32m----> 4\u001b[0;31m \u001b[0mplt\u001b[0m\u001b[0;34m.\u001b[0m\u001b[0mhist\u001b[0m\u001b[0;34m(\u001b[0m\u001b[0mdf_Estado\u001b[0m\u001b[0;34m.\u001b[0m\u001b[0mindex\u001b[0m\u001b[0;34m,\u001b[0m \u001b[0mbins\u001b[0m\u001b[0;34m=\u001b[0m\u001b[0;36m80\u001b[0m\u001b[0;34m)\u001b[0m\u001b[0;34m\u001b[0m\u001b[0;34m\u001b[0m\u001b[0m\n\u001b[0m\u001b[1;32m      5\u001b[0m \u001b[0mplt\u001b[0m\u001b[0;34m.\u001b[0m\u001b[0mtitle\u001b[0m\u001b[0;34m(\u001b[0m\u001b[0;34m'Estados com mais avaliações'\u001b[0m\u001b[0;34m,\u001b[0m\u001b[0mfontsize\u001b[0m\u001b[0;34m=\u001b[0m\u001b[0;36m40\u001b[0m\u001b[0;34m)\u001b[0m\u001b[0;34m\u001b[0m\u001b[0;34m\u001b[0m\u001b[0m\n\u001b[1;32m      6\u001b[0m \u001b[0mplt\u001b[0m\u001b[0;34m.\u001b[0m\u001b[0mxticks\u001b[0m\u001b[0;34m(\u001b[0m\u001b[0mfontsize\u001b[0m\u001b[0;34m=\u001b[0m\u001b[0;36m10\u001b[0m\u001b[0;34m)\u001b[0m\u001b[0;34m\u001b[0m\u001b[0;34m\u001b[0m\u001b[0m\n",
            "\u001b[0;31mNameError\u001b[0m: name 'df_Estado' is not defined"
          ]
        },
        {
          "output_type": "display_data",
          "data": {
            "text/plain": [
              "<Figure size 2160x720 with 0 Axes>"
            ]
          },
          "metadata": {
            "tags": []
          }
        }
      ]
    },
    {
      "cell_type": "markdown",
      "metadata": {
        "id": "yDqZOq_Ol5nh"
      },
      "source": [
        "####3.2 Avalições por Regiões em ordem descrescente. "
      ]
    },
    {
      "cell_type": "code",
      "metadata": {
        "id": "-RaVP2_qOzlX"
      },
      "source": [
        ""
      ],
      "execution_count": null,
      "outputs": []
    },
    {
      "cell_type": "markdown",
      "metadata": {
        "id": "F7vfhY7ij2ys"
      },
      "source": [
        "####3.3 Avalições por Estados em ordem descrescente."
      ]
    },
    {
      "cell_type": "code",
      "metadata": {
        "id": "VsEPxAro6III",
        "colab": {
          "base_uri": "https://localhost:8080/",
          "height": 204
        },
        "outputId": "5b12ce7d-f9dc-48ff-e543-492de9607689"
      },
      "source": [
        "df_Adressregion = df['AddressRegion'].value_counts().to_frame() # https://www.kaggle.com/parulpandey/five-ways-to-use-value-counts https://re-thought.com/pandas-value_counts/https://re-thought.com/pandas-value_counts/\n",
        "df_Adressregion.head()"
      ],
      "execution_count": null,
      "outputs": [
        {
          "output_type": "execute_result",
          "data": {
            "text/html": [
              "<div>\n",
              "<style scoped>\n",
              "    .dataframe tbody tr th:only-of-type {\n",
              "        vertical-align: middle;\n",
              "    }\n",
              "\n",
              "    .dataframe tbody tr th {\n",
              "        vertical-align: top;\n",
              "    }\n",
              "\n",
              "    .dataframe thead th {\n",
              "        text-align: right;\n",
              "    }\n",
              "</style>\n",
              "<table border=\"1\" class=\"dataframe\">\n",
              "  <thead>\n",
              "    <tr style=\"text-align: right;\">\n",
              "      <th></th>\n",
              "      <th>AddressRegion</th>\n",
              "    </tr>\n",
              "  </thead>\n",
              "  <tbody>\n",
              "    <tr>\n",
              "      <th>Estado de São Paulo</th>\n",
              "      <td>17455</td>\n",
              "    </tr>\n",
              "    <tr>\n",
              "      <th>Estado do Rio de Janeiro</th>\n",
              "      <td>10583</td>\n",
              "    </tr>\n",
              "    <tr>\n",
              "      <th>Rio Grande do Norte</th>\n",
              "      <td>7075</td>\n",
              "    </tr>\n",
              "    <tr>\n",
              "      <th>Ceará</th>\n",
              "      <td>6206</td>\n",
              "    </tr>\n",
              "    <tr>\n",
              "      <th>Bahia</th>\n",
              "      <td>6030</td>\n",
              "    </tr>\n",
              "  </tbody>\n",
              "</table>\n",
              "</div>"
            ],
            "text/plain": [
              "                          AddressRegion\n",
              "Estado de São Paulo               17455\n",
              "Estado do Rio de Janeiro          10583\n",
              "Rio Grande do Norte                7075\n",
              "Ceará                              6206\n",
              "Bahia                              6030"
            ]
          },
          "metadata": {
            "tags": []
          },
          "execution_count": 90
        }
      ]
    },
    {
      "cell_type": "code",
      "metadata": {
        "colab": {
          "base_uri": "https://localhost:8080/",
          "height": 706
        },
        "id": "a7KAjxJsIspj",
        "outputId": "38fe9c4a-c303-4ff9-b4d8-6995593210c1"
      },
      "source": [
        "#Gráfico de Estados com mais avalições em ordem descrescente. \n",
        "fig = plt.figure(figsize=(30,10)) \n",
        "sns.countplot(y='AddressRegion', order = df['AddressRegion'].value_counts().index, data=df)\n",
        "plt.title('Estados com mais avaliações',fontsize=40)\n",
        "plt.xticks(fontsize=10)\n",
        "plt.yticks(fontsize=10)\n",
        "#plt.ylim(0.1,30)"
      ],
      "execution_count": null,
      "outputs": [
        {
          "output_type": "execute_result",
          "data": {
            "text/plain": [
              "(array([ 0,  1,  2,  3,  4,  5,  6,  7,  8,  9, 10, 11, 12, 13, 14, 15, 16,\n",
              "        17, 18, 19, 20, 21, 22, 23, 24, 25, 26]),\n",
              " <a list of 27 Text major ticklabel objects>)"
            ]
          },
          "metadata": {
            "tags": []
          },
          "execution_count": 91
        },
        {
          "output_type": "display_data",
          "data": {
            "image/png": "[encoded data removed]",
            "text/plain": [
              "<Figure size 2160x720 with 1 Axes>"
            ]
          },
          "metadata": {
            "tags": [],
            "needs_background": "light"
          }
        }
      ]
    },
    {
      "cell_type": "markdown",
      "metadata": {
        "id": "CY3m1ai2khQq"
      },
      "source": [
        "####3.4 Avalições de Estabelecimentos feitas por Amazonenses "
      ]
    },
    {
      "cell_type": "markdown",
      "metadata": {
        "id": "OqwbsIKZlJPM"
      },
      "source": [
        "####3.5 Estabelecimentos de Manaus com comentários em decrescente "
      ]
    },
    {
      "cell_type": "code",
      "metadata": {
        "id": "J2ypXCG2o35q"
      },
      "source": [
        ""
      ],
      "execution_count": null,
      "outputs": []
    },
    {
      "cell_type": "code",
      "metadata": {
        "id": "gNIXiMFk2K4U"
      },
      "source": [
        "listOfDataBase = list()\n",
        "listOfData = []\n",
        " \n",
        "def findKeys(dataBase):\n",
        "    for register in dataBase:\n",
        "        try:\n",
        "            cols = register.split('\\n')\n",
        "            listOfDataBase.append(cols[0])\n",
        "        except UnicodeDecodeError:\n",
        "            print(\"Error on uncode decode findkeys\")\n",
        "    print(\"Find Keys: \",listOfDataBase)\n"
      ],
      "execution_count": null,
      "outputs": []
    },
    {
      "cell_type": "markdown",
      "metadata": {
        "id": "m6ZAMtjX2wNR"
      },
      "source": [
        "Iteração das chaves e dos valores"
      ]
    },
    {
      "cell_type": "code",
      "metadata": {
        "id": "XSQIxblN3Bla"
      },
      "source": [
        "def passToJson():\n",
        "    i=0\n",
        "    for i in range(10): ## tem que colocar a array de todo arquivo\n",
        "        listOfIssue = listOfDataBase[i]\n",
        "        i+=1\n",
        "        time.sleep(1)\n",
        "        joinList = json.loads(listOfIssue)\n",
        "        \n",
        "        for key, value in joinList.items():\n",
        "            print(key, \":\", value)            \n",
        "            if key == \"itemReviewed\":\n",
        "                print(\"itemReviewed \",joinList[\"itemReviewed\"][\"name\"])\n",
        "                print(\"sub ItemReviewd: \",joinList[\"itemReviewed\"][\"address\"])\n",
        "                keyItem = joinList[\"itemReviewed\"][\"address\"]\n",
        "                print(\"valor \", type(keyItem))\n",
        "                print(\"StreetAddress: \",keyItem[\"streetAddress\"])\n",
        "                print(\"addressLocality: \",keyItem[\"addressLocality\"])\n",
        "                print(\"postalCode: \",keyItem[\"postalCode\"])\n",
        "                print(\"country: \",keyItem[\"country\"])\n",
        "                for _keys, _value in keyItem.items():\n",
        "                    print(_keys,\": \",_value)\n",
        "        \n",
        "        listOfData.append(joinList)"
      ],
      "execution_count": null,
      "outputs": []
    },
    {
      "cell_type": "markdown",
      "metadata": {
        "id": "rrhp2yFG3YcM"
      },
      "source": [
        "Exibir do conteúdo por chave e valor"
      ]
    },
    {
      "cell_type": "code",
      "metadata": {
        "id": "pnDPr5nR3dT2",
        "colab": {
          "base_uri": "https://localhost:8080/",
          "height": 350
        },
        "outputId": "c3fccdb6-5be1-4a67-a5ca-7dd4dcd887f4"
      },
      "source": [
        "def showContent(value, collum):\n",
        "    i=0\n",
        "    _data = []\n",
        "    for i in range(value): ##range que vai trazer todas as colunas\n",
        "        try:\n",
        "            res = listOfData[i][collum]\n",
        "            print(type(res))\n",
        "            print(listOfData[i][collum]) #averageRating, ratingValue etc\n",
        "            i = i + 1\n",
        "            print(\"line: \", i)\n",
        "        except KeyError:\n",
        "            print(\"Key Error\")\n",
        "            continue\n",
        "\n",
        "valueFindKeys = findKeys(dados) #valor que vai para def passToJson()\n",
        "dictionaryOfDate = passToJson()\n",
        "showContent(1,\"reviewBody\")"
      ],
      "execution_count": null,
      "outputs": [
        {
          "output_type": "stream",
          "text": [
            "Find Keys:  []\n"
          ],
          "name": "stdout"
        },
        {
          "output_type": "error",
          "ename": "IndexError",
          "evalue": "ignored",
          "traceback": [
            "\u001b[0;31m---------------------------------------------------------------------------\u001b[0m",
            "\u001b[0;31mIndexError\u001b[0m                                Traceback (most recent call last)",
            "\u001b[0;32m<ipython-input-18-a20ea383d466>\u001b[0m in \u001b[0;36m<module>\u001b[0;34m()\u001b[0m\n\u001b[1;32m     14\u001b[0m \u001b[0;34m\u001b[0m\u001b[0m\n\u001b[1;32m     15\u001b[0m \u001b[0mvalueFindKeys\u001b[0m \u001b[0;34m=\u001b[0m \u001b[0mfindKeys\u001b[0m\u001b[0;34m(\u001b[0m\u001b[0mdados\u001b[0m\u001b[0;34m)\u001b[0m \u001b[0;31m#valor que vai para def passToJson()\u001b[0m\u001b[0;34m\u001b[0m\u001b[0;34m\u001b[0m\u001b[0m\n\u001b[0;32m---> 16\u001b[0;31m \u001b[0mdictionaryOfDate\u001b[0m \u001b[0;34m=\u001b[0m \u001b[0mpassToJson\u001b[0m\u001b[0;34m(\u001b[0m\u001b[0;34m)\u001b[0m\u001b[0;34m\u001b[0m\u001b[0;34m\u001b[0m\u001b[0m\n\u001b[0m\u001b[1;32m     17\u001b[0m \u001b[0mshowContent\u001b[0m\u001b[0;34m(\u001b[0m\u001b[0;36m1\u001b[0m\u001b[0;34m,\u001b[0m\u001b[0;34m\"reviewBody\"\u001b[0m\u001b[0;34m)\u001b[0m\u001b[0;34m\u001b[0m\u001b[0;34m\u001b[0m\u001b[0m\n",
            "\u001b[0;32m<ipython-input-17-3b9aa4e0424f>\u001b[0m in \u001b[0;36mpassToJson\u001b[0;34m()\u001b[0m\n\u001b[1;32m      2\u001b[0m     \u001b[0mi\u001b[0m\u001b[0;34m=\u001b[0m\u001b[0;36m0\u001b[0m\u001b[0;34m\u001b[0m\u001b[0;34m\u001b[0m\u001b[0m\n\u001b[1;32m      3\u001b[0m     \u001b[0;32mfor\u001b[0m \u001b[0mi\u001b[0m \u001b[0;32min\u001b[0m \u001b[0mrange\u001b[0m\u001b[0;34m(\u001b[0m\u001b[0;36m10\u001b[0m\u001b[0;34m)\u001b[0m\u001b[0;34m:\u001b[0m \u001b[0;31m## tem que colocar a array de todo arquivo\u001b[0m\u001b[0;34m\u001b[0m\u001b[0;34m\u001b[0m\u001b[0m\n\u001b[0;32m----> 4\u001b[0;31m         \u001b[0mlistOfIssue\u001b[0m \u001b[0;34m=\u001b[0m \u001b[0mlistOfDataBase\u001b[0m\u001b[0;34m[\u001b[0m\u001b[0mi\u001b[0m\u001b[0;34m]\u001b[0m\u001b[0;34m\u001b[0m\u001b[0;34m\u001b[0m\u001b[0m\n\u001b[0m\u001b[1;32m      5\u001b[0m         \u001b[0mi\u001b[0m\u001b[0;34m+=\u001b[0m\u001b[0;36m1\u001b[0m\u001b[0;34m\u001b[0m\u001b[0;34m\u001b[0m\u001b[0m\n\u001b[1;32m      6\u001b[0m         \u001b[0mtime\u001b[0m\u001b[0;34m.\u001b[0m\u001b[0msleep\u001b[0m\u001b[0;34m(\u001b[0m\u001b[0;36m1\u001b[0m\u001b[0;34m)\u001b[0m\u001b[0;34m\u001b[0m\u001b[0;34m\u001b[0m\u001b[0m\n",
            "\u001b[0;31mIndexError\u001b[0m: list index out of range"
          ]
        }
      ]
    },
    {
      "cell_type": "markdown",
      "metadata": {
        "id": "P2wMD-7g3WNm"
      },
      "source": [
        ""
      ]
    },
    {
      "cell_type": "code",
      "metadata": {
        "id": "A-x9ajYsyNZC"
      },
      "source": [
        "dados"
      ],
      "execution_count": null,
      "outputs": []
    },
    {
      "cell_type": "code",
      "metadata": {
        "id": "PLBpeBeEelHN"
      },
      "source": [
        "dados.info()"
      ],
      "execution_count": null,
      "outputs": []
    },
    {
      "cell_type": "code",
      "metadata": {
        "id": "tAKDhW6kyz01"
      },
      "source": [
        "diaDaVisita = dados.iloc[:,9:10]\n",
        "diaDaVisita"
      ],
      "execution_count": null,
      "outputs": []
    },
    {
      "cell_type": "code",
      "metadata": {
        "id": "lfYuCOWDJOdY"
      },
      "source": [
        "dados.count()"
      ],
      "execution_count": null,
      "outputs": []
    },
    {
      "cell_type": "code",
      "metadata": {
        "id": "FqDxYdQq2SrB"
      },
      "source": [
        "dados.duplicated()"
      ],
      "execution_count": null,
      "outputs": []
    },
    {
      "cell_type": "code",
      "metadata": {
        "id": "77RiauiozZEU"
      },
      "source": [
        "avaliacaoGeral = dados.iloc[:,10:11]\n",
        "avaliacaoGeral.describe()"
      ],
      "execution_count": null,
      "outputs": []
    },
    {
      "cell_type": "code",
      "metadata": {
        "id": "DHm6-0qe0N4O"
      },
      "source": [
        "dispositivoMovel = dados.iloc[:,6:7]\n",
        "dispositivoMovel"
      ],
      "execution_count": null,
      "outputs": []
    },
    {
      "cell_type": "markdown",
      "metadata": {
        "id": "66n5BsHJke84"
      },
      "source": [
        ""
      ]
    },
    {
      "cell_type": "markdown",
      "metadata": {
        "id": "aUbTHWvYqydo"
      },
      "source": [
        "####3.6 Avaliações por tipo dispositivos\n"
      ]
    },
    {
      "cell_type": "code",
      "metadata": {
        "colab": {
          "base_uri": "https://localhost:8080/",
          "height": 361
        },
        "id": "gitVsEcgrQCa",
        "outputId": "9fee5b85-ba50-49e4-bee9-3e52a74d58aa"
      },
      "source": [
        "# Percentual de avaliação por dispositivos - https://www.youtube.com/watch?v=wYxDyg1UnMw\n",
        "\n",
        "plt.rcParams.update({'font.size':20})\n",
        "rotulos = ['Móvel', 'Fixo']\n",
        "dfdisp = df.groupby(by='mobileDevice').size()\n",
        "explode = (0.1,0)\n",
        "plt.figure(figsize=(5,5))\n",
        "plt.pie(x=dfdisp, labels=rotulos,explode=explode, autopct='%1.1f%%', startangle=90, shadow=True)\n",
        "plt.title('Percentual de avaliação por dispositivos',fontsize=40)\n",
        "##plt.show()"
      ],
      "execution_count": null,
      "outputs": [
        {
          "output_type": "execute_result",
          "data": {
            "text/plain": [
              "Text(0.5, 1.0, 'Percentual de avaliação por dispositivos')"
            ]
          },
          "metadata": {
            "tags": []
          },
          "execution_count": 85
        },
        {
          "output_type": "display_data",
          "data": {
            "image/png": "[encoded data removed]",
            "text/plain": [
              "<Figure size 360x360 with 1 Axes>"
            ]
          },
          "metadata": {
            "tags": []
          }
        }
      ]
    },
    {
      "cell_type": "markdown",
      "metadata": {
        "id": "obyS07hmHOuZ"
      },
      "source": [
        "####3.7 Evolução das avaliações por ano\n",
        "\n"
      ]
    },
    {
      "cell_type": "code",
      "metadata": {
        "colab": {
          "base_uri": "https://localhost:8080/",
          "height": 212
        },
        "id": "HNjsNuNKHdJV",
        "outputId": "3efd33da-c754-46a7-86c2-857d91967697"
      },
      "source": [
        "\n",
        "df['publicationDate'] =  pd.to_datetime(df['publicationDate'], format=\"%d/%m/%Y\").to_frame()\n",
        "df_pubdate = df.groupby([df['publicationDate'].dt.year, df['publicationDate'].dt.month])[['publicationDate']].count()\n",
        "df_pubdate.head(10000)"
      ],
      "execution_count": 1,
      "outputs": [
        {
          "output_type": "error",
          "ename": "NameError",
          "evalue": "ignored",
          "traceback": [
            "\u001b[0;31m---------------------------------------------------------------------------\u001b[0m",
            "\u001b[0;31mNameError\u001b[0m                                 Traceback (most recent call last)",
            "\u001b[0;32m<ipython-input-1-9e04305b003a>\u001b[0m in \u001b[0;36m<module>\u001b[0;34m()\u001b[0m\n\u001b[1;32m      1\u001b[0m \u001b[0;34m\u001b[0m\u001b[0m\n\u001b[0;32m----> 2\u001b[0;31m \u001b[0mdf\u001b[0m\u001b[0;34m[\u001b[0m\u001b[0;34m'publicationDate'\u001b[0m\u001b[0;34m]\u001b[0m \u001b[0;34m=\u001b[0m  \u001b[0mpd\u001b[0m\u001b[0;34m.\u001b[0m\u001b[0mto_datetime\u001b[0m\u001b[0;34m(\u001b[0m\u001b[0mdf\u001b[0m\u001b[0;34m[\u001b[0m\u001b[0;34m'publicationDate'\u001b[0m\u001b[0;34m]\u001b[0m\u001b[0;34m,\u001b[0m \u001b[0mformat\u001b[0m\u001b[0;34m=\u001b[0m\u001b[0;34m\"%d/%m/%Y\"\u001b[0m\u001b[0;34m)\u001b[0m\u001b[0;34m.\u001b[0m\u001b[0mto_frame\u001b[0m\u001b[0;34m(\u001b[0m\u001b[0;34m)\u001b[0m\u001b[0;34m\u001b[0m\u001b[0;34m\u001b[0m\u001b[0m\n\u001b[0m\u001b[1;32m      3\u001b[0m \u001b[0mdf_pubdate\u001b[0m \u001b[0;34m=\u001b[0m \u001b[0mdf\u001b[0m\u001b[0;34m.\u001b[0m\u001b[0mgroupby\u001b[0m\u001b[0;34m(\u001b[0m\u001b[0;34m[\u001b[0m\u001b[0mdf\u001b[0m\u001b[0;34m[\u001b[0m\u001b[0;34m'publicationDate'\u001b[0m\u001b[0;34m]\u001b[0m\u001b[0;34m.\u001b[0m\u001b[0mdt\u001b[0m\u001b[0;34m.\u001b[0m\u001b[0myear\u001b[0m\u001b[0;34m,\u001b[0m \u001b[0mdf\u001b[0m\u001b[0;34m[\u001b[0m\u001b[0;34m'publicationDate'\u001b[0m\u001b[0;34m]\u001b[0m\u001b[0;34m.\u001b[0m\u001b[0mdt\u001b[0m\u001b[0;34m.\u001b[0m\u001b[0mmonth\u001b[0m\u001b[0;34m]\u001b[0m\u001b[0;34m)\u001b[0m\u001b[0;34m[\u001b[0m\u001b[0;34m[\u001b[0m\u001b[0;34m'publicationDate'\u001b[0m\u001b[0;34m]\u001b[0m\u001b[0;34m]\u001b[0m\u001b[0;34m.\u001b[0m\u001b[0mcount\u001b[0m\u001b[0;34m(\u001b[0m\u001b[0;34m)\u001b[0m\u001b[0;34m\u001b[0m\u001b[0;34m\u001b[0m\u001b[0m\n\u001b[1;32m      4\u001b[0m \u001b[0mdf_pubdate\u001b[0m\u001b[0;34m.\u001b[0m\u001b[0mhead\u001b[0m\u001b[0;34m(\u001b[0m\u001b[0;36m10000\u001b[0m\u001b[0;34m)\u001b[0m\u001b[0;34m\u001b[0m\u001b[0;34m\u001b[0m\u001b[0m\n",
            "\u001b[0;31mNameError\u001b[0m: name 'pd' is not defined"
          ]
        }
      ]
    },
    {
      "cell_type": "markdown",
      "metadata": {
        "id": "GlH3Y-3wbX_h"
      },
      "source": [
        "###4 Informações sobre o DataFrame"
      ]
    },
    {
      "cell_type": "code",
      "metadata": {
        "id": "uc1v5i81xaqI"
      },
      "source": [
        "dados['title']"
      ],
      "execution_count": null,
      "outputs": []
    },
    {
      "cell_type": "code",
      "metadata": {
        "id": "0cO7s9xihiFD"
      },
      "source": [
        "profile = ProfileReport(dados, title='Pandas Profile Report', html={'style':{'full_width':True}})"
      ],
      "execution_count": null,
      "outputs": []
    },
    {
      "cell_type": "code",
      "metadata": {
        "id": "ZVDj0nyuU9x7"
      },
      "source": [
        "localDoUsuario = dados.iloc[:,7:8]\n",
        "localDoUsuario"
      ],
      "execution_count": null,
      "outputs": []
    },
    {
      "cell_type": "code",
      "metadata": {
        "id": "lsh6Y7nPU4Sw"
      },
      "source": [
        "dados.describe()"
      ],
      "execution_count": null,
      "outputs": []
    },
    {
      "cell_type": "markdown",
      "metadata": {
        "id": "L1QmgeK9P8zS"
      },
      "source": [
        "### 2. Análise dos Dados do Dataframe"
      ]
    },
    {
      "cell_type": "code",
      "metadata": {
        "id": "wo28YNneq1fq",
        "colab": {
          "base_uri": "https://localhost:8080/",
          "height": 323
        },
        "outputId": "e42fd687-9a3f-402d-d12d-a3aafc99cd64"
      },
      "source": [
        "import pandas_profiling as ppf \n",
        "ppf.ProfileReport(df)"
      ],
      "execution_count": null,
      "outputs": [
        {
          "output_type": "error",
          "ename": "TypeError",
          "evalue": "ignored",
          "traceback": [
            "\u001b[0;31m---------------------------------------------------------------------------\u001b[0m",
            "\u001b[0;31mTypeError\u001b[0m                                 Traceback (most recent call last)",
            "\u001b[0;32m<ipython-input-86-07dcc0af818d>\u001b[0m in \u001b[0;36m<module>\u001b[0;34m()\u001b[0m\n\u001b[1;32m      1\u001b[0m \u001b[0;32mimport\u001b[0m \u001b[0mpandas_profiling\u001b[0m \u001b[0;32mas\u001b[0m \u001b[0mppf\u001b[0m\u001b[0;34m\u001b[0m\u001b[0;34m\u001b[0m\u001b[0m\n\u001b[0;32m----> 2\u001b[0;31m \u001b[0mppf\u001b[0m\u001b[0;34m.\u001b[0m\u001b[0mProfileReport\u001b[0m\u001b[0;34m(\u001b[0m\u001b[0mdf\u001b[0m\u001b[0;34m)\u001b[0m\u001b[0;34m\u001b[0m\u001b[0;34m\u001b[0m\u001b[0m\n\u001b[0m",
            "\u001b[0;32m/usr/local/lib/python3.6/dist-packages/pandas_profiling/__init__.py\u001b[0m in \u001b[0;36m__init__\u001b[0;34m(self, df, **kwargs)\u001b[0m\n\u001b[1;32m     64\u001b[0m         \u001b[0msample\u001b[0m \u001b[0;34m=\u001b[0m \u001b[0mkwargs\u001b[0m\u001b[0;34m.\u001b[0m\u001b[0mget\u001b[0m\u001b[0;34m(\u001b[0m\u001b[0;34m'sample'\u001b[0m\u001b[0;34m,\u001b[0m \u001b[0mdf\u001b[0m\u001b[0;34m.\u001b[0m\u001b[0mhead\u001b[0m\u001b[0;34m(\u001b[0m\u001b[0;34m)\u001b[0m\u001b[0;34m)\u001b[0m\u001b[0;34m\u001b[0m\u001b[0;34m\u001b[0m\u001b[0m\n\u001b[1;32m     65\u001b[0m \u001b[0;34m\u001b[0m\u001b[0m\n\u001b[0;32m---> 66\u001b[0;31m         \u001b[0mdescription_set\u001b[0m \u001b[0;34m=\u001b[0m \u001b[0mdescribe\u001b[0m\u001b[0;34m(\u001b[0m\u001b[0mdf\u001b[0m\u001b[0;34m,\u001b[0m \u001b[0;34m**\u001b[0m\u001b[0mkwargs\u001b[0m\u001b[0;34m)\u001b[0m\u001b[0;34m\u001b[0m\u001b[0;34m\u001b[0m\u001b[0m\n\u001b[0m\u001b[1;32m     67\u001b[0m \u001b[0;34m\u001b[0m\u001b[0m\n\u001b[1;32m     68\u001b[0m         self.html = to_html(sample,\n",
            "\u001b[0;32m/usr/local/lib/python3.6/dist-packages/pandas_profiling/describe.py\u001b[0m in \u001b[0;36mdescribe\u001b[0;34m(df, bins, check_correlation, correlation_threshold, correlation_overrides, check_recoded, pool_size, **kwargs)\u001b[0m\n\u001b[1;32m    390\u001b[0m             \u001b[0;32mif\u001b[0m \u001b[0mname\u001b[0m \u001b[0;32mnot\u001b[0m \u001b[0;32min\u001b[0m \u001b[0mnames\u001b[0m\u001b[0;34m:\u001b[0m\u001b[0;34m\u001b[0m\u001b[0;34m\u001b[0m\u001b[0m\n\u001b[1;32m    391\u001b[0m                 \u001b[0mnames\u001b[0m\u001b[0;34m.\u001b[0m\u001b[0mappend\u001b[0m\u001b[0;34m(\u001b[0m\u001b[0mname\u001b[0m\u001b[0;34m)\u001b[0m\u001b[0;34m\u001b[0m\u001b[0;34m\u001b[0m\u001b[0m\n\u001b[0;32m--> 392\u001b[0;31m     \u001b[0mvariable_stats\u001b[0m \u001b[0;34m=\u001b[0m \u001b[0mpd\u001b[0m\u001b[0;34m.\u001b[0m\u001b[0mconcat\u001b[0m\u001b[0;34m(\u001b[0m\u001b[0mldesc\u001b[0m\u001b[0;34m,\u001b[0m \u001b[0mjoin_axes\u001b[0m\u001b[0;34m=\u001b[0m\u001b[0mpd\u001b[0m\u001b[0;34m.\u001b[0m\u001b[0mIndex\u001b[0m\u001b[0;34m(\u001b[0m\u001b[0;34m[\u001b[0m\u001b[0mnames\u001b[0m\u001b[0;34m]\u001b[0m\u001b[0;34m)\u001b[0m\u001b[0;34m,\u001b[0m \u001b[0maxis\u001b[0m\u001b[0;34m=\u001b[0m\u001b[0;36m1\u001b[0m\u001b[0;34m)\u001b[0m\u001b[0;34m\u001b[0m\u001b[0;34m\u001b[0m\u001b[0m\n\u001b[0m\u001b[1;32m    393\u001b[0m     \u001b[0mvariable_stats\u001b[0m\u001b[0;34m.\u001b[0m\u001b[0mcolumns\u001b[0m\u001b[0;34m.\u001b[0m\u001b[0mnames\u001b[0m \u001b[0;34m=\u001b[0m \u001b[0mdf\u001b[0m\u001b[0;34m.\u001b[0m\u001b[0mcolumns\u001b[0m\u001b[0;34m.\u001b[0m\u001b[0mnames\u001b[0m\u001b[0;34m\u001b[0m\u001b[0;34m\u001b[0m\u001b[0m\n\u001b[1;32m    394\u001b[0m \u001b[0;34m\u001b[0m\u001b[0m\n",
            "\u001b[0;31mTypeError\u001b[0m: concat() got an unexpected keyword argument 'join_axes'"
          ]
        }
      ]
    },
    {
      "cell_type": "code",
      "metadata": {
        "id": "62LMP97yr11A"
      },
      "source": [
        ""
      ],
      "execution_count": null,
      "outputs": []
    },
    {
      "cell_type": "code",
      "metadata": {
        "id": "TgRGRZALIr2l"
      },
      "source": [
        ""
      ],
      "execution_count": null,
      "outputs": []
    },
    {
      "cell_type": "code",
      "metadata": {
        "id": "XQB2vR2w1dle"
      },
      "source": [
        "sns.countplot(dados.groupby('publicationDate').userLocation.count());"
      ],
      "execution_count": null,
      "outputs": []
    },
    {
      "cell_type": "code",
      "metadata": {
        "id": "IaI-LjGd3gTv"
      },
      "source": [
        "dados.groupby('userLocation').averageRating.count().plot()"
      ],
      "execution_count": null,
      "outputs": []
    },
    {
      "cell_type": "code",
      "metadata": {
        "id": "kcAQljAr3Pkq"
      },
      "source": [
        "sns.countplot(dados.averageRating);"
      ],
      "execution_count": null,
      "outputs": []
    },
    {
      "cell_type": "code",
      "metadata": {
        "id": "wOgTGh933FgW"
      },
      "source": [
        "sns.countplot(dados.ratingValue);"
      ],
      "execution_count": null,
      "outputs": []
    },
    {
      "cell_type": "code",
      "metadata": {
        "id": "36NC1R7X3XAj"
      },
      "source": [
        "sns.catplot(x=\"mobileDevice\", kind=\"count\", palette=\"ch:.25\", data=dados)"
      ],
      "execution_count": null,
      "outputs": []
    },
    {
      "cell_type": "markdown",
      "metadata": {
        "id": "FWMEPM_BcHZ8"
      },
      "source": [
        "### 4. Analise dos Sentimentos "
      ]
    },
    {
      "cell_type": "code",
      "metadata": {
        "id": "WckFGBHC4Dmq"
      },
      "source": [
        "def translateByTextBlob():\n",
        "  dic2 = pd.DataFrame(dados)\n",
        "  dic2['reviewBody']\n",
        "  count = 0\n",
        "  for _x in dic2['reviewBody']:\n",
        "      count = count + 1  \n",
        "      print(type(_x))\n",
        "      x = _x.encode('utf-16', 'surrogatepass').decode('utf-16')\n",
        "      print(x)\n",
        "      \n",
        "      print(count) #vai imprimir todos os reviews= \n",
        "          \n",
        "      comentario_blob = TextBlob(x)\n",
        "      print(type(comentario_blob))\n",
        "      comentario_blob_us = comentario_blob.translate(to='us')\n",
        "\n",
        "      for sentence_br, sentence in zip(comentario_blob.sentences, comentario_blob_us.sentences):\n",
        "          print(sentence_br, ':', sentence.sentiment.subjectivity)\n",
        "      if count == 5:\n",
        "          print('**End**')\n",
        "          break  "
      ],
      "execution_count": null,
      "outputs": []
    },
    {
      "cell_type": "code",
      "metadata": {
        "id": "uyBYkV5v4hee"
      },
      "source": [
        "translateByTextBlob()"
      ],
      "execution_count": null,
      "outputs": []
    }
  ]
}