{
  "nbformat": 4,
  "nbformat_minor": 0,
  "metadata": {
    "colab": {
      "name": "Analise dos Sentimentos- Restaurantes.ipynb",
      "provenance": [],
      "include_colab_link": true
    },
    "kernelspec": {
      "name": "python3",
      "display_name": "Python 3"
    }
  },
  "cells": [
    {
      "cell_type": "markdown",
      "metadata": {
        "id": "view-in-github",
        "colab_type": "text"
      },
      "source": [
        "<a href=\"https://colab.research.google.com/github/danielleitesoares/Work_Sentimental_Analyzer_Of_Restaurant_Issue/blob/main/Analise_dos_Sentimentos_Restaurantes.ipynb\" target=\"_parent\"><img src=\"https://colab.research.google.com/assets/colab-badge.svg\" alt=\"Open In Colab\"/></a>"
      ]
    },
    {
      "cell_type": "markdown",
      "metadata": {
        "id": "zcrucn3likWJ"
      },
      "source": [
        "#  **Analise de Sentimentos Restaurantes**\n",
        "> Equipe: Leonardo Rocha, Paulo Correa e Daniel Soares\n",
        "> Turma 02\n",
        "\n",
        "\n",
        "\n"
      ]
    },
    {
      "cell_type": "markdown",
      "metadata": {
        "id": "DshVznHdhr-C"
      },
      "source": [
        "### 0.Importação das Bibliotecas Utilizadas \n",
        "\n",
        "\n"
      ]
    },
    {
      "cell_type": "code",
      "metadata": {
        "id": "iiifqgOHh7f1"
      },
      "source": [
        "# coding = utf-8  \n",
        "#Bibliotecas Básicas \n",
        "import pandas as pd\n",
        "import numpy as np\n",
        "import json\n",
        "import nltk\n",
        "import time  # avaliar\n",
        "import sys\n",
        "import unicodedata\n",
        "import requests\n",
        "#Bibliotecas de Gráficos e Relatórios \n",
        "import matplotlib as mpl\n",
        "import matplotlib.pyplot as plt\n",
        "import seaborn as sns\n",
        "%matplotlib inline\n",
        "import pandas_profiling as ppf\n",
        "from pandas_profiling import ProfileReport\n",
        "\n",
        "#Bibliotecas de Análise de Sentimentos\n",
        "import textblob\n"
      ],
      "execution_count": 1,
      "outputs": []
    },
    {
      "cell_type": "markdown",
      "metadata": {
        "id": "vFx9NH6oiqjk"
      },
      "source": [
        "### 1.Tratamento do dataset-v2.dat"
      ]
    },
    {
      "cell_type": "markdown",
      "metadata": {
        "id": "smV5LGlKaEkq"
      },
      "source": [
        "##### 1.1. Abrindo o Dataset "
      ]
    },
    {
      "cell_type": "code",
      "metadata": {
        "id": "jUZ_LJZlk4GC",
        "colab": {
          "base_uri": "https://localhost:8080/"
        },
        "outputId": "78bb911f-49ef-4e1e-bc46-f7f24db809d1"
      },
      "source": [
        "nltk.download('punkt')\n",
        "! git clone https://github.com/paulordie/sentimental_ds\n",
        "%cd sentimental_ds/"
      ],
      "execution_count": 2,
      "outputs": [
        {
          "output_type": "stream",
          "text": [
            "[nltk_data] Downloading package punkt to /root/nltk_data...\n",
            "[nltk_data]   Unzipping tokenizers/punkt.zip.\n",
            "Cloning into 'sentimental_ds'...\n",
            "remote: Enumerating objects: 6, done.\u001b[K\n",
            "remote: Counting objects: 100% (6/6), done.\u001b[K\n",
            "remote: Compressing objects: 100% (5/5), done.\u001b[K\n",
            "remote: Total 101 (delta 1), reused 6 (delta 1), pack-reused 95\u001b[K\n",
            "Receiving objects: 100% (101/101), 79.73 MiB | 21.91 MiB/s, done.\n",
            "Resolving deltas: 100% (51/51), done.\n",
            "Checking out files: 100% (12/12), done.\n",
            "/content/sentimental_ds\n"
          ],
          "name": "stdout"
        }
      ]
    },
    {
      "cell_type": "markdown",
      "metadata": {
        "id": "QqTI_tGa1b8w"
      },
      "source": [
        "##### 1.2 Abrindo e mostrando o Dataset do arquivo .dat\n"
      ]
    },
    {
      "cell_type": "code",
      "metadata": {
        "id": "mr24uM4-1ad4"
      },
      "source": [
        "dados = open('dataset-v2.dat')\n",
        "a = dados.readlines()# Criar uma lista com todos as linhas em strings \n",
        "v = [] # vetor para salvar cada linha em json  \n",
        "#Comando for para correr por cada item de \"a\" que está as linhas \n",
        "for c in a:\n",
        "  parsed_c = json.loads(c) #Traransformar as strings de \"a\" em arquivos json\n",
        "  data = pd.json_normalize(parsed_c) #Normalizando o arquivo json \n",
        "  v.append(data)#jogamos os arquivos em 'V'\n",
        "  #aqui vamos concatenar cada linha que está em 'V' para um unico dataset df \n",
        "df = pd.concat(objs=v,axis=0) # Concatenando "
      ],
      "execution_count": 7,
      "outputs": []
    },
    {
      "cell_type": "markdown",
      "metadata": {
        "id": "cmaCYlzpfObS"
      },
      "source": [
        "##### 1.3 Salvando em outros formatos"
      ]
    },
    {
      "cell_type": "code",
      "metadata": {
        "id": "QaiwZY7tfL_b"
      },
      "source": [
        "#Converterndo e Salvando em CSV\n",
        "df.to_csv('/content/drive/My Drive/dataset123.csv')#salvando o arquivo em csv  \\\\\\\\\\\\\\\\\\\\\\\\\\\\\\\\\\\\\\\\\\verificar\n",
        "#Convertendo e salvar em excel \n",
        "df.to_excel('/content/drive/My Drive/dataset.xlsx')"
      ],
      "execution_count": null,
      "outputs": []
    },
    {
      "cell_type": "markdown",
      "metadata": {
        "id": "Ayfrq42PATZz"
      },
      "source": [
        "##### 1.4 Exibindo o Head do dataset"
      ]
    },
    {
      "cell_type": "code",
      "metadata": {
        "id": "BBsEBJvDg6o8",
        "colab": {
          "base_uri": "https://localhost:8080/",
          "height": 1000
        },
        "outputId": "8ecfef05-7f4a-42d0-9b45-1ce4ed5d89a5"
      },
      "source": [
        "df = df.rename(columns={'itemReviewed.name':'Name','itemReviewed.address.streetAddress':'StressAddress','itemReviewed.address.addressLocality':'AddressLocality','itemReviewed.address.addressRegion':'AddressRegion','itemReviewed.address.postalCode':'PostalCode','itemReviewed.address.country':'Country','itemReviewed.website':'Website','itemReviewed.email':'Email','itemReviewed.phoneNumber':'PhoneNumber','itemReviewed.averageRating':'AverageRating'})\n",
        "df = df.reset_index(drop=True)\n",
        "df.head(10)\n"
      ],
      "execution_count": 8,
      "outputs": [
        {
          "output_type": "execute_result",
          "data": {
            "text/html": [
              "<div>\n",
              "<style scoped>\n",
              "    .dataframe tbody tr th:only-of-type {\n",
              "        vertical-align: middle;\n",
              "    }\n",
              "\n",
              "    .dataframe tbody tr th {\n",
              "        vertical-align: top;\n",
              "    }\n",
              "\n",
              "    .dataframe thead th {\n",
              "        text-align: right;\n",
              "    }\n",
              "</style>\n",
              "<table border=\"1\" class=\"dataframe\">\n",
              "  <thead>\n",
              "    <tr style=\"text-align: right;\">\n",
              "      <th></th>\n",
              "      <th>title</th>\n",
              "      <th>reviewId</th>\n",
              "      <th>restaurantId</th>\n",
              "      <th>author</th>\n",
              "      <th>reviewBody</th>\n",
              "      <th>language</th>\n",
              "      <th>mobileDevice</th>\n",
              "      <th>userLocation</th>\n",
              "      <th>publicationDate</th>\n",
              "      <th>visitDate</th>\n",
              "      <th>ratingValue</th>\n",
              "      <th>Name</th>\n",
              "      <th>StressAddress</th>\n",
              "      <th>AddressLocality</th>\n",
              "      <th>AddressRegion</th>\n",
              "      <th>PostalCode</th>\n",
              "      <th>Country</th>\n",
              "      <th>Website</th>\n",
              "      <th>Email</th>\n",
              "      <th>PhoneNumber</th>\n",
              "      <th>AverageRating</th>\n",
              "    </tr>\n",
              "  </thead>\n",
              "  <tbody>\n",
              "    <tr>\n",
              "      <th>0</th>\n",
              "      <td>Jantar</td>\n",
              "      <td>692856288</td>\n",
              "      <td>2344932</td>\n",
              "      <td>larinhavercosa222</td>\n",
              "      <td>Comida maravilhosa, lugar do verdadeiro chicle...</td>\n",
              "      <td>pt</td>\n",
              "      <td>True</td>\n",
              "      <td>São Carlos, SP</td>\n",
              "      <td>26/07/2019</td>\n",
              "      <td>07/2019</td>\n",
              "      <td>5</td>\n",
              "      <td>Imperador dos Camarões</td>\n",
              "      <td>Avenida Doutor Antônio Gouveia</td>\n",
              "      <td></td>\n",
              "      <td>Alagoas</td>\n",
              "      <td>57030-170</td>\n",
              "      <td>Brasil</td>\n",
              "      <td>http://www.imperadordoscamaroes.com.br</td>\n",
              "      <td>contato@imperadordoscamaroes.com.br</td>\n",
              "      <td>+55 82 3231-4134</td>\n",
              "      <td>4.5</td>\n",
              "    </tr>\n",
              "    <tr>\n",
              "      <th>1</th>\n",
              "      <td>Uma boa experiência.</td>\n",
              "      <td>229208487</td>\n",
              "      <td>3720906</td>\n",
              "      <td>Pano P</td>\n",
              "      <td>Comida boa, drinks legais e um ambiente bem ac...</td>\n",
              "      <td>pt</td>\n",
              "      <td>True</td>\n",
              "      <td>Manaus, AM</td>\n",
              "      <td>16/09/2014</td>\n",
              "      <td>None</td>\n",
              "      <td>4</td>\n",
              "      <td>Guacamole Natal</td>\n",
              "      <td>Avenida Praia de Ponta Negra 9068 Ponta Negra</td>\n",
              "      <td></td>\n",
              "      <td>Rio Grande do Norte</td>\n",
              "      <td>59092-100</td>\n",
              "      <td>Brasil</td>\n",
              "      <td>http://www.facebook.com/GuacamoleNatal</td>\n",
              "      <td>guacamolenatal@gmail.com</td>\n",
              "      <td>+55 84 3219-3646</td>\n",
              "      <td>4.5</td>\n",
              "    </tr>\n",
              "    <tr>\n",
              "      <th>2</th>\n",
              "      <td>Otimo self service</td>\n",
              "      <td>679002332</td>\n",
              "      <td>2248105</td>\n",
              "      <td>Magma100</td>\n",
              "      <td>Excelente pra ir com a família! Ótima Comida, ...</td>\n",
              "      <td>pt</td>\n",
              "      <td>True</td>\n",
              "      <td>Goiânia, GO</td>\n",
              "      <td>04/06/2019</td>\n",
              "      <td>07/2018</td>\n",
              "      <td>4</td>\n",
              "      <td>Chica Pitanga</td>\n",
              "      <td>Rua Petrolina 19</td>\n",
              "      <td>Recife</td>\n",
              "      <td>Pernambuco</td>\n",
              "      <td>51021-250</td>\n",
              "      <td>Brasil</td>\n",
              "      <td>http://www.chicapitanga.com.br</td>\n",
              "      <td>chicapitanga@chicapitanga.com.br</td>\n",
              "      <td>+55 81 3334-8260</td>\n",
              "      <td>4.5</td>\n",
              "    </tr>\n",
              "    <tr>\n",
              "      <th>3</th>\n",
              "      <td>O sorvete mais tradicional do estado</td>\n",
              "      <td>355671519</td>\n",
              "      <td>8168302</td>\n",
              "      <td>Yurie M</td>\n",
              "      <td>Tomo sorvete na Visabor faz mais de 30 anos. S...</td>\n",
              "      <td>pt</td>\n",
              "      <td>False</td>\n",
              "      <td>Aracaju, SE</td>\n",
              "      <td>15/03/2016</td>\n",
              "      <td>01/2016</td>\n",
              "      <td>5</td>\n",
              "      <td>Sorvetes Vi Sabor</td>\n",
              "      <td>Avenida Francisco Porto 59 Grageru</td>\n",
              "      <td>Aracaju</td>\n",
              "      <td>Sergipe</td>\n",
              "      <td></td>\n",
              "      <td>Brasil</td>\n",
              "      <td>None</td>\n",
              "      <td>None</td>\n",
              "      <td>None</td>\n",
              "      <td>4.0</td>\n",
              "    </tr>\n",
              "    <tr>\n",
              "      <th>4</th>\n",
              "      <td>Melhor hamburger!</td>\n",
              "      <td>268741921</td>\n",
              "      <td>5395141</td>\n",
              "      <td>Debora_C85</td>\n",
              "      <td>O melhor hamburger que já comi! Excelente aten...</td>\n",
              "      <td>pt</td>\n",
              "      <td>False</td>\n",
              "      <td>Rio de Janeiro, RJ</td>\n",
              "      <td>28/04/2015</td>\n",
              "      <td>04/2015</td>\n",
              "      <td>5</td>\n",
              "      <td>Z Deli Sandwich Shop</td>\n",
              "      <td>Rua Haddock Lobo 1386 Jardins</td>\n",
              "      <td>São Paulo</td>\n",
              "      <td>Estado de São Paulo</td>\n",
              "      <td>01414-002</td>\n",
              "      <td>Brasil</td>\n",
              "      <td>http://www.facebook.com/zdelisandwichshop/</td>\n",
              "      <td>None</td>\n",
              "      <td>551130830021</td>\n",
              "      <td>4.5</td>\n",
              "    </tr>\n",
              "    <tr>\n",
              "      <th>5</th>\n",
              "      <td>Um achado maravilhoso!</td>\n",
              "      <td>482361860</td>\n",
              "      <td>12209902</td>\n",
              "      <td>Monique C</td>\n",
              "      <td>O restaurante é novo, super acolhedor e charmo...</td>\n",
              "      <td>pt</td>\n",
              "      <td>False</td>\n",
              "      <td>None</td>\n",
              "      <td>07/05/2017</td>\n",
              "      <td>05/2017</td>\n",
              "      <td>5</td>\n",
              "      <td>Trattoria della Gloria</td>\n",
              "      <td>Rua do Russel 450</td>\n",
              "      <td>Rio de Janeiro</td>\n",
              "      <td>Estado do Rio de Janeiro</td>\n",
              "      <td>22210-010</td>\n",
              "      <td>Brasil</td>\n",
              "      <td>https://www.facebook.com/trattoriadellagloria....</td>\n",
              "      <td>info@trattoriadellagloria.com.br</td>\n",
              "      <td>+55 21 3435-6789</td>\n",
              "      <td>4.5</td>\n",
              "    </tr>\n",
              "    <tr>\n",
              "      <th>6</th>\n",
              "      <td>Saboroso</td>\n",
              "      <td>431356071</td>\n",
              "      <td>5565144</td>\n",
              "      <td>ChrisWings</td>\n",
              "      <td>Fomos num sábado, ambiente elegante, equipe ge...</td>\n",
              "      <td>pt</td>\n",
              "      <td>True</td>\n",
              "      <td>Brasília, DF</td>\n",
              "      <td>24/10/2016</td>\n",
              "      <td>10/2016</td>\n",
              "      <td>4</td>\n",
              "      <td>Tomyam</td>\n",
              "      <td>José Maria Lisboa, 1065 Jardim Paulista</td>\n",
              "      <td>São Paulo</td>\n",
              "      <td>Estado de São Paulo</td>\n",
              "      <td>01423-003</td>\n",
              "      <td>Brasil</td>\n",
              "      <td>http://www.tomyam.com.br/</td>\n",
              "      <td>tomyamsp@tomyamsp.com.br</td>\n",
              "      <td>+55 11 4329-1002</td>\n",
              "      <td>4.0</td>\n",
              "    </tr>\n",
              "    <tr>\n",
              "      <th>7</th>\n",
              "      <td>Bom trabalho</td>\n",
              "      <td>361607766</td>\n",
              "      <td>2408078</td>\n",
              "      <td>lucianasoares18</td>\n",
              "      <td>Comida ótima e com bom atediamento e com muita...</td>\n",
              "      <td>pt</td>\n",
              "      <td>False</td>\n",
              "      <td>Vila Velha, ES</td>\n",
              "      <td>04/04/2016</td>\n",
              "      <td>04/2016</td>\n",
              "      <td>4</td>\n",
              "      <td>Ilha do Caranguejo - Vitória</td>\n",
              "      <td>Rua Alcino Pereira Netto, 570 - Jardim Camburi...</td>\n",
              "      <td>Vitória</td>\n",
              "      <td>Espírito Santo</td>\n",
              "      <td>29090-540</td>\n",
              "      <td>Brasil</td>\n",
              "      <td>http://www.ilhadocaranguejo.com.br</td>\n",
              "      <td>ilha@ilha.es</td>\n",
              "      <td>+55 27 3395-0244</td>\n",
              "      <td>4.5</td>\n",
              "    </tr>\n",
              "    <tr>\n",
              "      <th>8</th>\n",
              "      <td>Maravilhoso!</td>\n",
              "      <td>622424870</td>\n",
              "      <td>9738862</td>\n",
              "      <td>Andrezza O</td>\n",
              "      <td>Ambiente agradável, preço totalmente acessível...</td>\n",
              "      <td>pt</td>\n",
              "      <td>True</td>\n",
              "      <td>Teresina, PI</td>\n",
              "      <td>05/10/2018</td>\n",
              "      <td>10/2018</td>\n",
              "      <td>5</td>\n",
              "      <td>Vertigo Restaurante</td>\n",
              "      <td>R. Aviador Irapua Rocha, 2370 Bairro Ininga</td>\n",
              "      <td>Teresina</td>\n",
              "      <td>Piauí</td>\n",
              "      <td>64049-740</td>\n",
              "      <td>Brasil</td>\n",
              "      <td>None</td>\n",
              "      <td>None</td>\n",
              "      <td>08632334338</td>\n",
              "      <td>4.0</td>\n",
              "    </tr>\n",
              "    <tr>\n",
              "      <th>9</th>\n",
              "      <td>Mais tradicional de BH</td>\n",
              "      <td>400149803</td>\n",
              "      <td>3514720</td>\n",
              "      <td>Leonardo R</td>\n",
              "      <td>A pizzaria é a mais tradicional de Belo Horizo...</td>\n",
              "      <td>pt</td>\n",
              "      <td>False</td>\n",
              "      <td>Belo Horizonte, MG</td>\n",
              "      <td>01/08/2016</td>\n",
              "      <td>07/2016</td>\n",
              "      <td>5</td>\n",
              "      <td>Pizzarella</td>\n",
              "      <td>Av. Olegário Maciel, 2.280 - Lourdes</td>\n",
              "      <td>Belo Horizonte</td>\n",
              "      <td>Minas Gerais</td>\n",
              "      <td></td>\n",
              "      <td>Brasil</td>\n",
              "      <td>http://www.pizzarellasaobento.com.br/home/defa...</td>\n",
              "      <td>None</td>\n",
              "      <td>(31) 3292-3000</td>\n",
              "      <td>4.0</td>\n",
              "    </tr>\n",
              "  </tbody>\n",
              "</table>\n",
              "</div>"
            ],
            "text/plain": [
              "                                  title  ... AverageRating\n",
              "0                               Jantar   ...           4.5\n",
              "1                  Uma boa experiência.  ...           4.5\n",
              "2                    Otimo self service  ...           4.5\n",
              "3  O sorvete mais tradicional do estado  ...           4.0\n",
              "4                     Melhor hamburger!  ...           4.5\n",
              "5                Um achado maravilhoso!  ...           4.5\n",
              "6                              Saboroso  ...           4.0\n",
              "7                          Bom trabalho  ...           4.5\n",
              "8                          Maravilhoso!  ...           4.0\n",
              "9                Mais tradicional de BH  ...           4.0\n",
              "\n",
              "[10 rows x 21 columns]"
            ]
          },
          "metadata": {
            "tags": []
          },
          "execution_count": 8
        }
      ]
    },
    {
      "cell_type": "code",
      "metadata": {
        "colab": {
          "base_uri": "https://localhost:8080/"
        },
        "id": "z4cVjxSQ6F_4",
        "outputId": "056c9fb6-2575-4949-cd51-3998cb4daf7c"
      },
      "source": [
        "df.dtypes"
      ],
      "execution_count": 124,
      "outputs": [
        {
          "output_type": "execute_result",
          "data": {
            "text/plain": [
              "title              object\n",
              "reviewId           object\n",
              "restaurantId       object\n",
              "author             object\n",
              "reviewBody         object\n",
              "language           object\n",
              "mobileDevice       object\n",
              "userLocation       object\n",
              "publicationDate    object\n",
              "visitDate          object\n",
              "ratingValue        object\n",
              "Name               object\n",
              "StressAddress      object\n",
              "AddressLocality    object\n",
              "AddressRegion      object\n",
              "PostalCode         object\n",
              "Country            object\n",
              "Website            object\n",
              "Email              object\n",
              "PhoneNumber        object\n",
              "AverageRating      object\n",
              "cidade             object\n",
              "estado             object\n",
              "Cidade             object\n",
              "Estado             object\n",
              "dtype: object"
            ]
          },
          "metadata": {
            "tags": []
          },
          "execution_count": 124
        }
      ]
    },
    {
      "cell_type": "code",
      "metadata": {
        "id": "5z_azJnoVroH"
      },
      "source": [
        "df['AverageRating'] = df['AverageRating'].apply(pd.to_numeric) # convertendo para numerico a variave Average Rating "
      ],
      "execution_count": 126,
      "outputs": []
    },
    {
      "cell_type": "code",
      "metadata": {
        "id": "JV3hV9goWk0L",
        "outputId": "2662b456-e7e6-4c4f-ae88-86261fdbbc5d",
        "colab": {
          "base_uri": "https://localhost:8080/"
        }
      },
      "source": [
        "df.dtypes"
      ],
      "execution_count": 128,
      "outputs": [
        {
          "output_type": "execute_result",
          "data": {
            "text/plain": [
              "title               object\n",
              "reviewId            object\n",
              "restaurantId        object\n",
              "author              object\n",
              "reviewBody          object\n",
              "language            object\n",
              "mobileDevice        object\n",
              "userLocation        object\n",
              "publicationDate     object\n",
              "visitDate           object\n",
              "ratingValue         object\n",
              "Name                object\n",
              "StressAddress       object\n",
              "AddressLocality     object\n",
              "AddressRegion       object\n",
              "PostalCode          object\n",
              "Country             object\n",
              "Website             object\n",
              "Email               object\n",
              "PhoneNumber         object\n",
              "AverageRating      float64\n",
              "cidade              object\n",
              "estado              object\n",
              "Cidade              object\n",
              "Estado              object\n",
              "dtype: object"
            ]
          },
          "metadata": {
            "tags": []
          },
          "execution_count": 128
        }
      ]
    },
    {
      "cell_type": "markdown",
      "metadata": {
        "id": "qvIe0e3x2Hw9"
      },
      "source": [
        "Varredura do JSON por linha"
      ]
    },
    {
      "cell_type": "markdown",
      "metadata": {
        "id": "sEVQOLkxYl8b"
      },
      "source": [
        "### 3. *Gráfico* dos Dados do DataFrame"
      ]
    },
    {
      "cell_type": "markdown",
      "metadata": {
        "id": "0QvXrYT1kCpk"
      },
      "source": [
        "#### 3.Avaliações por Países em ordem decrescente "
      ]
    },
    {
      "cell_type": "code",
      "metadata": {
        "colab": {
          "base_uri": "https://localhost:8080/",
          "height": 564
        },
        "id": "GWewYgrEXfah",
        "outputId": "8d634227-4f04-4528-9163-15a8cb6e6bf1"
      },
      "source": [
        "# Divide o campo User Location com os valores após a , para uma nova coluna denominadas de Estado e Cidade, https://pt.linkedin.com/pulse/dividindo-colunas-por-delimitador-com-python-fernanda-santos\n",
        "divisao = df['userLocation'].str.split(',') \n",
        "Cidade = divisao.str.get(0) \n",
        "Estado = divisao.str.get(1)\n",
        "df['Cidade'] = Cidade.str.upper()\n",
        "df['Estado'] = Estado.str.upper()\n",
        "df.head()"
      ],
      "execution_count": 102,
      "outputs": [
        {
          "output_type": "execute_result",
          "data": {
            "text/html": [
              "<div>\n",
              "<style scoped>\n",
              "    .dataframe tbody tr th:only-of-type {\n",
              "        vertical-align: middle;\n",
              "    }\n",
              "\n",
              "    .dataframe tbody tr th {\n",
              "        vertical-align: top;\n",
              "    }\n",
              "\n",
              "    .dataframe thead th {\n",
              "        text-align: right;\n",
              "    }\n",
              "</style>\n",
              "<table border=\"1\" class=\"dataframe\">\n",
              "  <thead>\n",
              "    <tr style=\"text-align: right;\">\n",
              "      <th></th>\n",
              "      <th>title</th>\n",
              "      <th>reviewId</th>\n",
              "      <th>restaurantId</th>\n",
              "      <th>author</th>\n",
              "      <th>reviewBody</th>\n",
              "      <th>language</th>\n",
              "      <th>mobileDevice</th>\n",
              "      <th>userLocation</th>\n",
              "      <th>publicationDate</th>\n",
              "      <th>visitDate</th>\n",
              "      <th>ratingValue</th>\n",
              "      <th>Name</th>\n",
              "      <th>StressAddress</th>\n",
              "      <th>AddressLocality</th>\n",
              "      <th>AddressRegion</th>\n",
              "      <th>PostalCode</th>\n",
              "      <th>Country</th>\n",
              "      <th>Website</th>\n",
              "      <th>Email</th>\n",
              "      <th>PhoneNumber</th>\n",
              "      <th>AverageRating</th>\n",
              "      <th>cidade</th>\n",
              "      <th>estado</th>\n",
              "      <th>Cidade</th>\n",
              "      <th>Estado</th>\n",
              "    </tr>\n",
              "  </thead>\n",
              "  <tbody>\n",
              "    <tr>\n",
              "      <th>0</th>\n",
              "      <td>Jantar</td>\n",
              "      <td>692856288</td>\n",
              "      <td>2344932</td>\n",
              "      <td>larinhavercosa222</td>\n",
              "      <td>Comida maravilhosa, lugar do verdadeiro chicle...</td>\n",
              "      <td>pt</td>\n",
              "      <td>True</td>\n",
              "      <td>São Carlos, SP</td>\n",
              "      <td>26/07/2019</td>\n",
              "      <td>07/2019</td>\n",
              "      <td>5</td>\n",
              "      <td>Imperador dos Camarões</td>\n",
              "      <td>Avenida Doutor Antônio Gouveia</td>\n",
              "      <td></td>\n",
              "      <td>Alagoas</td>\n",
              "      <td>57030-170</td>\n",
              "      <td>Brasil</td>\n",
              "      <td>http://www.imperadordoscamaroes.com.br</td>\n",
              "      <td>contato@imperadordoscamaroes.com.br</td>\n",
              "      <td>+55 82 3231-4134</td>\n",
              "      <td>4.5</td>\n",
              "      <td>São Carlos</td>\n",
              "      <td>SP</td>\n",
              "      <td>SÃO CARLOS</td>\n",
              "      <td>SP</td>\n",
              "    </tr>\n",
              "    <tr>\n",
              "      <th>1</th>\n",
              "      <td>Uma boa experiência.</td>\n",
              "      <td>229208487</td>\n",
              "      <td>3720906</td>\n",
              "      <td>Pano P</td>\n",
              "      <td>Comida boa, drinks legais e um ambiente bem ac...</td>\n",
              "      <td>pt</td>\n",
              "      <td>True</td>\n",
              "      <td>Manaus, AM</td>\n",
              "      <td>16/09/2014</td>\n",
              "      <td>None</td>\n",
              "      <td>4</td>\n",
              "      <td>Guacamole Natal</td>\n",
              "      <td>Avenida Praia de Ponta Negra 9068 Ponta Negra</td>\n",
              "      <td></td>\n",
              "      <td>Rio Grande do Norte</td>\n",
              "      <td>59092-100</td>\n",
              "      <td>Brasil</td>\n",
              "      <td>http://www.facebook.com/GuacamoleNatal</td>\n",
              "      <td>guacamolenatal@gmail.com</td>\n",
              "      <td>+55 84 3219-3646</td>\n",
              "      <td>4.5</td>\n",
              "      <td>Manaus</td>\n",
              "      <td>AM</td>\n",
              "      <td>MANAUS</td>\n",
              "      <td>AM</td>\n",
              "    </tr>\n",
              "    <tr>\n",
              "      <th>2</th>\n",
              "      <td>Otimo self service</td>\n",
              "      <td>679002332</td>\n",
              "      <td>2248105</td>\n",
              "      <td>Magma100</td>\n",
              "      <td>Excelente pra ir com a família! Ótima Comida, ...</td>\n",
              "      <td>pt</td>\n",
              "      <td>True</td>\n",
              "      <td>Goiânia, GO</td>\n",
              "      <td>04/06/2019</td>\n",
              "      <td>07/2018</td>\n",
              "      <td>4</td>\n",
              "      <td>Chica Pitanga</td>\n",
              "      <td>Rua Petrolina 19</td>\n",
              "      <td>Recife</td>\n",
              "      <td>Pernambuco</td>\n",
              "      <td>51021-250</td>\n",
              "      <td>Brasil</td>\n",
              "      <td>http://www.chicapitanga.com.br</td>\n",
              "      <td>chicapitanga@chicapitanga.com.br</td>\n",
              "      <td>+55 81 3334-8260</td>\n",
              "      <td>4.5</td>\n",
              "      <td>Goiânia</td>\n",
              "      <td>GO</td>\n",
              "      <td>GOIÂNIA</td>\n",
              "      <td>GO</td>\n",
              "    </tr>\n",
              "    <tr>\n",
              "      <th>3</th>\n",
              "      <td>O sorvete mais tradicional do estado</td>\n",
              "      <td>355671519</td>\n",
              "      <td>8168302</td>\n",
              "      <td>Yurie M</td>\n",
              "      <td>Tomo sorvete na Visabor faz mais de 30 anos. S...</td>\n",
              "      <td>pt</td>\n",
              "      <td>False</td>\n",
              "      <td>Aracaju, SE</td>\n",
              "      <td>15/03/2016</td>\n",
              "      <td>01/2016</td>\n",
              "      <td>5</td>\n",
              "      <td>Sorvetes Vi Sabor</td>\n",
              "      <td>Avenida Francisco Porto 59 Grageru</td>\n",
              "      <td>Aracaju</td>\n",
              "      <td>Sergipe</td>\n",
              "      <td></td>\n",
              "      <td>Brasil</td>\n",
              "      <td>None</td>\n",
              "      <td>None</td>\n",
              "      <td>None</td>\n",
              "      <td>4.0</td>\n",
              "      <td>Aracaju</td>\n",
              "      <td>SE</td>\n",
              "      <td>ARACAJU</td>\n",
              "      <td>SE</td>\n",
              "    </tr>\n",
              "    <tr>\n",
              "      <th>4</th>\n",
              "      <td>Melhor hamburger!</td>\n",
              "      <td>268741921</td>\n",
              "      <td>5395141</td>\n",
              "      <td>Debora_C85</td>\n",
              "      <td>O melhor hamburger que já comi! Excelente aten...</td>\n",
              "      <td>pt</td>\n",
              "      <td>False</td>\n",
              "      <td>Rio de Janeiro, RJ</td>\n",
              "      <td>28/04/2015</td>\n",
              "      <td>04/2015</td>\n",
              "      <td>5</td>\n",
              "      <td>Z Deli Sandwich Shop</td>\n",
              "      <td>Rua Haddock Lobo 1386 Jardins</td>\n",
              "      <td>São Paulo</td>\n",
              "      <td>Estado de São Paulo</td>\n",
              "      <td>01414-002</td>\n",
              "      <td>Brasil</td>\n",
              "      <td>http://www.facebook.com/zdelisandwichshop/</td>\n",
              "      <td>None</td>\n",
              "      <td>551130830021</td>\n",
              "      <td>4.5</td>\n",
              "      <td>Rio de Janeiro</td>\n",
              "      <td>RJ</td>\n",
              "      <td>RIO DE JANEIRO</td>\n",
              "      <td>RJ</td>\n",
              "    </tr>\n",
              "  </tbody>\n",
              "</table>\n",
              "</div>"
            ],
            "text/plain": [
              "                                  title   reviewId  ...          Cidade Estado\n",
              "0                               Jantar   692856288  ...      SÃO CARLOS     SP\n",
              "1                  Uma boa experiência.  229208487  ...          MANAUS     AM\n",
              "2                    Otimo self service  679002332  ...         GOIÂNIA     GO\n",
              "3  O sorvete mais tradicional do estado  355671519  ...         ARACAJU     SE\n",
              "4                     Melhor hamburger!  268741921  ...  RIO DE JANEIRO     RJ\n",
              "\n",
              "[5 rows x 25 columns]"
            ]
          },
          "metadata": {
            "tags": []
          },
          "execution_count": 102
        }
      ]
    },
    {
      "cell_type": "markdown",
      "metadata": {
        "id": "beObBXlOHsbk"
      },
      "source": [
        "### Estados de Localização dos Usuários x Opiniões"
      ]
    },
    {
      "cell_type": "code",
      "metadata": {
        "colab": {
          "base_uri": "https://localhost:8080/",
          "height": 359
        },
        "id": "e8RTfhfAWaNh",
        "outputId": "e5871342-e1b3-4d30-a64f-4c5b14c84c24"
      },
      "source": [
        "df_Estado = df['Estado'].value_counts().to_frame()[:20] # https://www.kaggle.com/parulpandey/five-ways-to-use-value-counts https://re-thought.com/pandas-value_counts/https://re-thought.com/pandas-value_counts/\n",
        "df_Estado.head(10)"
      ],
      "execution_count": 106,
      "outputs": [
        {
          "output_type": "execute_result",
          "data": {
            "text/html": [
              "<div>\n",
              "<style scoped>\n",
              "    .dataframe tbody tr th:only-of-type {\n",
              "        vertical-align: middle;\n",
              "    }\n",
              "\n",
              "    .dataframe tbody tr th {\n",
              "        vertical-align: top;\n",
              "    }\n",
              "\n",
              "    .dataframe thead th {\n",
              "        text-align: right;\n",
              "    }\n",
              "</style>\n",
              "<table border=\"1\" class=\"dataframe\">\n",
              "  <thead>\n",
              "    <tr style=\"text-align: right;\">\n",
              "      <th></th>\n",
              "      <th>Estado</th>\n",
              "    </tr>\n",
              "  </thead>\n",
              "  <tbody>\n",
              "    <tr>\n",
              "      <th>SP</th>\n",
              "      <td>20673</td>\n",
              "    </tr>\n",
              "    <tr>\n",
              "      <th>RJ</th>\n",
              "      <td>9780</td>\n",
              "    </tr>\n",
              "    <tr>\n",
              "      <th>MG</th>\n",
              "      <td>6422</td>\n",
              "    </tr>\n",
              "    <tr>\n",
              "      <th>DF</th>\n",
              "      <td>5605</td>\n",
              "    </tr>\n",
              "    <tr>\n",
              "      <th>RS</th>\n",
              "      <td>5398</td>\n",
              "    </tr>\n",
              "    <tr>\n",
              "      <th>BA</th>\n",
              "      <td>4445</td>\n",
              "    </tr>\n",
              "    <tr>\n",
              "      <th>PE</th>\n",
              "      <td>4220</td>\n",
              "    </tr>\n",
              "    <tr>\n",
              "      <th>CE</th>\n",
              "      <td>3539</td>\n",
              "    </tr>\n",
              "    <tr>\n",
              "      <th>PR</th>\n",
              "      <td>3088</td>\n",
              "    </tr>\n",
              "    <tr>\n",
              "      <th>GO</th>\n",
              "      <td>2950</td>\n",
              "    </tr>\n",
              "  </tbody>\n",
              "</table>\n",
              "</div>"
            ],
            "text/plain": [
              "     Estado\n",
              " SP   20673\n",
              " RJ    9780\n",
              " MG    6422\n",
              " DF    5605\n",
              " RS    5398\n",
              " BA    4445\n",
              " PE    4220\n",
              " CE    3539\n",
              " PR    3088\n",
              " GO    2950"
            ]
          },
          "metadata": {
            "tags": []
          },
          "execution_count": 106
        }
      ]
    },
    {
      "cell_type": "code",
      "metadata": {
        "colab": {
          "base_uri": "https://localhost:8080/",
          "height": 489
        },
        "id": "YBOLiQHFsPs0",
        "outputId": "446dcb9e-890e-4124-9ce0-a4f24d748407"
      },
      "source": [
        "plt.bar(df_Estado.index,df_Estado['Estado'])\n",
        "plt.show()"
      ],
      "execution_count": 93,
      "outputs": [
        {
          "output_type": "display_data",
          "data": {
            "image/png": "[encoded data removed]",
            "text/plain": [
              "<Figure size 800x550 with 1 Axes>"
            ]
          },
          "metadata": {
            "tags": []
          }
        }
      ]
    },
    {
      "cell_type": "markdown",
      "metadata": {
        "id": "yDqZOq_Ol5nh"
      },
      "source": [
        "####3.2 Avalições por Regiões em ordem descrescente. "
      ]
    },
    {
      "cell_type": "code",
      "metadata": {
        "id": "-RaVP2_qOzlX"
      },
      "source": [
        "df_Estado = df['Estado'].value_counts().to_frame()[:20] # https://www.kaggle.com/parulpandey/five-ways-to-use-value-counts https://re-thought.com/pandas-value_counts/https://re-thought.com/pandas-value_counts/\n",
        "df_Estado.head(10)"
      ],
      "execution_count": null,
      "outputs": []
    },
    {
      "cell_type": "markdown",
      "metadata": {
        "id": "F7vfhY7ij2ys"
      },
      "source": [
        "####3.3 Avalições por Estados em ordem descrescente."
      ]
    },
    {
      "cell_type": "code",
      "metadata": {
        "colab": {
          "base_uri": "https://localhost:8080/",
          "height": 204
        },
        "id": "VsEPxAro6III",
        "outputId": "9e2fb5fe-e776-4e89-81c9-5e489a239515"
      },
      "source": [
        "df_Adressregion = df['AddressRegion'].value_counts().to_frame() # https://www.kaggle.com/parulpandey/five-ways-to-use-value-counts https://re-thought.com/pandas-value_counts/https://re-thought.com/pandas-value_counts/\n",
        "df_Adressregion.head()"
      ],
      "execution_count": 55,
      "outputs": [
        {
          "output_type": "execute_result",
          "data": {
            "text/html": [
              "<div>\n",
              "<style scoped>\n",
              "    .dataframe tbody tr th:only-of-type {\n",
              "        vertical-align: middle;\n",
              "    }\n",
              "\n",
              "    .dataframe tbody tr th {\n",
              "        vertical-align: top;\n",
              "    }\n",
              "\n",
              "    .dataframe thead th {\n",
              "        text-align: right;\n",
              "    }\n",
              "</style>\n",
              "<table border=\"1\" class=\"dataframe\">\n",
              "  <thead>\n",
              "    <tr style=\"text-align: right;\">\n",
              "      <th></th>\n",
              "      <th>AddressRegion</th>\n",
              "    </tr>\n",
              "  </thead>\n",
              "  <tbody>\n",
              "    <tr>\n",
              "      <th>Estado de São Paulo</th>\n",
              "      <td>17455</td>\n",
              "    </tr>\n",
              "    <tr>\n",
              "      <th>Estado do Rio de Janeiro</th>\n",
              "      <td>10583</td>\n",
              "    </tr>\n",
              "    <tr>\n",
              "      <th>Rio Grande do Norte</th>\n",
              "      <td>7075</td>\n",
              "    </tr>\n",
              "    <tr>\n",
              "      <th>Ceará</th>\n",
              "      <td>6206</td>\n",
              "    </tr>\n",
              "    <tr>\n",
              "      <th>Bahia</th>\n",
              "      <td>6030</td>\n",
              "    </tr>\n",
              "  </tbody>\n",
              "</table>\n",
              "</div>"
            ],
            "text/plain": [
              "                          AddressRegion\n",
              "Estado de São Paulo               17455\n",
              "Estado do Rio de Janeiro          10583\n",
              "Rio Grande do Norte                7075\n",
              "Ceará                              6206\n",
              "Bahia                              6030"
            ]
          },
          "metadata": {
            "tags": []
          },
          "execution_count": 55
        }
      ]
    },
    {
      "cell_type": "code",
      "metadata": {
        "colab": {
          "base_uri": "https://localhost:8080/",
          "height": 686
        },
        "id": "a7KAjxJsIspj",
        "outputId": "150c6f0e-a331-414c-f188-1767b0de6b69"
      },
      "source": [
        "#Gráfico de Estados com mais avalições em ordem descrescente. \n",
        "fig = plt.figure(figsize=(30,10)) \n",
        "sns.countplot(y='AddressRegion', order = df['AddressRegion'].value_counts().index, data=df)\n",
        "plt.title('Estados com mais avaliações',fontsize=40)\n",
        "plt.xticks(fontsize=10)\n",
        "plt.yticks(fontsize=10)\n",
        "#plt.ylim(0.1,30)"
      ],
      "execution_count": 83,
      "outputs": [
        {
          "output_type": "execute_result",
          "data": {
            "text/plain": [
              "(array([ 0,  1,  2,  3,  4,  5,  6,  7,  8,  9, 10, 11, 12, 13, 14, 15, 16,\n",
              "        17, 18, 19, 20, 21, 22, 23, 24, 25, 26]),\n",
              " <a list of 27 Text major ticklabel objects>)"
            ]
          },
          "metadata": {
            "tags": []
          },
          "execution_count": 83
        },
        {
          "output_type": "display_data",
          "data": {
            "image/png": "[encoded data removed]",
            "text/plain": [
              "<Figure size 2160x720 with 1 Axes>"
            ]
          },
          "metadata": {
            "tags": []
          }
        }
      ]
    },
    {
      "cell_type": "markdown",
      "metadata": {
        "id": "CY3m1ai2khQq"
      },
      "source": [
        "####3.4 Avalições de Estabelecimentos feitas por Amazonenses "
      ]
    },
    {
      "cell_type": "code",
      "metadata": {
        "id": "RbWEpPDM5WUP",
        "outputId": "7f819834-a007-4c3f-de50-f5524dfaf987",
        "colab": {
          "base_uri": "https://localhost:8080/"
        }
      },
      "source": [
        "df_am = df[df['AddressRegion']=='Rio Amazonas'] \n",
        "df_am2 = df_am.loc[:'AddressRegion','Name']\n",
        "sorted(df_am2, reverse=True)\n",
        "df_am2.head(100000)"
      ],
      "execution_count": 283,
      "outputs": [
        {
          "output_type": "execute_result",
          "data": {
            "text/plain": [
              "67       Alentejo Cozinha Portuguesa\n",
              "121      Alentejo Cozinha Portuguesa\n",
              "159                              Ara\n",
              "205                 Tacacá da Gisela\n",
              "223                   Fabrica do Pao\n",
              "                    ...             \n",
              "99743                 Bar Do Armando\n",
              "99744                  Caxiri Manaus\n",
              "99808              Coco Bambu Manaus\n",
              "99869                    La Parrilla\n",
              "99999              Coco Bambu Manaus\n",
              "Name: Name, Length: 1506, dtype: object"
            ]
          },
          "metadata": {
            "tags": []
          },
          "execution_count": 283
        }
      ]
    },
    {
      "cell_type": "markdown",
      "metadata": {
        "id": "OqwbsIKZlJPM"
      },
      "source": [
        "####3.4 Estabelecimentos de Manaus com comentários em decrescente "
      ]
    },
    {
      "cell_type": "code",
      "metadata": {
        "id": "gNIXiMFk2K4U"
      },
      "source": [
        "listOfDataBase = list()\n",
        "listOfData = []\n",
        " \n",
        "def findKeys(dataBase):\n",
        "    for register in dataBase:\n",
        "        try:\n",
        "            cols = register.split('\\n')\n",
        "            listOfDataBase.append(cols[0])\n",
        "        except UnicodeDecodeError:\n",
        "            print(\"Error on uncode decode findkeys\")\n",
        "    print(\"Find Keys: \",listOfDataBase)\n"
      ],
      "execution_count": 16,
      "outputs": []
    },
    {
      "cell_type": "markdown",
      "metadata": {
        "id": "m6ZAMtjX2wNR"
      },
      "source": [
        "Iteração das chaves e dos valores"
      ]
    },
    {
      "cell_type": "markdown",
      "metadata": {
        "id": "rrhp2yFG3YcM"
      },
      "source": [
        "Exibir do conteúdo por chave e valor"
      ]
    },
    {
      "cell_type": "markdown",
      "metadata": {
        "id": "P2wMD-7g3WNm"
      },
      "source": [
        ""
      ]
    },
    {
      "cell_type": "code",
      "metadata": {
        "id": "A-x9ajYsyNZC"
      },
      "source": [
        "dados"
      ],
      "execution_count": null,
      "outputs": []
    },
    {
      "cell_type": "code",
      "metadata": {
        "id": "PLBpeBeEelHN"
      },
      "source": [
        "dados.info()"
      ],
      "execution_count": null,
      "outputs": []
    },
    {
      "cell_type": "code",
      "metadata": {
        "id": "tAKDhW6kyz01"
      },
      "source": [
        "diaDaVisita = dados.iloc[:,9:10]\n",
        "diaDaVisita"
      ],
      "execution_count": null,
      "outputs": []
    },
    {
      "cell_type": "code",
      "metadata": {
        "id": "lfYuCOWDJOdY"
      },
      "source": [
        "dados.count()"
      ],
      "execution_count": null,
      "outputs": []
    },
    {
      "cell_type": "code",
      "metadata": {
        "id": "FqDxYdQq2SrB"
      },
      "source": [
        "dados.duplicated()"
      ],
      "execution_count": null,
      "outputs": []
    },
    {
      "cell_type": "code",
      "metadata": {
        "id": "77RiauiozZEU"
      },
      "source": [
        "avaliacaoGeral = dados.iloc[:,10:11]\n",
        "avaliacaoGeral.describe()"
      ],
      "execution_count": null,
      "outputs": []
    },
    {
      "cell_type": "code",
      "metadata": {
        "id": "DHm6-0qe0N4O"
      },
      "source": [
        "dispositivoMovel = dados.iloc[:,6:7]\n",
        "dispositivoMovel"
      ],
      "execution_count": null,
      "outputs": []
    },
    {
      "cell_type": "markdown",
      "metadata": {
        "id": "66n5BsHJke84"
      },
      "source": [
        ""
      ]
    },
    {
      "cell_type": "code",
      "metadata": {
        "id": "8r5mJQcr1RLe",
        "outputId": "1543ad79-d926-4a49-b4ec-43570940933c",
        "colab": {
          "base_uri": "https://localhost:8080/",
          "height": 0
        }
      },
      "source": [
        "df_am= df.groupby('estado')[u'cidade'].value_counts(ascending=True).to_frame()\n",
        "df_am.head()"
      ],
      "execution_count": 243,
      "outputs": [
        {
          "output_type": "execute_result",
          "data": {
            "text/html": [
              "<div>\n",
              "<style scoped>\n",
              "    .dataframe tbody tr th:only-of-type {\n",
              "        vertical-align: middle;\n",
              "    }\n",
              "\n",
              "    .dataframe tbody tr th {\n",
              "        vertical-align: top;\n",
              "    }\n",
              "\n",
              "    .dataframe thead th {\n",
              "        text-align: right;\n",
              "    }\n",
              "</style>\n",
              "<table border=\"1\" class=\"dataframe\">\n",
              "  <thead>\n",
              "    <tr style=\"text-align: right;\">\n",
              "      <th></th>\n",
              "      <th></th>\n",
              "      <th>cidade</th>\n",
              "    </tr>\n",
              "    <tr>\n",
              "      <th>estado</th>\n",
              "      <th>cidade</th>\n",
              "      <th></th>\n",
              "    </tr>\n",
              "  </thead>\n",
              "  <tbody>\n",
              "    <tr>\n",
              "      <th rowspan=\"5\" valign=\"top\">AC</th>\n",
              "      <th>Brasiléia</th>\n",
              "      <td>1</td>\n",
              "    </tr>\n",
              "    <tr>\n",
              "      <th>Epitaciolândia</th>\n",
              "      <td>1</td>\n",
              "    </tr>\n",
              "    <tr>\n",
              "      <th>Feijó</th>\n",
              "      <td>1</td>\n",
              "    </tr>\n",
              "    <tr>\n",
              "      <th>Xapuri</th>\n",
              "      <td>1</td>\n",
              "    </tr>\n",
              "    <tr>\n",
              "      <th>Senador Guiomard</th>\n",
              "      <td>3</td>\n",
              "    </tr>\n",
              "  </tbody>\n",
              "</table>\n",
              "</div>"
            ],
            "text/plain": [
              "                         cidade\n",
              "estado cidade                  \n",
              " AC    Brasiléia              1\n",
              "       Epitaciolândia         1\n",
              "       Feijó                  1\n",
              "       Xapuri                 1\n",
              "       Senador Guiomard       3"
            ]
          },
          "metadata": {
            "tags": []
          },
          "execution_count": 243
        }
      ]
    },
    {
      "cell_type": "code",
      "metadata": {
        "id": "WwqIRAAE33dJ",
        "outputId": "8ac4c693-473c-4ca6-e346-721667de59b1",
        "colab": {
          "base_uri": "https://localhost:8080/",
          "height": 0
        }
      },
      "source": [
        "df_am2 = df[df['AddressRegion']=='Rio Amazonas']\n",
        "df_am2 = df_am2['Name']\n",
        "df_am2.head(20).to_frame()"
      ],
      "execution_count": 252,
      "outputs": [
        {
          "output_type": "execute_result",
          "data": {
            "text/html": [
              "<div>\n",
              "<style scoped>\n",
              "    .dataframe tbody tr th:only-of-type {\n",
              "        vertical-align: middle;\n",
              "    }\n",
              "\n",
              "    .dataframe tbody tr th {\n",
              "        vertical-align: top;\n",
              "    }\n",
              "\n",
              "    .dataframe thead th {\n",
              "        text-align: right;\n",
              "    }\n",
              "</style>\n",
              "<table border=\"1\" class=\"dataframe\">\n",
              "  <thead>\n",
              "    <tr style=\"text-align: right;\">\n",
              "      <th></th>\n",
              "      <th>Name</th>\n",
              "    </tr>\n",
              "  </thead>\n",
              "  <tbody>\n",
              "    <tr>\n",
              "      <th>67</th>\n",
              "      <td>Alentejo Cozinha Portuguesa</td>\n",
              "    </tr>\n",
              "    <tr>\n",
              "      <th>121</th>\n",
              "      <td>Alentejo Cozinha Portuguesa</td>\n",
              "    </tr>\n",
              "    <tr>\n",
              "      <th>159</th>\n",
              "      <td>Ara</td>\n",
              "    </tr>\n",
              "    <tr>\n",
              "      <th>205</th>\n",
              "      <td>Tacacá da Gisela</td>\n",
              "    </tr>\n",
              "    <tr>\n",
              "      <th>223</th>\n",
              "      <td>Fabrica do Pao</td>\n",
              "    </tr>\n",
              "    <tr>\n",
              "      <th>228</th>\n",
              "      <td>La Parrilla</td>\n",
              "    </tr>\n",
              "    <tr>\n",
              "      <th>399</th>\n",
              "      <td>Toreador</td>\n",
              "    </tr>\n",
              "    <tr>\n",
              "      <th>406</th>\n",
              "      <td>Canto da Peixada</td>\n",
              "    </tr>\n",
              "    <tr>\n",
              "      <th>442</th>\n",
              "      <td>Olé Gastrobar</td>\n",
              "    </tr>\n",
              "    <tr>\n",
              "      <th>452</th>\n",
              "      <td>Alentejo Cozinha Portuguesa</td>\n",
              "    </tr>\n",
              "    <tr>\n",
              "      <th>464</th>\n",
              "      <td>Caxiri Manaus</td>\n",
              "    </tr>\n",
              "    <tr>\n",
              "      <th>510</th>\n",
              "      <td>Bar Do Armando</td>\n",
              "    </tr>\n",
              "    <tr>\n",
              "      <th>585</th>\n",
              "      <td>Cachaçaria do Dedé e Empório - Manauara Shopping</td>\n",
              "    </tr>\n",
              "    <tr>\n",
              "      <th>594</th>\n",
              "      <td>Peixaria Poraquê</td>\n",
              "    </tr>\n",
              "    <tr>\n",
              "      <th>698</th>\n",
              "      <td>Cantina Ghiotto</td>\n",
              "    </tr>\n",
              "    <tr>\n",
              "      <th>771</th>\n",
              "      <td>Banzeiro</td>\n",
              "    </tr>\n",
              "    <tr>\n",
              "      <th>827</th>\n",
              "      <td>Cachaçaria do Dedé e Empório - Manauara Shopping</td>\n",
              "    </tr>\n",
              "    <tr>\n",
              "      <th>1059</th>\n",
              "      <td>Coco Bambu Manaus</td>\n",
              "    </tr>\n",
              "    <tr>\n",
              "      <th>1116</th>\n",
              "      <td>Cantina Ghiotto</td>\n",
              "    </tr>\n",
              "    <tr>\n",
              "      <th>1180</th>\n",
              "      <td>Casa monsenhor</td>\n",
              "    </tr>\n",
              "  </tbody>\n",
              "</table>\n",
              "</div>"
            ],
            "text/plain": [
              "                                                  Name\n",
              "67                         Alentejo Cozinha Portuguesa\n",
              "121                        Alentejo Cozinha Portuguesa\n",
              "159                                                Ara\n",
              "205                                   Tacacá da Gisela\n",
              "223                                     Fabrica do Pao\n",
              "228                                        La Parrilla\n",
              "399                                           Toreador\n",
              "406                                   Canto da Peixada\n",
              "442                                      Olé Gastrobar\n",
              "452                        Alentejo Cozinha Portuguesa\n",
              "464                                      Caxiri Manaus\n",
              "510                                     Bar Do Armando\n",
              "585   Cachaçaria do Dedé e Empório - Manauara Shopping\n",
              "594                                   Peixaria Poraquê\n",
              "698                                    Cantina Ghiotto\n",
              "771                                           Banzeiro\n",
              "827   Cachaçaria do Dedé e Empório - Manauara Shopping\n",
              "1059                                 Coco Bambu Manaus\n",
              "1116                                   Cantina Ghiotto\n",
              "1180                                    Casa monsenhor"
            ]
          },
          "metadata": {
            "tags": []
          },
          "execution_count": 252
        }
      ]
    },
    {
      "cell_type": "markdown",
      "metadata": {
        "id": "kkQ1EhLnKwa7"
      },
      "source": [
        "## Histograma x Comentários "
      ]
    },
    {
      "cell_type": "markdown",
      "metadata": {
        "id": "GlH3Y-3wbX_h"
      },
      "source": [
        "####1.2. Informações sobre o DataFrame"
      ]
    },
    {
      "cell_type": "code",
      "metadata": {
        "id": "uc1v5i81xaqI"
      },
      "source": [
        "dados['title']"
      ],
      "execution_count": null,
      "outputs": []
    },
    {
      "cell_type": "code",
      "metadata": {
        "id": "0cO7s9xihiFD"
      },
      "source": [
        "profile = ProfileReport(dados, title='Pandas Profile Report', html={'style':{'full_width':True}})"
      ],
      "execution_count": null,
      "outputs": []
    },
    {
      "cell_type": "code",
      "metadata": {
        "id": "ZVDj0nyuU9x7"
      },
      "source": [
        "localDoUsuario = dados.iloc[:,7:8]\n",
        "localDoUsuario"
      ],
      "execution_count": null,
      "outputs": []
    },
    {
      "cell_type": "code",
      "metadata": {
        "id": "r2eN6NA0Rk5s"
      },
      "source": [
        "df_rating = df.groupby(by='AverageRating').count()\n",
        "df_rating.head()"
      ],
      "execution_count": null,
      "outputs": []
    },
    {
      "cell_type": "code",
      "metadata": {
        "id": "N_KAJ-Hxj-Gu"
      },
      "source": [
        "df['AverageRating'].plot.hist(bins=20)"
      ],
      "execution_count": null,
      "outputs": []
    },
    {
      "cell_type": "markdown",
      "metadata": {
        "id": "L1QmgeK9P8zS"
      },
      "source": [
        "### 2. Análise dos Dados do Dataframe"
      ]
    },
    {
      "cell_type": "code",
      "metadata": {
        "id": "wo28YNneq1fq",
        "colab": {
          "base_uri": "https://localhost:8080/",
          "height": 323
        },
        "outputId": "8eecce55-49cf-4fe5-a5fb-5d7eb69928b5"
      },
      "source": [
        "import pandas_profiling as ppf \n",
        "ppf.ProfileReport(df)"
      ],
      "execution_count": 255,
      "outputs": [
        {
          "output_type": "error",
          "ename": "TypeError",
          "evalue": "ignored",
          "traceback": [
            "\u001b[0;31m---------------------------------------------------------------------------\u001b[0m",
            "\u001b[0;31mTypeError\u001b[0m                                 Traceback (most recent call last)",
            "\u001b[0;32m<ipython-input-255-07dcc0af818d>\u001b[0m in \u001b[0;36m<module>\u001b[0;34m()\u001b[0m\n\u001b[1;32m      1\u001b[0m \u001b[0;32mimport\u001b[0m \u001b[0mpandas_profiling\u001b[0m \u001b[0;32mas\u001b[0m \u001b[0mppf\u001b[0m\u001b[0;34m\u001b[0m\u001b[0;34m\u001b[0m\u001b[0m\n\u001b[0;32m----> 2\u001b[0;31m \u001b[0mppf\u001b[0m\u001b[0;34m.\u001b[0m\u001b[0mProfileReport\u001b[0m\u001b[0;34m(\u001b[0m\u001b[0mdf\u001b[0m\u001b[0;34m)\u001b[0m\u001b[0;34m\u001b[0m\u001b[0;34m\u001b[0m\u001b[0m\n\u001b[0m",
            "\u001b[0;32m/usr/local/lib/python3.6/dist-packages/pandas_profiling/__init__.py\u001b[0m in \u001b[0;36m__init__\u001b[0;34m(self, df, **kwargs)\u001b[0m\n\u001b[1;32m     64\u001b[0m         \u001b[0msample\u001b[0m \u001b[0;34m=\u001b[0m \u001b[0mkwargs\u001b[0m\u001b[0;34m.\u001b[0m\u001b[0mget\u001b[0m\u001b[0;34m(\u001b[0m\u001b[0;34m'sample'\u001b[0m\u001b[0;34m,\u001b[0m \u001b[0mdf\u001b[0m\u001b[0;34m.\u001b[0m\u001b[0mhead\u001b[0m\u001b[0;34m(\u001b[0m\u001b[0;34m)\u001b[0m\u001b[0;34m)\u001b[0m\u001b[0;34m\u001b[0m\u001b[0;34m\u001b[0m\u001b[0m\n\u001b[1;32m     65\u001b[0m \u001b[0;34m\u001b[0m\u001b[0m\n\u001b[0;32m---> 66\u001b[0;31m         \u001b[0mdescription_set\u001b[0m \u001b[0;34m=\u001b[0m \u001b[0mdescribe\u001b[0m\u001b[0;34m(\u001b[0m\u001b[0mdf\u001b[0m\u001b[0;34m,\u001b[0m \u001b[0;34m**\u001b[0m\u001b[0mkwargs\u001b[0m\u001b[0;34m)\u001b[0m\u001b[0;34m\u001b[0m\u001b[0;34m\u001b[0m\u001b[0m\n\u001b[0m\u001b[1;32m     67\u001b[0m \u001b[0;34m\u001b[0m\u001b[0m\n\u001b[1;32m     68\u001b[0m         self.html = to_html(sample,\n",
            "\u001b[0;32m/usr/local/lib/python3.6/dist-packages/pandas_profiling/describe.py\u001b[0m in \u001b[0;36mdescribe\u001b[0;34m(df, bins, check_correlation, correlation_threshold, correlation_overrides, check_recoded, pool_size, **kwargs)\u001b[0m\n\u001b[1;32m    390\u001b[0m             \u001b[0;32mif\u001b[0m \u001b[0mname\u001b[0m \u001b[0;32mnot\u001b[0m \u001b[0;32min\u001b[0m \u001b[0mnames\u001b[0m\u001b[0;34m:\u001b[0m\u001b[0;34m\u001b[0m\u001b[0;34m\u001b[0m\u001b[0m\n\u001b[1;32m    391\u001b[0m                 \u001b[0mnames\u001b[0m\u001b[0;34m.\u001b[0m\u001b[0mappend\u001b[0m\u001b[0;34m(\u001b[0m\u001b[0mname\u001b[0m\u001b[0;34m)\u001b[0m\u001b[0;34m\u001b[0m\u001b[0;34m\u001b[0m\u001b[0m\n\u001b[0;32m--> 392\u001b[0;31m     \u001b[0mvariable_stats\u001b[0m \u001b[0;34m=\u001b[0m \u001b[0mpd\u001b[0m\u001b[0;34m.\u001b[0m\u001b[0mconcat\u001b[0m\u001b[0;34m(\u001b[0m\u001b[0mldesc\u001b[0m\u001b[0;34m,\u001b[0m \u001b[0mjoin_axes\u001b[0m\u001b[0;34m=\u001b[0m\u001b[0mpd\u001b[0m\u001b[0;34m.\u001b[0m\u001b[0mIndex\u001b[0m\u001b[0;34m(\u001b[0m\u001b[0;34m[\u001b[0m\u001b[0mnames\u001b[0m\u001b[0;34m]\u001b[0m\u001b[0;34m)\u001b[0m\u001b[0;34m,\u001b[0m \u001b[0maxis\u001b[0m\u001b[0;34m=\u001b[0m\u001b[0;36m1\u001b[0m\u001b[0;34m)\u001b[0m\u001b[0;34m\u001b[0m\u001b[0;34m\u001b[0m\u001b[0m\n\u001b[0m\u001b[1;32m    393\u001b[0m     \u001b[0mvariable_stats\u001b[0m\u001b[0;34m.\u001b[0m\u001b[0mcolumns\u001b[0m\u001b[0;34m.\u001b[0m\u001b[0mnames\u001b[0m \u001b[0;34m=\u001b[0m \u001b[0mdf\u001b[0m\u001b[0;34m.\u001b[0m\u001b[0mcolumns\u001b[0m\u001b[0;34m.\u001b[0m\u001b[0mnames\u001b[0m\u001b[0;34m\u001b[0m\u001b[0;34m\u001b[0m\u001b[0m\n\u001b[1;32m    394\u001b[0m \u001b[0;34m\u001b[0m\u001b[0m\n",
            "\u001b[0;31mTypeError\u001b[0m: concat() got an unexpected keyword argument 'join_axes'"
          ]
        }
      ]
    },
    {
      "cell_type": "code",
      "metadata": {
        "id": "XQB2vR2w1dle"
      },
      "source": [
        "sns.countplot(dados.groupby('publicationDate').userLocation.count());"
      ],
      "execution_count": null,
      "outputs": []
    },
    {
      "cell_type": "code",
      "metadata": {
        "id": "IaI-LjGd3gTv"
      },
      "source": [
        "dados.groupby('userLocation').averageRating.count().plot()"
      ],
      "execution_count": null,
      "outputs": []
    },
    {
      "cell_type": "code",
      "metadata": {
        "id": "kcAQljAr3Pkq"
      },
      "source": [
        "sns.countplot(dados.averageRating);"
      ],
      "execution_count": null,
      "outputs": []
    },
    {
      "cell_type": "code",
      "metadata": {
        "id": "wOgTGh933FgW"
      },
      "source": [
        "sns.countplot(dados.ratingValue);"
      ],
      "execution_count": null,
      "outputs": []
    },
    {
      "cell_type": "code",
      "metadata": {
        "id": "36NC1R7X3XAj"
      },
      "source": [
        "sns.catplot(x=\"mobileDevice\", kind=\"count\", palette=\"ch:.25\", data=dados)"
      ],
      "execution_count": null,
      "outputs": []
    },
    {
      "cell_type": "markdown",
      "metadata": {
        "id": "FWMEPM_BcHZ8"
      },
      "source": [
        "### 4. Analise dos Sentimentos "
      ]
    },
    {
      "cell_type": "code",
      "metadata": {
        "id": "WckFGBHC4Dmq"
      },
      "source": [
        "def translateByTextBlob():\n",
        "  dic2 = pd.DataFrame(dados)\n",
        "  dic2['reviewBody']\n",
        "  count = 0\n",
        "  for _x in dic2['reviewBody']:\n",
        "      count = count + 1  \n",
        "      print(type(_x))\n",
        "      x = _x.encode('utf-16', 'surrogatepass').decode('utf-16')\n",
        "      print(x)\n",
        "      \n",
        "      print(count) #vai imprimir todos os reviews= \n",
        "          \n",
        "      comentario_blob = TextBlob(x)\n",
        "      print(type(comentario_blob))\n",
        "      comentario_blob_us = comentario_blob.translate(to='us')\n",
        "\n",
        "      for sentence_br, sentence in zip(comentario_blob.sentences, comentario_blob_us.sentences):\n",
        "          print(sentence_br, ':', sentence.sentiment.subjectivity)\n",
        "      if count == 5:\n",
        "          print('**End**')\n",
        "          break  "
      ],
      "execution_count": null,
      "outputs": []
    },
    {
      "cell_type": "code",
      "metadata": {
        "id": "uyBYkV5v4hee"
      },
      "source": [
        "translateByTextBlob()"
      ],
      "execution_count": null,
      "outputs": []
    }
  ]
}